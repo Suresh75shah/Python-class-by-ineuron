{
  "cells": [
    {
      "cell_type": "markdown",
      "metadata": {
        "id": "view-in-github",
        "colab_type": "text"
      },
      "source": [
        "<a href=\"https://colab.research.google.com/github/Suresh75shah/Python-class-by-ineuron/blob/main/L_11_Function_continued_.ipynb\" target=\"_parent\"><img src=\"https://colab.research.google.com/assets/colab-badge.svg\" alt=\"Open In Colab\"/></a>"
      ]
    },
    {
      "cell_type": "code",
      "execution_count": null,
      "id": "8c4ac194",
      "metadata": {
        "id": "8c4ac194"
      },
      "outputs": [],
      "source": [
        "def test(a , b) :\n",
        "    \"\"\"this is my function for concatination or addition \"\"\"\n",
        "    return a + b\n",
        "    "
      ]
    },
    {
      "cell_type": "code",
      "execution_count": null,
      "id": "57c9e144",
      "metadata": {
        "id": "57c9e144",
        "outputId": "9ed8e5e9-6e8c-4e7a-d699-2e2e5c92a537"
      },
      "outputs": [
        {
          "data": {
            "text/plain": [
              "10"
            ]
          },
          "execution_count": 10,
          "metadata": {},
          "output_type": "execute_result"
        }
      ],
      "source": [
        "test(4,6)"
      ]
    },
    {
      "cell_type": "code",
      "execution_count": null,
      "id": "4a8f16e3",
      "metadata": {
        "id": "4a8f16e3",
        "outputId": "7136c80e-9ca1-459c-bc14-a3c682c45022"
      },
      "outputs": [
        {
          "data": {
            "text/plain": [
              "'sudhkumar'"
            ]
          },
          "execution_count": 4,
          "metadata": {},
          "output_type": "execute_result"
        }
      ],
      "source": [
        "test(\"sudh\" , \"kumar\")"
      ]
    },
    {
      "cell_type": "code",
      "execution_count": null,
      "id": "b2c7ba78",
      "metadata": {
        "id": "b2c7ba78",
        "outputId": "9eb7b876-fa26-480c-f74d-8233aa100a47"
      },
      "outputs": [
        {
          "data": {
            "text/plain": [
              "15"
            ]
          },
          "execution_count": 5,
          "metadata": {},
          "output_type": "execute_result"
        }
      ],
      "source": [
        "test(a = 9  , b = 6 )"
      ]
    },
    {
      "cell_type": "code",
      "execution_count": null,
      "id": "8dfdf9f5",
      "metadata": {
        "id": "8dfdf9f5",
        "outputId": "51484fd8-03ce-4e91-95cc-c5b5bf06445d"
      },
      "outputs": [
        {
          "data": {
            "text/plain": [
              "48"
            ]
          },
          "execution_count": 6,
          "metadata": {},
          "output_type": "execute_result"
        }
      ],
      "source": [
        "test(b = 45 , a = 3)"
      ]
    },
    {
      "cell_type": "code",
      "execution_count": null,
      "id": "efdfc7a0",
      "metadata": {
        "id": "efdfc7a0"
      },
      "outputs": [],
      "source": [
        "print()"
      ]
    },
    {
      "cell_type": "code",
      "execution_count": null,
      "id": "dd9fd2e6",
      "metadata": {
        "id": "dd9fd2e6"
      },
      "outputs": [],
      "source": [
        "def test1(a,b,c,d,e) :\n",
        "    return a ,b ,c,d,e\n",
        "    "
      ]
    },
    {
      "cell_type": "code",
      "execution_count": null,
      "id": "21deeecc",
      "metadata": {
        "id": "21deeecc",
        "outputId": "28eb6d1e-d909-4c55-b36a-0bced5431974"
      },
      "outputs": [
        {
          "ename": "TypeError",
          "evalue": "test1() missing 1 required positional argument: 'e'",
          "output_type": "error",
          "traceback": [
            "\u001b[1;31m---------------------------------------------------------------------------\u001b[0m",
            "\u001b[1;31mTypeError\u001b[0m                                 Traceback (most recent call last)",
            "\u001b[1;32m~\\AppData\\Local\\Temp/ipykernel_7960/2630490214.py\u001b[0m in \u001b[0;36m<module>\u001b[1;34m\u001b[0m\n\u001b[1;32m----> 1\u001b[1;33m \u001b[0mtest1\u001b[0m\u001b[1;33m(\u001b[0m\u001b[1;36m3\u001b[0m\u001b[1;33m,\u001b[0m\u001b[1;36m4\u001b[0m\u001b[1;33m,\u001b[0m\u001b[1;36m5\u001b[0m\u001b[1;33m,\u001b[0m\u001b[1;36m6\u001b[0m\u001b[1;33m)\u001b[0m\u001b[1;33m\u001b[0m\u001b[1;33m\u001b[0m\u001b[0m\n\u001b[0m",
            "\u001b[1;31mTypeError\u001b[0m: test1() missing 1 required positional argument: 'e'"
          ]
        }
      ],
      "source": [
        "test1(3,4,5,6)"
      ]
    },
    {
      "cell_type": "code",
      "execution_count": null,
      "id": "e4bbced7",
      "metadata": {
        "id": "e4bbced7"
      },
      "outputs": [],
      "source": [
        "def test(*a):\n",
        "    return a"
      ]
    },
    {
      "cell_type": "code",
      "execution_count": null,
      "id": "1c32c74c",
      "metadata": {
        "id": "1c32c74c",
        "outputId": "61e6bae1-323a-45f2-8bc4-6ab69ad17a59"
      },
      "outputs": [
        {
          "data": {
            "text/plain": [
              "(34, 56)"
            ]
          },
          "execution_count": 16,
          "metadata": {},
          "output_type": "execute_result"
        }
      ],
      "source": [
        "test(34,56)"
      ]
    },
    {
      "cell_type": "code",
      "execution_count": null,
      "id": "a1622430",
      "metadata": {
        "id": "a1622430",
        "outputId": "1cca02f3-882d-47ed-890f-67f53a314af9"
      },
      "outputs": [
        {
          "data": {
            "text/plain": [
              "(2, 3, 4, 4)"
            ]
          },
          "execution_count": 17,
          "metadata": {},
          "output_type": "execute_result"
        }
      ],
      "source": [
        "test(2,3,4,4)"
      ]
    },
    {
      "cell_type": "code",
      "execution_count": null,
      "id": "cb36ee2e",
      "metadata": {
        "id": "cb36ee2e",
        "outputId": "c83934ff-5c7b-4b28-f192-909cfb573e8f"
      },
      "outputs": [
        {
          "data": {
            "text/plain": [
              "(4, 5, 6, 6, 6, [3, 4, 5, 5, 5, 6])"
            ]
          },
          "execution_count": 18,
          "metadata": {},
          "output_type": "execute_result"
        }
      ],
      "source": [
        "test(4,5,6,6,6,[3,4,5,5,5,6])"
      ]
    },
    {
      "cell_type": "code",
      "execution_count": null,
      "id": "035bb9ff",
      "metadata": {
        "id": "035bb9ff"
      },
      "outputs": [],
      "source": [
        "def test4(*args):\n",
        "    return args"
      ]
    },
    {
      "cell_type": "code",
      "execution_count": null,
      "id": "15c5b0af",
      "metadata": {
        "id": "15c5b0af",
        "outputId": "d6650865-b4a5-4e11-a0b7-b6a923733de0"
      },
      "outputs": [
        {
          "data": {
            "text/plain": [
              "(34, 56, 6, 76, 7)"
            ]
          },
          "execution_count": 20,
          "metadata": {},
          "output_type": "execute_result"
        }
      ],
      "source": [
        "test4(34,56,6,76,7)"
      ]
    },
    {
      "cell_type": "code",
      "execution_count": null,
      "id": "35ff9563",
      "metadata": {
        "id": "35ff9563"
      },
      "outputs": [],
      "source": [
        "def test5(*a) :\n",
        "    l = []\n",
        "    for i in a :\n",
        "        l.append(i)\n",
        "    return l"
      ]
    },
    {
      "cell_type": "code",
      "execution_count": null,
      "id": "5cb6b9a9",
      "metadata": {
        "id": "5cb6b9a9",
        "outputId": "59324bb8-c0a3-468a-88c6-11f888c07db1"
      },
      "outputs": [
        {
          "data": {
            "text/plain": [
              "[2, 3, 4, 45, 5, [345, 56, 5, 6]]"
            ]
          },
          "execution_count": 22,
          "metadata": {},
          "output_type": "execute_result"
        }
      ],
      "source": [
        "test5(2,3,4,45,5,[345,56,5,6])"
      ]
    },
    {
      "cell_type": "code",
      "execution_count": null,
      "id": "a7d303e8",
      "metadata": {
        "id": "a7d303e8",
        "outputId": "cc7a52d9-e5d9-4953-9e81-3dfabfb1c26c"
      },
      "outputs": [
        {
          "data": {
            "text/plain": [
              "[3, 4, 5, 56]"
            ]
          },
          "execution_count": 23,
          "metadata": {},
          "output_type": "execute_result"
        }
      ],
      "source": [
        "test5(3,4,5,56)"
      ]
    },
    {
      "cell_type": "code",
      "execution_count": null,
      "id": "6506865d",
      "metadata": {
        "id": "6506865d"
      },
      "outputs": [],
      "source": [
        "def test6(a,b,c,d , *m):\n",
        "    return a , b, c,d, m"
      ]
    },
    {
      "cell_type": "code",
      "execution_count": null,
      "id": "9e46bda9",
      "metadata": {
        "id": "9e46bda9",
        "outputId": "e160ae25-a193-423e-b39a-85b0b2b00e7e"
      },
      "outputs": [
        {
          "data": {
            "text/plain": [
              "(3, 4, 5, 5, (6, 6, 7, 7, 8, 8))"
            ]
          },
          "execution_count": 25,
          "metadata": {},
          "output_type": "execute_result"
        }
      ],
      "source": [
        "test6(3,4,5,5,6,6,7,7,8,8)"
      ]
    },
    {
      "cell_type": "code",
      "execution_count": null,
      "id": "dbcee1ef",
      "metadata": {
        "id": "dbcee1ef"
      },
      "outputs": [],
      "source": [
        "def test7(*m,a,b,c,d,e):\n",
        "    return m , a,b,c,d,e"
      ]
    },
    {
      "cell_type": "code",
      "execution_count": null,
      "id": "48971316",
      "metadata": {
        "id": "48971316",
        "outputId": "46112da2-6a71-41c6-eb4d-66880794a615"
      },
      "outputs": [
        {
          "data": {
            "text/plain": [
              "((4, 5, 65, 6, 6, 7, 7, 56), 67, 34, 54, 67, 78)"
            ]
          },
          "execution_count": 29,
          "metadata": {},
          "output_type": "execute_result"
        }
      ],
      "source": [
        "test7(4,5,65,6,6,7,7,56,a = 67,b  = 34,c = 54,d= 67,e = 78)"
      ]
    },
    {
      "cell_type": "code",
      "execution_count": null,
      "id": "93d66303",
      "metadata": {
        "id": "93d66303"
      },
      "outputs": [],
      "source": [
        "def test8(**sudh):\n",
        "    return sudh"
      ]
    },
    {
      "cell_type": "code",
      "execution_count": null,
      "id": "f81d76f0",
      "metadata": {
        "id": "f81d76f0",
        "outputId": "311691b7-cbf9-4dad-b463-cb962cfeb323"
      },
      "outputs": [
        {
          "data": {
            "text/plain": [
              "{'b': 4, 'c': 5, 'd': 6, 'e': 6, 'n': [3, 4, 45, 5, 6, 6, 6]}"
            ]
          },
          "execution_count": 39,
          "metadata": {},
          "output_type": "execute_result"
        }
      ],
      "source": [
        "test8(b = 4,c = 5,d =  6,e = 6 , n = [3,4,45,5,6,6,6])"
      ]
    },
    {
      "cell_type": "code",
      "execution_count": null,
      "id": "df0bb162",
      "metadata": {
        "id": "df0bb162"
      },
      "outputs": [],
      "source": [
        "def test11(*m):\n",
        "    n=1\n",
        "    for i in m:\n",
        "        if type(i)==int:\n",
        "            n=n*i\n",
        "        return n\n"
      ]
    },
    {
      "cell_type": "code",
      "execution_count": null,
      "id": "3861be80",
      "metadata": {
        "id": "3861be80"
      },
      "outputs": [],
      "source": [
        "test11(2,3,4,5,6,7,8)\n"
      ]
    },
    {
      "cell_type": "code",
      "execution_count": null,
      "id": "27ecf375",
      "metadata": {
        "id": "27ecf375"
      },
      "outputs": [],
      "source": [
        ""
      ]
    },
    {
      "cell_type": "code",
      "execution_count": null,
      "id": "8f4b1257",
      "metadata": {
        "id": "8f4b1257"
      },
      "outputs": [],
      "source": [
        "d = {'b': 4, 'c': 5, 'd': 6, 'e': 6}"
      ]
    },
    {
      "cell_type": "code",
      "execution_count": null,
      "id": "f70f758c",
      "metadata": {
        "id": "f70f758c",
        "outputId": "ae521599-37d8-4ea3-e1b5-eacc03acd680"
      },
      "outputs": [
        {
          "ename": "TypeError",
          "evalue": "test8() takes 0 positional arguments but 1 was given",
          "output_type": "error",
          "traceback": [
            "\u001b[1;31m---------------------------------------------------------------------------\u001b[0m",
            "\u001b[1;31mTypeError\u001b[0m                                 Traceback (most recent call last)",
            "\u001b[1;32m~\\AppData\\Local\\Temp/ipykernel_7960/2123698705.py\u001b[0m in \u001b[0;36m<module>\u001b[1;34m\u001b[0m\n\u001b[1;32m----> 1\u001b[1;33m \u001b[0mtest8\u001b[0m\u001b[1;33m(\u001b[0m\u001b[0md\u001b[0m\u001b[1;33m)\u001b[0m\u001b[1;33m\u001b[0m\u001b[1;33m\u001b[0m\u001b[0m\n\u001b[0m",
            "\u001b[1;31mTypeError\u001b[0m: test8() takes 0 positional arguments but 1 was given"
          ]
        }
      ],
      "source": [
        "test8(d)"
      ]
    },
    {
      "cell_type": "code",
      "execution_count": null,
      "id": "144b1dcf",
      "metadata": {
        "id": "144b1dcf"
      },
      "outputs": [],
      "source": [
        "def test9(*m , **s) :\n",
        "    return m , s"
      ]
    },
    {
      "cell_type": "code",
      "execution_count": null,
      "id": "a4644925",
      "metadata": {
        "id": "a4644925",
        "outputId": "034eca3b-06cd-4ad2-c26c-d8e9253eb1d1"
      },
      "outputs": [
        {
          "data": {
            "text/plain": [
              "((345, 45, 56, 5, 6, 56), {'b': 4, 'c': 6, 'd': 7, 'g': 9})"
            ]
          },
          "execution_count": 42,
          "metadata": {},
          "output_type": "execute_result"
        }
      ],
      "source": [
        "test9(345,45,56,5,6,56,b= 4,c= 6, d = 7 , g = 9)"
      ]
    },
    {
      "cell_type": "code",
      "execution_count": null,
      "id": "7967d620",
      "metadata": {
        "id": "7967d620"
      },
      "outputs": [],
      "source": [
        "def test10(*m):\n",
        "    n = 0\n",
        "    for i in m :\n",
        "        if type(i) == int :\n",
        "            n = n+i\n",
        "    return n\n",
        "            "
      ]
    },
    {
      "cell_type": "code",
      "execution_count": null,
      "id": "3aa2bfb8",
      "metadata": {
        "id": "3aa2bfb8",
        "outputId": "b9c5fd6e-e16d-4e4e-91a1-1b63c8af229a"
      },
      "outputs": [
        {
          "data": {
            "text/plain": [
              "31"
            ]
          },
          "execution_count": 45,
          "metadata": {},
          "output_type": "execute_result"
        }
      ],
      "source": [
        "test10(2,3,4,5,5,6,6)"
      ]
    },
    {
      "cell_type": "code",
      "execution_count": null,
      "id": "5fdeb17d",
      "metadata": {
        "id": "5fdeb17d",
        "outputId": "d13ec468-59ee-44d4-fb43-129dca59e9ad"
      },
      "outputs": [
        {
          "data": {
            "text/plain": [
              "9"
            ]
          },
          "execution_count": 46,
          "metadata": {},
          "output_type": "execute_result"
        }
      ],
      "source": [
        "test10(2,3,4)"
      ]
    },
    {
      "cell_type": "code",
      "execution_count": null,
      "id": "633e2a4d",
      "metadata": {
        "id": "633e2a4d"
      },
      "outputs": [],
      "source": [
        "def test1(*m):\n",
        "    n = 1\n",
        "    for i in m :\n",
        "        if type(i) == int :\n",
        "            n = n*i\n",
        "    return n\n",
        "            "
      ]
    },
    {
      "cell_type": "code",
      "execution_count": null,
      "id": "9a7b3f3c",
      "metadata": {
        "id": "9a7b3f3c",
        "outputId": "c3e4661a-a80d-47cd-d82d-1df425a77383"
      },
      "outputs": [
        {
          "data": {
            "text/plain": [
              "3507840"
            ]
          },
          "execution_count": 48,
          "metadata": {},
          "output_type": "execute_result"
        }
      ],
      "source": [
        "test1(4,5,6,6,7,87,8)"
      ]
    },
    {
      "cell_type": "code",
      "execution_count": null,
      "id": "a240987d",
      "metadata": {
        "id": "a240987d"
      },
      "outputs": [],
      "source": [
        "n = lambda a , b : a + b "
      ]
    },
    {
      "cell_type": "code",
      "execution_count": null,
      "id": "24747816",
      "metadata": {
        "id": "24747816",
        "outputId": "b12c3a08-85a2-409a-d99b-a985ecc229ce"
      },
      "outputs": [
        {
          "data": {
            "text/plain": [
              "9"
            ]
          },
          "execution_count": 52,
          "metadata": {},
          "output_type": "execute_result"
        }
      ],
      "source": [
        "n(4,5)"
      ]
    },
    {
      "cell_type": "code",
      "execution_count": null,
      "id": "1a6f8606",
      "metadata": {
        "id": "1a6f8606"
      },
      "outputs": [],
      "source": [
        "def test5(a,b):\n",
        "    return a + b "
      ]
    },
    {
      "cell_type": "code",
      "execution_count": null,
      "id": "c438cd09",
      "metadata": {
        "id": "c438cd09",
        "outputId": "bd8a6798-0c28-4737-8ce1-3c75688af48f"
      },
      "outputs": [
        {
          "data": {
            "text/plain": [
              "9"
            ]
          },
          "execution_count": 54,
          "metadata": {},
          "output_type": "execute_result"
        }
      ],
      "source": [
        "test5(4,5)"
      ]
    },
    {
      "cell_type": "code",
      "execution_count": null,
      "id": "f1274c0b",
      "metadata": {
        "id": "f1274c0b",
        "outputId": "12c635f3-5e40-4774-d862-5fafc88c809c"
      },
      "outputs": [
        {
          "data": {
            "text/plain": [
              "11"
            ]
          },
          "execution_count": 55,
          "metadata": {},
          "output_type": "execute_result"
        }
      ],
      "source": [
        "n(5,6)"
      ]
    },
    {
      "cell_type": "code",
      "execution_count": null,
      "id": "a33a46c7",
      "metadata": {
        "id": "a33a46c7"
      },
      "outputs": [],
      "source": [
        "b = lambda *sudh : sudh"
      ]
    },
    {
      "cell_type": "code",
      "execution_count": null,
      "id": "8661cc0a",
      "metadata": {
        "id": "8661cc0a",
        "outputId": "2684ae35-fd58-46c7-f73e-3bcb0925752b"
      },
      "outputs": [
        {
          "data": {
            "text/plain": [
              "(45, 5, 4, 5, 5, 6, 677)"
            ]
          },
          "execution_count": 57,
          "metadata": {},
          "output_type": "execute_result"
        }
      ],
      "source": [
        "b(45,5,4,5,5,6,677)"
      ]
    },
    {
      "cell_type": "code",
      "execution_count": null,
      "id": "c9cd5a0a",
      "metadata": {
        "id": "c9cd5a0a"
      },
      "outputs": [],
      "source": [
        "t = (3,4,4,5,5,6,67,7,7)\n",
        "l = []\n",
        "for i in t :\n",
        "    l.append(i)"
      ]
    },
    {
      "cell_type": "code",
      "execution_count": null,
      "id": "8f655ead",
      "metadata": {
        "id": "8f655ead",
        "outputId": "c17a159e-31c1-4045-f480-c67f483d5a4a"
      },
      "outputs": [
        {
          "data": {
            "text/plain": [
              "[3, 4, 4, 5, 5, 6, 67, 7, 7]"
            ]
          },
          "execution_count": 59,
          "metadata": {},
          "output_type": "execute_result"
        }
      ],
      "source": [
        "l"
      ]
    },
    {
      "cell_type": "code",
      "execution_count": null,
      "id": "83753bad",
      "metadata": {
        "id": "83753bad",
        "outputId": "713682a1-1ef5-4866-bb8e-7f52b5134e86"
      },
      "outputs": [
        {
          "data": {
            "text/plain": [
              "[3, 4, 4, 5, 5, 6, 67, 7, 7]"
            ]
          },
          "execution_count": 61,
          "metadata": {},
          "output_type": "execute_result"
        }
      ],
      "source": [
        "[i for i in t]"
      ]
    },
    {
      "cell_type": "code",
      "execution_count": null,
      "id": "ee397949",
      "metadata": {
        "id": "ee397949"
      },
      "outputs": [],
      "source": [
        "s = \"sudh\""
      ]
    },
    {
      "cell_type": "code",
      "execution_count": null,
      "id": "aa8d745b",
      "metadata": {
        "id": "aa8d745b",
        "outputId": "5d451a90-436f-4780-fb6c-67a09a222e81"
      },
      "outputs": [
        {
          "data": {
            "text/plain": [
              "['s', 'u', 'd', 'h']"
            ]
          },
          "execution_count": 63,
          "metadata": {},
          "output_type": "execute_result"
        }
      ],
      "source": [
        "[i for i in s ]"
      ]
    },
    {
      "cell_type": "code",
      "execution_count": null,
      "id": "282fb8ab",
      "metadata": {
        "id": "282fb8ab",
        "outputId": "37fee0be-1e51-49ad-804d-ea3205b9761f"
      },
      "outputs": [
        {
          "data": {
            "text/plain": [
              "[0, 1, 4, 9, 16, 25, 36, 49, 64, 81]"
            ]
          },
          "execution_count": 64,
          "metadata": {},
          "output_type": "execute_result"
        }
      ],
      "source": [
        "[i*i for i in range(10)]"
      ]
    },
    {
      "cell_type": "code",
      "execution_count": null,
      "id": "a6312326",
      "metadata": {
        "id": "a6312326"
      },
      "outputs": [],
      "source": [
        "l = []\n",
        "for i in range(10):\n",
        "    l.append(i*i)"
      ]
    },
    {
      "cell_type": "code",
      "execution_count": null,
      "id": "9a63b637",
      "metadata": {
        "id": "9a63b637",
        "outputId": "c7103e04-be66-434f-e71d-636d4cdf06d8"
      },
      "outputs": [
        {
          "data": {
            "text/plain": [
              "[0, 1, 4, 9, 16, 25, 36, 49, 64, 81]"
            ]
          },
          "execution_count": 66,
          "metadata": {},
          "output_type": "execute_result"
        }
      ],
      "source": [
        "l\n"
      ]
    },
    {
      "cell_type": "code",
      "execution_count": null,
      "id": "7ab81a42",
      "metadata": {
        "id": "7ab81a42"
      },
      "outputs": [],
      "source": [
        "l = lambda *x : [i**2 for i in x ]"
      ]
    },
    {
      "cell_type": "code",
      "execution_count": null,
      "id": "937a9e1a",
      "metadata": {
        "id": "937a9e1a",
        "outputId": "b7c9e862-dfa7-4549-97f0-98744cbad1b7"
      },
      "outputs": [
        {
          "data": {
            "text/plain": [
              "[16, 2025, 25, 36, 36, 49, 64, 81]"
            ]
          },
          "execution_count": 70,
          "metadata": {},
          "output_type": "execute_result"
        }
      ],
      "source": [
        "l(4,45,5,6,6,7,8,9)"
      ]
    },
    {
      "cell_type": "code",
      "execution_count": null,
      "id": "fbd6fb88",
      "metadata": {
        "id": "fbd6fb88"
      },
      "outputs": [],
      "source": [
        "test14(a = 7 , b = \"sudh\" , c = 345 , d = \"sudh\" , l = [2,3,4,45 , \"sudh\"])"
      ]
    },
    {
      "cell_type": "code",
      "execution_count": null,
      "id": "dfc97462",
      "metadata": {
        "id": "dfc97462"
      },
      "outputs": [],
      "source": [
        "def test14(**kwargs) : \n",
        "    "
      ]
    },
    {
      "cell_type": "code",
      "execution_count": null,
      "id": "b773de2d",
      "metadata": {
        "id": "b773de2d"
      },
      "outputs": [],
      "source": [
        "l = lambda *x : [i for i in x]\n"
      ]
    },
    {
      "cell_type": "code",
      "execution_count": null,
      "id": "3399aaa6",
      "metadata": {
        "id": "3399aaa6"
      },
      "outputs": [],
      "source": [
        ""
      ]
    },
    {
      "cell_type": "code",
      "execution_count": null,
      "id": "6236b359",
      "metadata": {
        "id": "6236b359"
      },
      "outputs": [],
      "source": [
        ""
      ]
    },
    {
      "cell_type": "code",
      "execution_count": null,
      "id": "bcdb3ea2",
      "metadata": {
        "id": "bcdb3ea2"
      },
      "outputs": [],
      "source": [
        ""
      ]
    },
    {
      "cell_type": "code",
      "execution_count": null,
      "id": "47852a10",
      "metadata": {
        "id": "47852a10"
      },
      "outputs": [],
      "source": [
        "def test14(**kwargs):\n",
        "    count = 0\n",
        "    print(kwargs)\n",
        "    print(kwargs.values())\n",
        "    for v in kwargs.values():\n",
        "        if type(v) == str:\n",
        "            count += 1\n",
        "        if type(v) == list :\n",
        "            for i in v :\n",
        "                if type(i) == str :\n",
        "                    count+= 1\n",
        "    return count\n",
        "\n"
      ]
    },
    {
      "cell_type": "code",
      "execution_count": null,
      "id": "1431d350",
      "metadata": {
        "id": "1431d350",
        "outputId": "4b4bcd4c-9290-4ebb-98d4-f1dca9bc4542"
      },
      "outputs": [
        {
          "name": "stdout",
          "output_type": "stream",
          "text": [
            "{'a': 7, 'b': 'sudh', 'c': 345, 'd': 'sudh', 'l': [2, 3, 4, 45, 'sudh']}\n",
            "dict_values([7, 'sudh', 345, 'sudh', [2, 3, 4, 45, 'sudh']])\n"
          ]
        },
        {
          "data": {
            "text/plain": [
              "3"
            ]
          },
          "execution_count": 82,
          "metadata": {},
          "output_type": "execute_result"
        }
      ],
      "source": [
        "test14(a = 7 , b = \"sudh\" , c = 345 , d = \"sudh\" , l = [2,3,4,45 , \"sudh\"])"
      ]
    },
    {
      "cell_type": "code",
      "execution_count": null,
      "id": "79ac42cf",
      "metadata": {
        "id": "79ac42cf"
      },
      "outputs": [],
      "source": [
        "def test15(**kwargs) :\n",
        "    return list(kwargs.values())"
      ]
    },
    {
      "cell_type": "code",
      "execution_count": null,
      "id": "8830ef2c",
      "metadata": {
        "id": "8830ef2c",
        "outputId": "84d923f8-a4c9-4b85-e715-8cf7f6eeccbb"
      },
      "outputs": [
        {
          "data": {
            "text/plain": [
              "[7, 'sudh', 345, 'sudh', [2, 3, 4, 45, 'sudh']]"
            ]
          },
          "execution_count": 84,
          "metadata": {},
          "output_type": "execute_result"
        }
      ],
      "source": [
        "test15(a = 7 , b = \"sudh\" , c = 345 , d = \"sudh\" , l = [2,3,4,45 , \"sudh\"])"
      ]
    },
    {
      "cell_type": "code",
      "execution_count": null,
      "id": "495c47e2",
      "metadata": {
        "id": "495c47e2"
      },
      "outputs": [],
      "source": [
        "Todays task :\n",
        "    q1 : Try to print a prime number in between 1 to 1000\n",
        "    q2 : Try to write a function which  is equivalent  to print function in python\n",
        "    q3 : Try to write a function which is a replica of list append , extend and pop function \n",
        "    q4 : Try to write a lambda function which can return a concatination of all the string that we will pass\n",
        "    q5 : Try to write a lambda function which can return list of square of all the data between 1-100 \n",
        "    q6 : Try to write a 10 Different different example of lambda function with a choice of your taks \n",
        "    q7 : Try to wwrite a funtion whihc can perform a read operation from .txt file \n",
        "        \n",
        "        shivan@ineuron.ai\n",
        "        sudhashu@ineuron.ai"
      ]
    },
    {
      "cell_type": "code",
      "execution_count": null,
      "id": "8a9d2977",
      "metadata": {
        "id": "8a9d2977",
        "outputId": "d54f22ae-9b48-4b2b-d232-8b363d257603"
      },
      "outputs": [
        {
          "data": {
            "text/plain": [
              "(5, 6, 2, (4, [5, 2]))"
            ]
          },
          "execution_count": 85,
          "metadata": {},
          "output_type": "execute_result"
        }
      ],
      "source": [
        "def test4(a, b, c, *m):\n",
        "  return a, b, c, m\n",
        "\n",
        "test4(5,6,2,4,[5,2])\n",
        "\n"
      ]
    },
    {
      "cell_type": "code",
      "execution_count": null,
      "id": "49abd649",
      "metadata": {
        "id": "49abd649",
        "outputId": "34cc5a4b-1172-4a6b-af15-5d788694da56"
      },
      "outputs": [
        {
          "data": {
            "text/plain": [
              "(1, 2, 3)"
            ]
          },
          "execution_count": 88,
          "metadata": {},
          "output_type": "execute_result"
        }
      ],
      "source": [
        "b= lambda *a : a \n",
        "b(1,2,3)"
      ]
    },
    {
      "cell_type": "code",
      "execution_count": null,
      "id": "46ae7092",
      "metadata": {
        "id": "46ae7092",
        "outputId": "747d4c60-4b70-4b53-bbe4-6c029347d0a5"
      },
      "outputs": [
        {
          "ename": "TypeError",
          "evalue": "'int' object is not iterable",
          "output_type": "error",
          "traceback": [
            "\u001b[1;31m---------------------------------------------------------------------------\u001b[0m",
            "\u001b[1;31mTypeError\u001b[0m                                 Traceback (most recent call last)",
            "\u001b[1;32m~\\AppData\\Local\\Temp/ipykernel_7960/283666077.py\u001b[0m in \u001b[0;36m<module>\u001b[1;34m\u001b[0m\n\u001b[0;32m      1\u001b[0m \u001b[0mn\u001b[0m\u001b[1;33m=\u001b[0m\u001b[1;36m10\u001b[0m\u001b[1;33m\u001b[0m\u001b[1;33m\u001b[0m\u001b[0m\n\u001b[1;32m----> 2\u001b[1;33m \u001b[1;33m[\u001b[0m\u001b[0mi\u001b[0m \u001b[1;32mfor\u001b[0m \u001b[0mi\u001b[0m \u001b[1;32min\u001b[0m \u001b[0mn\u001b[0m\u001b[1;33m]\u001b[0m\u001b[1;33m\u001b[0m\u001b[1;33m\u001b[0m\u001b[0m\n\u001b[0m",
            "\u001b[1;31mTypeError\u001b[0m: 'int' object is not iterable"
          ]
        }
      ],
      "source": [
        "n=10\n",
        "[i for i in n]\n"
      ]
    },
    {
      "cell_type": "code",
      "execution_count": null,
      "id": "1b078bae",
      "metadata": {
        "id": "1b078bae",
        "outputId": "cd46025e-441b-4b60-e83e-72e1b4dbb9b2"
      },
      "outputs": [
        {
          "ename": "SyntaxError",
          "evalue": "expression cannot contain assignment, perhaps you meant \"==\"? (Temp/ipykernel_7960/1148533526.py, line 3)",
          "output_type": "error",
          "traceback": [
            "\u001b[1;36m  File \u001b[1;32m\"C:\\Users\\win10\\AppData\\Local\\Temp/ipykernel_7960/1148533526.py\"\u001b[1;36m, line \u001b[1;32m3\u001b[0m\n\u001b[1;33m    test15(a1=1,12=2,13=12)\u001b[0m\n\u001b[1;37m                ^\u001b[0m\n\u001b[1;31mSyntaxError\u001b[0m\u001b[1;31m:\u001b[0m expression cannot contain assignment, perhaps you meant \"==\"?\n"
          ]
        }
      ],
      "source": [
        "def test15(**kwargs):\n",
        "    return list(kwargs.values())\n",
        "test15(a1=1,12=2,13=12)\n"
      ]
    },
    {
      "cell_type": "code",
      "execution_count": null,
      "id": "1c961733",
      "metadata": {
        "id": "1c961733",
        "outputId": "17e4aa0e-e112-4b26-e743-56b4e19671a1"
      },
      "outputs": [
        {
          "data": {
            "text/plain": [
              "[1, 2, 3, 4]"
            ]
          },
          "execution_count": 93,
          "metadata": {},
          "output_type": "execute_result"
        }
      ],
      "source": [
        "t=(1,2,3,4)\n",
        "[i for i in t]"
      ]
    },
    {
      "cell_type": "code",
      "execution_count": null,
      "id": "ec423820",
      "metadata": {
        "id": "ec423820"
      },
      "outputs": [],
      "source": [
        "l = lambda *x: [i**2 for i in x]"
      ]
    },
    {
      "cell_type": "code",
      "execution_count": null,
      "id": "253dd7bc",
      "metadata": {
        "id": "253dd7bc",
        "outputId": "8c8b6721-a798-48ca-acd7-c89fd0706248"
      },
      "outputs": [
        {
          "data": {
            "text/plain": [
              "[16, 25, 36, 49]"
            ]
          },
          "execution_count": 95,
          "metadata": {},
          "output_type": "execute_result"
        }
      ],
      "source": [
        "l(4,5,6,7)"
      ]
    },
    {
      "cell_type": "code",
      "execution_count": null,
      "id": "15d4db6a",
      "metadata": {
        "id": "15d4db6a"
      },
      "outputs": [],
      "source": [
        "def test10(*m):\n",
        "    n=1\n",
        "    for i in m:\n",
        "        if type(i) == int :\n",
        "            n=n*i\n",
        "    return n\n"
      ]
    },
    {
      "cell_type": "code",
      "execution_count": null,
      "id": "3081e626",
      "metadata": {
        "id": "3081e626",
        "outputId": "389b4e23-92df-42e4-a088-9007e6211eec"
      },
      "outputs": [
        {
          "data": {
            "text/plain": [
              "2400"
            ]
          },
          "execution_count": 99,
          "metadata": {},
          "output_type": "execute_result"
        }
      ],
      "source": [
        "test10(4,4,5,5,6)"
      ]
    },
    {
      "cell_type": "code",
      "execution_count": null,
      "id": "46763bfc",
      "metadata": {
        "id": "46763bfc",
        "outputId": "22c1d527-e0d2-45ef-91a1-94c1eead6c01"
      },
      "outputs": [
        {
          "data": {
            "text/plain": [
              "[1, 2, 5, [1, 3, 4, 6]]"
            ]
          },
          "execution_count": 101,
          "metadata": {},
          "output_type": "execute_result"
        }
      ],
      "source": [
        "L=[1,2,4,5,[1,3,4,6]]\n",
        "\n",
        "L.pop(2)\n",
        "L\n"
      ]
    },
    {
      "cell_type": "code",
      "execution_count": null,
      "id": "4f309d28",
      "metadata": {
        "id": "4f309d28",
        "outputId": "1c81b975-6044-41f3-ca81-b7bff80564f3"
      },
      "outputs": [
        {
          "data": {
            "text/plain": [
              "(1, 2, 3)"
            ]
          },
          "execution_count": 103,
          "metadata": {},
          "output_type": "execute_result"
        }
      ],
      "source": [
        "b=lambda *a : a\n",
        "b(1,2,3)"
      ]
    },
    {
      "cell_type": "code",
      "execution_count": null,
      "id": "ed2d36af",
      "metadata": {
        "id": "ed2d36af",
        "outputId": "829a8aa9-7cbe-467f-f40d-8ec9d816400c"
      },
      "outputs": [
        {
          "data": {
            "text/plain": [
              "(8, 8, 9, 9, 7, 7, 7, 3, 5, 7, 5)"
            ]
          },
          "execution_count": 105,
          "metadata": {},
          "output_type": "execute_result"
        }
      ],
      "source": [
        "def test5(*a,x,y,z):\n",
        "    return *a,x,y,z,\n",
        "test5 (8,8,9,9,7,7,7,3,x=5,y=7,z=5)\n"
      ]
    },
    {
      "cell_type": "code",
      "execution_count": null,
      "id": "07e180ef",
      "metadata": {
        "id": "07e180ef",
        "outputId": "29e8e4a8-1476-478a-f7e4-c77b1d6a9b15"
      },
      "outputs": [
        {
          "data": {
            "text/plain": [
              "'kapeeD'"
            ]
          },
          "execution_count": 108,
          "metadata": {},
          "output_type": "execute_result"
        }
      ],
      "source": [
        "s='Deepak'\n",
        "\n",
        "s[-1::-1]\n"
      ]
    },
    {
      "cell_type": "code",
      "execution_count": null,
      "id": "954d3347",
      "metadata": {
        "id": "954d3347",
        "outputId": "9e37426c-8df2-42b4-9342-516d57c74645"
      },
      "outputs": [
        {
          "data": {
            "text/plain": [
              "''"
            ]
          },
          "execution_count": 107,
          "metadata": {},
          "output_type": "execute_result"
        }
      ],
      "source": [
        "s[0:6:-1]"
      ]
    },
    {
      "cell_type": "code",
      "execution_count": null,
      "id": "664a8d12",
      "metadata": {
        "id": "664a8d12"
      },
      "outputs": [],
      "source": [
        "def aad(a,b):\n",
        "    '''this is my functionde'''\n",
        "    z = a+b\n",
        "    return z\n",
        "    h = a*b\n",
        "    return h\n"
      ]
    },
    {
      "cell_type": "code",
      "execution_count": null,
      "id": "d7c8092d",
      "metadata": {
        "id": "d7c8092d",
        "outputId": "208fa128-184f-4ae7-938f-1cce7d6295fe"
      },
      "outputs": [
        {
          "data": {
            "text/plain": [
              "3"
            ]
          },
          "execution_count": 110,
          "metadata": {},
          "output_type": "execute_result"
        }
      ],
      "source": [
        "aad(1,2)"
      ]
    },
    {
      "cell_type": "code",
      "execution_count": null,
      "id": "18c2a2d1",
      "metadata": {
        "id": "18c2a2d1"
      },
      "outputs": [],
      "source": [
        "def test10(*m , **sm):\n",
        "    return m,sm"
      ]
    },
    {
      "cell_type": "code",
      "execution_count": null,
      "id": "2427f5b7",
      "metadata": {
        "id": "2427f5b7",
        "outputId": "b7bb5dd2-d299-47ad-f9fb-d527b4b11a3b"
      },
      "outputs": [
        {
          "name": "stdout",
          "output_type": "stream",
          "text": [
            "*jezon\n",
            "aj*zon\n",
            "ajez*n\n"
          ]
        }
      ],
      "source": [
        "s=\"ajezon\"\n",
        "a=0 \n",
        "v='aeiou'\n",
        "while a < len(s):\n",
        "    if s[a] in v :\n",
        "        print(s.replace(s[a] ,\"*\"))\n",
        "    a = a + 1\n"
      ]
    },
    {
      "cell_type": "code",
      "execution_count": null,
      "id": "8a69dc27",
      "metadata": {
        "id": "8a69dc27",
        "outputId": "785892ed-9119-46d9-cb92-2a565d0c0777"
      },
      "outputs": [
        {
          "ename": "SyntaxError",
          "evalue": "invalid syntax (Temp/ipykernel_7960/2806367668.py, line 1)",
          "output_type": "error",
          "traceback": [
            "\u001b[1;36m  File \u001b[1;32m\"C:\\Users\\win10\\AppData\\Local\\Temp/ipykernel_7960/2806367668.py\"\u001b[1;36m, line \u001b[1;32m1\u001b[0m\n\u001b[1;33m    find_status= lambda a: 'Low' if (a<5000) elif a>=5000 and a<=25000 'Standard' else 'High'\u001b[0m\n\u001b[1;37m                                             ^\u001b[0m\n\u001b[1;31mSyntaxError\u001b[0m\u001b[1;31m:\u001b[0m invalid syntax\n"
          ]
        }
      ],
      "source": [
        "find_status= lambda a: 'Low' if (a<5000) elif a>=5000 and a<=25000 'Standard' else 'High'\n"
      ]
    },
    {
      "cell_type": "code",
      "execution_count": null,
      "id": "7953aea0",
      "metadata": {
        "id": "7953aea0",
        "outputId": "d624e3ac-cbcb-4368-b051-94caa0691f77"
      },
      "outputs": [
        {
          "name": "stdout",
          "output_type": "stream",
          "text": [
            "ab\n",
            "cd\n",
            "ef\n"
          ]
        }
      ],
      "source": [
        "d={\"ab\":1,'cd':2,'ef':3}\n",
        "\n",
        "for k in d:\n",
        "    print(k)\n"
      ]
    },
    {
      "cell_type": "code",
      "execution_count": null,
      "id": "0c3659ba",
      "metadata": {
        "id": "0c3659ba"
      },
      "outputs": [],
      "source": [
        "# I want to perform multiplication using lambda functions, how can we do it?\n",
        "\n",
        "m=3\n",
        "b = lambda *args : [m=m*i for i in args]\n",
        "\n",
        "b(2,3)\n"
      ]
    },
    {
      "cell_type": "code",
      "execution_count": null,
      "id": "8310b48a",
      "metadata": {
        "id": "8310b48a",
        "outputId": "bd054a50-0189-481d-9e6c-174efa248c9f"
      },
      "outputs": [
        {
          "name": "stdout",
          "output_type": "stream",
          "text": [
            "[3, 4, 5, 6, 78]\n",
            "[3, 4, 5, 6, 78]\n"
          ]
        }
      ],
      "source": [
        "t = (3, 4, 5, 6, 78)\n",
        "l = [i for i in t]\n",
        "print(l)\n",
        "ab = list(j for j in l)\n",
        "print(ab)\n"
      ]
    },
    {
      "cell_type": "code",
      "execution_count": null,
      "id": "98c5383e",
      "metadata": {
        "id": "98c5383e",
        "outputId": "9894df13-dbdf-4e8f-f0c8-af83b7f19060"
      },
      "outputs": [
        {
          "name": "stdout",
          "output_type": "stream",
          "text": [
            "{'a': 7, 'b': 'Shan', 'c': 345, 'd': 'dd', 'l': [2, 3, 4, 5, 'Su']}\n",
            "dict_values([7, 'Shan', 345, 'dd', [2, 3, 4, 5, 'Su']])\n"
          ]
        },
        {
          "data": {
            "text/plain": [
              "3"
            ]
          },
          "execution_count": 121,
          "metadata": {},
          "output_type": "execute_result"
        }
      ],
      "source": [
        "def test14(**kwargs):\n",
        "    count = 0\n",
        "    print(kwargs)\n",
        "    print(kwargs.values())\n",
        "    for v in kwargs.values():\n",
        "        if type(v)==str:\n",
        "            count+=1\n",
        "        if type(v)==list:\n",
        "            count+=1\n",
        "    return count\n",
        "\n",
        "test14(a=7,b=\"Shan\",c=345,d=\"dd\",l=[2,3,4,5,\"Su\"])\n"
      ]
    },
    {
      "cell_type": "code",
      "execution_count": null,
      "id": "1721c3a3",
      "metadata": {
        "id": "1721c3a3"
      },
      "outputs": [],
      "source": [
        "def test15(**kwargs):\n",
        "    {i:j for i,j in kwargs.items()}"
      ]
    },
    {
      "cell_type": "code",
      "execution_count": null,
      "id": "fbafdc31",
      "metadata": {
        "id": "fbafdc31"
      },
      "outputs": [],
      "source": [
        "def test14(**kargs):\n",
        "    count=0\n",
        "    print(kargs.values())\n",
        "    for i in kargs.values():\n",
        "        print(i)\n",
        "        print(type(i) == str)\n",
        "        if type(i) == str:\n",
        "            count=count+1\n",
        "        if type(i) == list:\n",
        "            for j in i:\n",
        "                if type(j) == str:\n",
        "                    count=count+1\n",
        "    return count\n"
      ]
    },
    {
      "cell_type": "code",
      "execution_count": null,
      "id": "572273ce",
      "metadata": {
        "id": "572273ce",
        "outputId": "64f7827d-9c29-46ec-db98-662b837cda95"
      },
      "outputs": [
        {
          "data": {
            "text/plain": [
              "2"
            ]
          },
          "execution_count": 126,
          "metadata": {},
          "output_type": "execute_result"
        }
      ],
      "source": [
        "def func(**kwargs):\n",
        "    count = 0\n",
        "    for e in kwargs.values():\n",
        "        if type(e) == list:\n",
        "            for ele in  e:\n",
        "                if type(ele) == str:\n",
        "                    count += 1\n",
        "    return count\n",
        "func(v1 = 2,v2 = 3,v3=4, v4=5,name=\"Mohamed\", data=[\"ineuron\", \"MLDL\", 2021])"
      ]
    },
    {
      "cell_type": "code",
      "execution_count": null,
      "id": "4079e449",
      "metadata": {
        "id": "4079e449",
        "outputId": "986c393d-8adc-405d-c7d3-893422373e0b"
      },
      "outputs": [
        {
          "data": {
            "text/plain": [
              "[4, 6, 8, 10]"
            ]
          },
          "execution_count": 127,
          "metadata": {},
          "output_type": "execute_result"
        }
      ],
      "source": [
        "l= lambda *x : [i*2 for i in x]\n",
        "l(2,3,4,5)\n"
      ]
    },
    {
      "cell_type": "code",
      "execution_count": null,
      "id": "3fe9d4a7",
      "metadata": {
        "id": "3fe9d4a7",
        "outputId": "c888ba4d-2c27-4c1b-9271-dba275085d7d"
      },
      "outputs": [
        {
          "data": {
            "text/plain": [
              "2"
            ]
          },
          "execution_count": 128,
          "metadata": {},
          "output_type": "execute_result"
        }
      ],
      "source": [
        "def func(**kwargs):\n",
        "    count = 0\n",
        "    for e in kwargs.values():\n",
        "        if type(e) == list:\n",
        "            for ele in  e:\n",
        "                if type(ele) == str:\n",
        "                    count += 1\n",
        "    return count\n",
        "func(v1 = 2,v2 = 3,v3=4, v4=5,name=\"Mohamed\", data=[\"ineuron\", \"MLDL\", 2021])\n"
      ]
    },
    {
      "cell_type": "code",
      "execution_count": null,
      "id": "3fe865b7",
      "metadata": {
        "id": "3fe865b7"
      },
      "outputs": [],
      "source": [
        "def test15(**kwargs):\n",
        "    return list(kwargs.values())\n"
      ]
    },
    {
      "cell_type": "code",
      "execution_count": null,
      "id": "6d6bc8d8",
      "metadata": {
        "id": "6d6bc8d8",
        "outputId": "88e3c72f-ac40-437a-dbe1-2f558e375d70"
      },
      "outputs": [
        {
          "data": {
            "text/plain": [
              "[7, 'Abhi', 345, 'Abhi', [2, 3, 45, 'Abhi']]"
            ]
          },
          "execution_count": 131,
          "metadata": {},
          "output_type": "execute_result"
        }
      ],
      "source": [
        "test15(a=7,b='Abhi',c=345,d='Abhi',l=[2,3,45,'Abhi'])"
      ]
    },
    {
      "cell_type": "code",
      "execution_count": null,
      "id": "b69711d3",
      "metadata": {
        "id": "b69711d3",
        "outputId": "abc51e9a-66e6-49ee-fdf1-3fc34cad8d74"
      },
      "outputs": [
        {
          "name": "stdout",
          "output_type": "stream",
          "text": [
            "    \n",
            "\n",
            "  pawan   \n",
            "\n",
            " pawan  pawan   \n",
            "\n",
            "pawan  pawan  pawan   \n",
            "\n"
          ]
        }
      ],
      "source": [
        "n=3\n",
        "for i in range(n+1):\n",
        "    print(\" \"* (n-i) + 'pawan  '*i,\"\\n\")\n"
      ]
    },
    {
      "cell_type": "code",
      "execution_count": null,
      "id": "39d1ff7a",
      "metadata": {
        "id": "39d1ff7a",
        "outputId": "dea9b393-9a61-4ce8-c3fe-278431ad8d86"
      },
      "outputs": [
        {
          "name": "stdout",
          "output_type": "stream",
          "text": [
            "k1\n",
            "k1\n",
            "k2\n",
            "k2\n",
            "k3\n",
            "k3\n",
            "sudh\n",
            "sudh\n",
            "ineuron\n",
            "ineuron\n",
            "kumar\n",
            "kumar\n",
            "ineuron\n",
            "ineuron\n",
            "data science\n"
          ]
        }
      ],
      "source": [
        "data = [1,\n",
        " 2,\n",
        " 3,\n",
        " 4,\n",
        " 2,\n",
        " 3,\n",
        " 4,\n",
        " 5,\n",
        " 6,\n",
        " 3,\n",
        " 4,\n",
        " 5,\n",
        " 6,\n",
        " 7,\n",
        " 45,\n",
        " 4,\n",
        " 5,\n",
        " 23,\n",
        " 'k1',\n",
        " 'k2',\n",
        " 'k3',\n",
        " 3,\n",
        " 7,\n",
        " 'sudh',\n",
        " 'ineuron',\n",
        " 'kumar',\n",
        " 6,\n",
        " 8,\n",
        " 'ineuron',\n",
        " 'data science']\n",
        "\n",
        "for i in data:\n",
        "    \n",
        "    if type(i) == str:\n",
        "        print(i)\n",
        "        if i.isalnum(): \n",
        "            print(i)\n"
      ]
    },
    {
      "cell_type": "code",
      "execution_count": null,
      "id": "20833d25",
      "metadata": {
        "id": "20833d25",
        "outputId": "67221d46-f5ce-4b40-eea2-e0796419d113"
      },
      "outputs": [
        {
          "data": {
            "text/plain": [
              "(45, 5, 4, 5, 5, 6, 677)"
            ]
          },
          "execution_count": 139,
          "metadata": {},
          "output_type": "execute_result"
        }
      ],
      "source": [
        "b=lambda *sudh : sudh\n",
        "b(45,5,4,5,5,6,677)\n"
      ]
    },
    {
      "cell_type": "code",
      "execution_count": null,
      "id": "35ecbb5a",
      "metadata": {
        "id": "35ecbb5a"
      },
      "outputs": [],
      "source": [
        "def test11(*m):\n",
        "    n=1\n",
        "    for i in m:\n",
        "        if type(i)==int:\n",
        "            n=n*i\n",
        "        return n\n"
      ]
    },
    {
      "cell_type": "code",
      "execution_count": null,
      "id": "a70fc8f8",
      "metadata": {
        "id": "a70fc8f8"
      },
      "outputs": [],
      "source": [
        "def test13(**kwargs):\n",
        "    count = 0\n",
        "    for i in kwargs.values():\n",
        "        if type(i) == str or type(i) == list: \n",
        "            for j in i:\n",
        "                count += 1\n",
        "        return count"
      ]
    },
    {
      "cell_type": "code",
      "execution_count": null,
      "id": "382ffdde",
      "metadata": {
        "id": "382ffdde"
      },
      "outputs": [],
      "source": [
        "def test15(**s):\n",
        "    return {i:j for i,j in s.items()}\n"
      ]
    },
    {
      "cell_type": "code",
      "execution_count": null,
      "id": "b5c84313",
      "metadata": {
        "id": "b5c84313",
        "outputId": "999dedde-0967-40d5-c692-827c8c97a2bf"
      },
      "outputs": [
        {
          "data": {
            "text/plain": [
              "{'a': 1, 'b': 5, 'n': 4}"
            ]
          },
          "execution_count": 146,
          "metadata": {},
          "output_type": "execute_result"
        }
      ],
      "source": [
        "test15(a = 1 , b  = 5 , n = 4 )"
      ]
    },
    {
      "cell_type": "code",
      "execution_count": null,
      "id": "26a132d5",
      "metadata": {
        "id": "26a132d5"
      },
      "outputs": [],
      "source": [
        ""
      ]
    }
  ],
  "metadata": {
    "kernelspec": {
      "display_name": "Python 3 (ipykernel)",
      "language": "python",
      "name": "python3"
    },
    "language_info": {
      "codemirror_mode": {
        "name": "ipython",
        "version": 3
      },
      "file_extension": ".py",
      "mimetype": "text/x-python",
      "name": "python",
      "nbconvert_exporter": "python",
      "pygments_lexer": "ipython3",
      "version": "3.9.7"
    },
    "colab": {
      "name": "L # 11 --Function continued .ipynb",
      "provenance": [],
      "include_colab_link": true
    }
  },
  "nbformat": 4,
  "nbformat_minor": 5
}