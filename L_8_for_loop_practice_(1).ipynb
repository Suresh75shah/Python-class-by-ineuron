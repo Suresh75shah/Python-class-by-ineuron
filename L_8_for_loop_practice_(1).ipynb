{
  "cells": [
    {
      "cell_type": "markdown",
      "metadata": {
        "id": "view-in-github",
        "colab_type": "text"
      },
      "source": [
        "<a href=\"https://colab.research.google.com/github/Suresh75shah/Python-class-by-ineuron/blob/main/L_8_for_loop_practice_(1).ipynb\" target=\"_parent\"><img src=\"https://colab.research.google.com/assets/colab-badge.svg\" alt=\"Open In Colab\"/></a>"
      ]
    },
    {
      "cell_type": "code",
      "execution_count": null,
      "id": "39fae000",
      "metadata": {
        "id": "39fae000"
      },
      "outputs": [],
      "source": [
        "l = [1,2,3,4,\"sudh\" ,\"kumar\" , 45.56]"
      ]
    },
    {
      "cell_type": "code",
      "execution_count": null,
      "id": "8efb4581",
      "metadata": {
        "id": "8efb4581",
        "outputId": "2b965793-367e-4fcc-9725-5997a45c3a08"
      },
      "outputs": [
        {
          "name": "stdout",
          "output_type": "stream",
          "text": [
            "1\n",
            "2\n",
            "3\n",
            "4\n",
            "sudh\n",
            "kumar\n",
            "45.56\n"
          ]
        }
      ],
      "source": [
        "for i in l :\n",
        "    print(i)"
      ]
    },
    {
      "cell_type": "code",
      "execution_count": null,
      "id": "a3c4aaa1",
      "metadata": {
        "id": "a3c4aaa1"
      },
      "outputs": [],
      "source": [
        "for i in l :\n",
        "    pass"
      ]
    },
    {
      "cell_type": "code",
      "execution_count": null,
      "id": "e158d612",
      "metadata": {
        "id": "e158d612",
        "outputId": "aa65e785-2fc1-4437-9c94-e0aaade489f7"
      },
      "outputs": [
        {
          "name": "stdout",
          "output_type": "stream",
          "text": [
            "s\n",
            "u\n",
            "d\n",
            "h\n"
          ]
        }
      ],
      "source": [
        "s = \"sudh\"\n",
        "for i in s :\n",
        "    print(i)"
      ]
    },
    {
      "cell_type": "code",
      "execution_count": null,
      "id": "0027fea7",
      "metadata": {
        "id": "0027fea7",
        "outputId": "9d2b2964-bd42-401a-d30b-2e633746197d"
      },
      "outputs": [
        {
          "name": "stdout",
          "output_type": "stream",
          "text": [
            "1\n",
            "2\n",
            "3\n",
            "4\n",
            "sudh\n",
            "kumar\n",
            "45.56\n",
            "if for loop is going to complete itself the it will execute else \n"
          ]
        }
      ],
      "source": [
        "for i in l :\n",
        "    print(i)\n",
        "else :\n",
        "    print(\"if for loop is going to complete itself the it will execute else \")"
      ]
    },
    {
      "cell_type": "code",
      "execution_count": null,
      "id": "d9a80907",
      "metadata": {
        "id": "d9a80907",
        "outputId": "3f5c6926-4d8c-4c9d-d341-bc1b3f5f8354"
      },
      "outputs": [
        {
          "data": {
            "text/plain": [
              "[1, 2, 3, 4, 'sudh', 'kumar', 45.56]"
            ]
          },
          "execution_count": 10,
          "metadata": {},
          "output_type": "execute_result"
        }
      ],
      "source": [
        "l"
      ]
    },
    {
      "cell_type": "code",
      "execution_count": null,
      "id": "62d285ec",
      "metadata": {
        "id": "62d285ec",
        "outputId": "de889b33-db43-4557-e112-3a2cb4628828"
      },
      "outputs": [
        {
          "name": "stdout",
          "output_type": "stream",
          "text": [
            "1\n",
            "2\n",
            "3\n"
          ]
        }
      ],
      "source": [
        "for i in l :\n",
        "    if i == 4 :\n",
        "        break\n",
        "    print(i)\n",
        "else :\n",
        "    print(\"this will execute only if for is going to complete itself\")"
      ]
    },
    {
      "cell_type": "code",
      "execution_count": null,
      "id": "3c6cb81e",
      "metadata": {
        "id": "3c6cb81e",
        "outputId": "28a8b11d-53b5-4612-8c18-026224fec5ca"
      },
      "outputs": [
        {
          "name": "stdout",
          "output_type": "stream",
          "text": [
            "s\n",
            "u\n",
            "d\n",
            "h\n",
            "a\n",
            "n\n",
            "s\n",
            "h\n",
            "u\n",
            "print srtring  sudhanshu\n"
          ]
        }
      ],
      "source": [
        "s = \"sudhanshu\"\n",
        "for i in s :\n",
        "    if i == 'z' :\n",
        "        break\n",
        "    print(i)\n",
        "else :\n",
        "    print(\"print srtring \" , s )\n",
        "        "
      ]
    },
    {
      "cell_type": "code",
      "execution_count": null,
      "id": "c05c6c17",
      "metadata": {
        "id": "c05c6c17",
        "outputId": "ec3fa077-a4ea-4533-aa24-9627ec9d2304"
      },
      "outputs": [
        {
          "name": "stdout",
          "output_type": "stream",
          "text": [
            "4\n",
            "5\n",
            "6\n",
            "7\n",
            "8\n",
            "6\n",
            "sudh\n"
          ]
        }
      ],
      "source": [
        "t = (4,5,6,7,8,6,\"sudh\")\n",
        "for i in t :\n",
        "    print(i)"
      ]
    },
    {
      "cell_type": "code",
      "execution_count": null,
      "id": "aee7e59b",
      "metadata": {
        "id": "aee7e59b"
      },
      "outputs": [],
      "source": [
        "b = {4,5,6,7,7,7,7,7,7,7,7, 8,\"sudh\"}"
      ]
    },
    {
      "cell_type": "code",
      "execution_count": null,
      "id": "a124b211",
      "metadata": {
        "id": "a124b211",
        "outputId": "17a32f63-e562-4445-a6e7-ce2f99e7a20a"
      },
      "outputs": [
        {
          "data": {
            "text/plain": [
              "set"
            ]
          },
          "execution_count": 16,
          "metadata": {},
          "output_type": "execute_result"
        }
      ],
      "source": [
        "type(b)"
      ]
    },
    {
      "cell_type": "code",
      "execution_count": null,
      "id": "9e379087",
      "metadata": {
        "id": "9e379087",
        "outputId": "691e7505-7f17-4384-b295-b900bac5e259"
      },
      "outputs": [
        {
          "data": {
            "text/plain": [
              "{4, 5, 6, 7, 8, 'sudh'}"
            ]
          },
          "execution_count": 17,
          "metadata": {},
          "output_type": "execute_result"
        }
      ],
      "source": [
        "b"
      ]
    },
    {
      "cell_type": "code",
      "execution_count": null,
      "id": "927717fe",
      "metadata": {
        "id": "927717fe",
        "outputId": "83950f40-89ee-4eaa-e12e-99dc7563c7dd"
      },
      "outputs": [
        {
          "name": "stdout",
          "output_type": "stream",
          "text": [
            "4\n",
            "5\n",
            "6\n",
            "7\n",
            "8\n",
            "sudh\n"
          ]
        }
      ],
      "source": [
        "for i in b :\n",
        "    print(i)"
      ]
    },
    {
      "cell_type": "code",
      "execution_count": null,
      "id": "444d8f49",
      "metadata": {
        "id": "444d8f49"
      },
      "outputs": [],
      "source": [
        "d = {'key1' :\"sudh\" , 'contact' : \"sudhanshu@ineuron.ai\" , \"position\" : \"xyz\"}"
      ]
    },
    {
      "cell_type": "code",
      "execution_count": null,
      "id": "c49b2c4c",
      "metadata": {
        "id": "c49b2c4c",
        "outputId": "e2cba033-d16f-4acb-c5f2-81bbab21ae60"
      },
      "outputs": [
        {
          "name": "stdout",
          "output_type": "stream",
          "text": [
            "key1 : sudh\n",
            "contact : sudhanshu@ineuron.ai\n",
            "position : xyz\n"
          ]
        }
      ],
      "source": [
        "for i in d :\n",
        "    print(i ,\":\" ,  d[i] )"
      ]
    },
    {
      "cell_type": "code",
      "execution_count": null,
      "id": "94395d44",
      "metadata": {
        "id": "94395d44",
        "outputId": "8ce4e124-3b60-4ab9-b53b-b1d103493710"
      },
      "outputs": [
        {
          "data": {
            "text/plain": [
              "'sudh'"
            ]
          },
          "execution_count": 22,
          "metadata": {},
          "output_type": "execute_result"
        }
      ],
      "source": [
        "d['key1']"
      ]
    },
    {
      "cell_type": "code",
      "execution_count": null,
      "id": "554220c4",
      "metadata": {
        "id": "554220c4",
        "outputId": "f9274ee2-4352-4159-fc43-0a582bea38de"
      },
      "outputs": [
        {
          "data": {
            "text/plain": [
              "range(0, 9)"
            ]
          },
          "execution_count": 27,
          "metadata": {},
          "output_type": "execute_result"
        }
      ],
      "source": [
        "range(9)"
      ]
    },
    {
      "cell_type": "code",
      "execution_count": null,
      "id": "9203e12d",
      "metadata": {
        "id": "9203e12d",
        "outputId": "81e24d55-551c-4f01-ec8d-9ef8469b41da"
      },
      "outputs": [
        {
          "data": {
            "text/plain": [
              "[0, 1, 2, 3, 4, 5, 6, 7, 8]"
            ]
          },
          "execution_count": 28,
          "metadata": {},
          "output_type": "execute_result"
        }
      ],
      "source": [
        "list(range(9))"
      ]
    },
    {
      "cell_type": "code",
      "execution_count": null,
      "id": "16549fcf",
      "metadata": {
        "id": "16549fcf",
        "outputId": "23ff8ed8-3cc7-4c66-dc24-3f807563241a"
      },
      "outputs": [
        {
          "name": "stdout",
          "output_type": "stream",
          "text": [
            "0\n",
            "1\n",
            "2\n",
            "3\n",
            "4\n",
            "5\n",
            "6\n",
            "7\n",
            "8\n"
          ]
        }
      ],
      "source": [
        "for i in range(9):\n",
        "    print(i)"
      ]
    },
    {
      "cell_type": "code",
      "execution_count": null,
      "id": "4753ccf8",
      "metadata": {
        "id": "4753ccf8",
        "outputId": "1e5ae70b-5ea5-4b29-8d38-d02633e4a821"
      },
      "outputs": [
        {
          "data": {
            "text/plain": [
              "[0, 1, 2, 3, 4, 5, 6, 7, 8]"
            ]
          },
          "execution_count": 31,
          "metadata": {},
          "output_type": "execute_result"
        }
      ],
      "source": [
        "list(range(0,9))"
      ]
    },
    {
      "cell_type": "code",
      "execution_count": null,
      "id": "1f883fd8",
      "metadata": {
        "id": "1f883fd8",
        "outputId": "8601b585-d62f-4e34-8c73-dcbbdb690198"
      },
      "outputs": [
        {
          "data": {
            "text/plain": [
              "[0, 2, 4, 6, 8]"
            ]
          },
          "execution_count": 32,
          "metadata": {},
          "output_type": "execute_result"
        }
      ],
      "source": [
        "list(range(0,9 , 2))"
      ]
    },
    {
      "cell_type": "code",
      "execution_count": null,
      "id": "692f4890",
      "metadata": {
        "id": "692f4890",
        "outputId": "094d9199-8868-43ef-c2f8-4333720470d1"
      },
      "outputs": [
        {
          "data": {
            "text/plain": [
              "[]"
            ]
          },
          "execution_count": 33,
          "metadata": {},
          "output_type": "execute_result"
        }
      ],
      "source": [
        "list(range(0,9 , -1))"
      ]
    },
    {
      "cell_type": "code",
      "execution_count": null,
      "id": "097f8d2e",
      "metadata": {
        "id": "097f8d2e",
        "outputId": "54901803-0e94-4f5c-9730-c5f1293a143c"
      },
      "outputs": [
        {
          "data": {
            "text/plain": [
              "[9, 8, 7, 6, 5, 4, 3, 2, 1]"
            ]
          },
          "execution_count": 34,
          "metadata": {},
          "output_type": "execute_result"
        }
      ],
      "source": [
        "list(range(9,0 , -1))"
      ]
    },
    {
      "cell_type": "code",
      "execution_count": null,
      "id": "eb744426",
      "metadata": {
        "id": "eb744426",
        "outputId": "50f4b1b9-a1a2-4f49-905a-00c08f2c4d70"
      },
      "outputs": [
        {
          "name": "stdout",
          "output_type": "stream",
          "text": [
            "sudh     \n",
            "\n",
            "sudh     sudh     \n",
            "\n",
            "sudh     sudh     sudh     \n",
            "\n",
            "sudh     sudh     sudh     sudh     \n",
            "\n"
          ]
        }
      ],
      "source": [
        "n = 4 \n",
        "for i in range(4) :\n",
        "    for j in range(0 ,i+1) : \n",
        "        print(\"sudh\" , end = \"     \")\n",
        "    print(\"\\n\")"
      ]
    },
    {
      "cell_type": "code",
      "execution_count": null,
      "id": "6d5e1b53",
      "metadata": {
        "id": "6d5e1b53",
        "outputId": "0f605189-cfde-44c1-bd9e-d6ffb439ac91"
      },
      "outputs": [
        {
          "name": "stdout",
          "output_type": "stream",
          "text": [
            "          sudh \n",
            "     sudh sudh sudh \n",
            "sudh sudh sudh sudh sudh \n"
          ]
        }
      ],
      "source": [
        "n=3\n",
        "for i in range(n):\n",
        "    for j in range(i,n-1):\n",
        "        print(\" \" * len(\"sudh\"),end=\" \")\n",
        "    for j in range(i+1):\n",
        "        print(\"sudh\",end=\" \")\n",
        "    for j in range(i): \n",
        "        print(\"sudh\",end=\" \")\n",
        "    print()\n"
      ]
    },
    {
      "cell_type": "code",
      "execution_count": null,
      "id": "539c7a4b",
      "metadata": {
        "id": "539c7a4b",
        "outputId": "85616bda-4714-43fb-a859-be7cae3a998c"
      },
      "outputs": [
        {
          "name": "stdout",
          "output_type": "stream",
          "text": [
            "      sudh \n",
            "    sudh sudh \n",
            "  sudh sudh sudh \n",
            "sudh sudh sudh sudh \n"
          ]
        }
      ],
      "source": [
        "n=4\n",
        "k=n\n",
        "for i in range(n):\n",
        "    k=k-1\n",
        "    print('  '*k, end='')\n",
        "    for j in range(i+1):\n",
        "        print('sudh ', end= '')\n",
        "    print()\n"
      ]
    },
    {
      "cell_type": "code",
      "execution_count": null,
      "id": "dc823bf5",
      "metadata": {
        "id": "dc823bf5",
        "outputId": "656cb24c-67ae-443f-c3fb-e509525483b6"
      },
      "outputs": [
        {
          "name": "stdout",
          "output_type": "stream",
          "text": [
            "  sudh \n",
            " sudh sudh \n",
            "sudh sudh sudh \n"
          ]
        }
      ],
      "source": [
        "n=3\n",
        "for i in range(n):\n",
        "    for j in range(i,n-1):\n",
        "        print(\"\",end=' ')\n",
        "    for j in range(i+1):\n",
        "        print(\"sudh\",end=' ')\n",
        "    print()\n"
      ]
    },
    {
      "cell_type": "code",
      "execution_count": null,
      "id": "5cce0196",
      "metadata": {
        "id": "5cce0196",
        "outputId": "001cba2e-b99b-4a0c-d0d6-0508c20c963b"
      },
      "outputs": [
        {
          "name": "stdout",
          "output_type": "stream",
          "text": [
            "   \n",
            "  sudh \n",
            " sudh sudh \n",
            "sudh sudh sudh \n"
          ]
        }
      ],
      "source": [
        "n = 3\n",
        "\n",
        "for i in range(n+1):\n",
        "    print(' '*(n-i) + 'sudh '*i)\n"
      ]
    },
    {
      "cell_type": "code",
      "execution_count": null,
      "id": "1965a936",
      "metadata": {
        "id": "1965a936",
        "outputId": "746eac36-c182-4f49-a76a-46a230c810b0"
      },
      "outputs": [
        {
          "data": {
            "text/plain": [
              "[]"
            ]
          },
          "execution_count": 49,
          "metadata": {},
          "output_type": "execute_result"
        }
      ],
      "source": [
        "list(range(0))"
      ]
    },
    {
      "cell_type": "code",
      "execution_count": null,
      "id": "ae20e482",
      "metadata": {
        "id": "ae20e482"
      },
      "outputs": [],
      "source": [
        "t = (3,23,45,67,2,4,5,6)"
      ]
    },
    {
      "cell_type": "code",
      "execution_count": null,
      "id": "fa3a7dd7",
      "metadata": {
        "id": "fa3a7dd7",
        "outputId": "22207182-503a-4e3a-d505-17a3d4c2cd15"
      },
      "outputs": [
        {
          "data": {
            "text/plain": [
              "3"
            ]
          },
          "execution_count": 55,
          "metadata": {},
          "output_type": "execute_result"
        }
      ],
      "source": [
        "t[0]"
      ]
    },
    {
      "cell_type": "code",
      "execution_count": null,
      "id": "787cc580",
      "metadata": {
        "id": "787cc580",
        "outputId": "448f88c3-8bf9-42f4-ab92-9a760ec3df6d"
      },
      "outputs": [
        {
          "name": "stdout",
          "output_type": "stream",
          "text": [
            "0 3\n",
            "1 23\n",
            "2 45\n",
            "3 67\n",
            "4 2\n",
            "5 4\n",
            "6 5\n",
            "7 6\n"
          ]
        }
      ],
      "source": [
        "for i in range(len(t)):\n",
        "    print(i,t[i])"
      ]
    },
    {
      "cell_type": "code",
      "execution_count": null,
      "id": "d945f1c1",
      "metadata": {
        "id": "d945f1c1",
        "outputId": "ac0b6dea-da7d-49a5-97ca-4d1086bf356c"
      },
      "outputs": [
        {
          "data": {
            "text/plain": [
              "[0, 1, 2, 3, 4, 5, 6, 7]"
            ]
          },
          "execution_count": 54,
          "metadata": {},
          "output_type": "execute_result"
        }
      ],
      "source": [
        "list(range(len(t)))"
      ]
    },
    {
      "cell_type": "code",
      "execution_count": null,
      "id": "45ec0df8",
      "metadata": {
        "id": "45ec0df8",
        "outputId": "fad07f01-47b2-482e-9921-9d465d7f943f"
      },
      "outputs": [
        {
          "name": "stdout",
          "output_type": "stream",
          "text": [
            "0 3\n",
            "1 23\n",
            "2 45\n",
            "3 67\n",
            "4 2\n",
            "5 4\n",
            "6 5\n",
            "7 6\n"
          ]
        }
      ],
      "source": [
        "t = (3,23,45,67,2,4,5,6)\n",
        "\n",
        "for i in range(len(t)):\n",
        "    print(i,t[i])\n"
      ]
    },
    {
      "cell_type": "code",
      "execution_count": null,
      "id": "f03784cb",
      "metadata": {
        "id": "f03784cb",
        "outputId": "1cc6482b-d1ee-4774-db9b-c4f6c7aeb12c"
      },
      "outputs": [
        {
          "name": "stdout",
          "output_type": "stream",
          "text": [
            "0 i\n",
            "1 n\n",
            "2 e\n",
            "3 u\n",
            "4 r\n",
            "5 o\n",
            "6 n\n"
          ]
        }
      ],
      "source": [
        "s = \"ineuron\"\n",
        "for i in range(len(s)) : \n",
        "    print(i , s[i])"
      ]
    },
    {
      "cell_type": "code",
      "execution_count": null,
      "id": "a3373360",
      "metadata": {
        "id": "a3373360",
        "outputId": "a88ea408-203d-4acd-b9a4-1e8c5cd7dce1"
      },
      "outputs": [
        {
          "data": {
            "text/plain": [
              "'ineuron'"
            ]
          },
          "execution_count": 61,
          "metadata": {},
          "output_type": "execute_result"
        }
      ],
      "source": [
        "s "
      ]
    },
    {
      "cell_type": "code",
      "execution_count": null,
      "id": "c9c66ea9",
      "metadata": {
        "id": "c9c66ea9",
        "outputId": "9254019f-cdc4-4ee3-91af-bc9dacd578d8"
      },
      "outputs": [
        {
          "name": "stdout",
          "output_type": "stream",
          "text": [
            "6 n\n",
            "5 o\n",
            "4 r\n",
            "3 u\n",
            "2 e\n",
            "1 n\n",
            "0 i\n"
          ]
        }
      ],
      "source": [
        "for i in range(len(s)-1 , -1, -1):\n",
        "    print(i , s[i])"
      ]
    },
    {
      "cell_type": "code",
      "execution_count": null,
      "id": "07908b6b",
      "metadata": {
        "id": "07908b6b",
        "outputId": "5bd052a7-326d-438c-f613-43bc90367442"
      },
      "outputs": [
        {
          "data": {
            "text/plain": [
              "{'key1': 'sudh', 'contact': 'sudhanshu@ineuron.ai', 'position': 'xyz'}"
            ]
          },
          "execution_count": 70,
          "metadata": {},
          "output_type": "execute_result"
        }
      ],
      "source": [
        "d"
      ]
    },
    {
      "cell_type": "code",
      "execution_count": null,
      "id": "1a11f6a0",
      "metadata": {
        "id": "1a11f6a0",
        "outputId": "6f4bdb15-39e4-4c24-f31b-dacf4706dedd"
      },
      "outputs": [
        {
          "name": "stdout",
          "output_type": "stream",
          "text": [
            "('key1', 'sudh') <class 'tuple'> <class 'str'>\n",
            "('contact', 'sudhanshu@ineuron.ai') <class 'tuple'> <class 'str'>\n",
            "('position', 'xyz') <class 'tuple'> <class 'str'>\n"
          ]
        }
      ],
      "source": [
        "for i in d.items():\n",
        "    print(i , type(i) , type(i[1]))"
      ]
    },
    {
      "cell_type": "code",
      "execution_count": null,
      "id": "27105750",
      "metadata": {
        "id": "27105750"
      },
      "outputs": [],
      "source": [
        "l = [\"sudh\" , \"kuamr\" , 3234545 , \"sudhanshu@ineuron.ai\" , 345, 34345353]\n",
        "l1 = []\n",
        "for i in l :\n",
        "    if type(i) == int :\n",
        "        l1.append(i)\n",
        "\n"
      ]
    },
    {
      "cell_type": "code",
      "execution_count": null,
      "id": "b4ac33cc",
      "metadata": {
        "id": "b4ac33cc",
        "outputId": "109b17e2-23c0-44a3-dc92-2d679c494412"
      },
      "outputs": [
        {
          "data": {
            "text/plain": [
              "[3234545, 345, 34345353]"
            ]
          },
          "execution_count": 76,
          "metadata": {},
          "output_type": "execute_result"
        }
      ],
      "source": [
        "l1"
      ]
    },
    {
      "cell_type": "code",
      "execution_count": null,
      "id": "bf54b65b",
      "metadata": {
        "id": "bf54b65b"
      },
      "outputs": [],
      "source": [
        " d = {1: 3345345  , \"name\" : \"sudh\" , \"email_id\" : \"sudhanshu@ineuron.ai\" , 234 : \"fsfddsf\" , \"43\" : \"sfsaf\" , 234 : \"3454\"}"
      ]
    },
    {
      "cell_type": "code",
      "execution_count": null,
      "id": "c502d0ca",
      "metadata": {
        "id": "c502d0ca",
        "outputId": "f50735de-c781-403e-dde6-e80bdc3ab1ee"
      },
      "outputs": [
        {
          "name": "stdout",
          "output_type": "stream",
          "text": [
            "1 : 3345345\n",
            "234 : 3454\n"
          ]
        }
      ],
      "source": [
        "for i in d :\n",
        "    if type(i) == int :\n",
        "        print(i , \":\"  , d[i])"
      ]
    },
    {
      "cell_type": "code",
      "execution_count": null,
      "id": "bc5be456",
      "metadata": {
        "id": "bc5be456"
      },
      "outputs": [],
      "source": [
        "s = \"aaaabbccd\""
      ]
    },
    {
      "cell_type": "code",
      "execution_count": null,
      "id": "b62dc9a2",
      "metadata": {
        "id": "b62dc9a2",
        "outputId": "0320eea5-b025-4a4a-f5d7-95d9b319b1f7"
      },
      "outputs": [
        {
          "name": "stdout",
          "output_type": "stream",
          "text": [
            "b : 2\n",
            "a : 4\n",
            "c : 2\n",
            "d : 1\n"
          ]
        }
      ],
      "source": [
        "for i in set(s):\n",
        "    print(i  , \":\" , s.count(i))    "
      ]
    },
    {
      "cell_type": "code",
      "execution_count": null,
      "id": "c2546bb9",
      "metadata": {
        "id": "c2546bb9",
        "outputId": "53bfa0ba-40ec-4351-ef2b-9cf20733b34b"
      },
      "outputs": [
        {
          "data": {
            "text/plain": [
              "4"
            ]
          },
          "execution_count": 82,
          "metadata": {},
          "output_type": "execute_result"
        }
      ],
      "source": [
        "s.count('a')"
      ]
    },
    {
      "cell_type": "code",
      "execution_count": null,
      "id": "35375dc5",
      "metadata": {
        "id": "35375dc5",
        "outputId": "30c29743-70c4-47a4-d823-b9ee458f8bd1"
      },
      "outputs": [
        {
          "name": "stdout",
          "output_type": "stream",
          "text": [
            "3 <class 'int'>\n",
            "4 <class 'int'>\n",
            "5 <class 'int'>\n",
            "3 <class 'int'>\n",
            "4 <class 'int'>\n",
            "6 <class 'int'>\n",
            "5 <class 'int'>\n",
            "4 <class 'int'>\n",
            "6 <class 'int'>\n",
            "4 <class 'int'>\n",
            "6 <class 'int'>\n",
            "4 <class 'int'>\n",
            "3 <class 'int'>\n",
            "5 <class 'int'>\n"
          ]
        }
      ],
      "source": [
        "i = 34534654646435\n",
        "for j in str(i) :\n",
        "    print(int(j ), type(int(j)))"
      ]
    },
    {
      "cell_type": "code",
      "execution_count": null,
      "id": "1a78889b",
      "metadata": {
        "id": "1a78889b",
        "outputId": "228606eb-cfc7-42bf-b80e-a822cb96b789"
      },
      "outputs": [
        {
          "data": {
            "text/plain": [
              "'34534654646435'"
            ]
          },
          "execution_count": 85,
          "metadata": {},
          "output_type": "execute_result"
        }
      ],
      "source": [
        "str(i)"
      ]
    },
    {
      "cell_type": "code",
      "execution_count": null,
      "id": "b7c07cb6",
      "metadata": {
        "id": "b7c07cb6"
      },
      "outputs": [],
      "source": [
        "t = (\"sudh\" , \"kumar\" ,[1,2,3,4,5] , (3,4,5,6) , {3:3 , \"key2\" :\"kumar\"})"
      ]
    },
    {
      "cell_type": "code",
      "execution_count": null,
      "id": "ee62969e",
      "metadata": {
        "id": "ee62969e"
      },
      "outputs": [],
      "source": [
        "t=(\"sudh\",\"kumar\",[1,3,5,7,4],(3,5,88,4),{3:3,3:\"kjshdf\",\"key1\":\"sudh\",\"key2\":\"kumar\"})"
      ]
    },
    {
      "cell_type": "code",
      "execution_count": null,
      "id": "3d9496f8",
      "metadata": {
        "id": "3d9496f8",
        "outputId": "963d9199-fedb-4816-b841-977ffd967dc4"
      },
      "outputs": [
        {
          "name": "stdout",
          "output_type": "stream",
          "text": [
            "3\n",
            "3\n",
            "3\n",
            "kjshdf\n"
          ]
        }
      ],
      "source": [
        "for i in t :\n",
        "    if type(i) == list or type(i) == tuple :\n",
        "        for j in i :\n",
        "            if j == 3 :\n",
        "                print(j)\n",
        "    if type(i) == dict :\n",
        "        for k,v  in i.items():\n",
        "            if k == 3 or v == 3 :\n",
        "                print(k)\n",
        "                print(v)\n",
        "        "
      ]
    },
    {
      "cell_type": "code",
      "execution_count": null,
      "id": "76b278bf",
      "metadata": {
        "id": "76b278bf"
      },
      "outputs": [],
      "source": [
        "d = {4:5 , \"key1\" : \"sudh\" , \"key2\" : \"kumar\"}"
      ]
    },
    {
      "cell_type": "code",
      "execution_count": null,
      "id": "0955b52c",
      "metadata": {
        "id": "0955b52c",
        "outputId": "370060b5-6b7f-492f-8876-a61fe11bf2c4"
      },
      "outputs": [
        {
          "data": {
            "text/plain": [
              "dict_items([(4, 5), ('key1', 'sudh'), ('key2', 'kumar')])"
            ]
          },
          "execution_count": 135,
          "metadata": {},
          "output_type": "execute_result"
        }
      ],
      "source": [
        "d.items()"
      ]
    },
    {
      "cell_type": "code",
      "execution_count": null,
      "id": "b54881ee",
      "metadata": {
        "id": "b54881ee",
        "outputId": "08457d6c-f119-4136-92cb-5118cc14c987"
      },
      "outputs": [
        {
          "name": "stdout",
          "output_type": "stream",
          "text": [
            "(4, 5)\n",
            "('key1', 'sudh')\n",
            "('key2', 'kumar')\n"
          ]
        }
      ],
      "source": [
        "for i in d.items():\n",
        "    print(i)"
      ]
    },
    {
      "cell_type": "code",
      "execution_count": null,
      "id": "4f78888b",
      "metadata": {
        "id": "4f78888b",
        "outputId": "67b366c5-fe3e-4cf7-a507-a378d746ca53"
      },
      "outputs": [
        {
          "data": {
            "text/plain": [
              "dict_items([(4, 5), ('key1', 'sudh'), ('key2', 'kumar')])"
            ]
          },
          "execution_count": 105,
          "metadata": {},
          "output_type": "execute_result"
        }
      ],
      "source": [
        "d.items()"
      ]
    },
    {
      "cell_type": "code",
      "execution_count": null,
      "id": "99091377",
      "metadata": {
        "id": "99091377"
      },
      "outputs": [],
      "source": [
        "a = 10 \n",
        "b = 20\n",
        "c = 30 "
      ]
    },
    {
      "cell_type": "code",
      "execution_count": null,
      "id": "b1a6b6ca",
      "metadata": {
        "id": "b1a6b6ca"
      },
      "outputs": [],
      "source": [
        "a , b , c = 10 , 20 , 30 "
      ]
    },
    {
      "cell_type": "code",
      "execution_count": null,
      "id": "41ab2383",
      "metadata": {
        "id": "41ab2383"
      },
      "outputs": [],
      "source": [
        "a,b,c = (10,20,30)"
      ]
    },
    {
      "cell_type": "code",
      "execution_count": null,
      "id": "db438917",
      "metadata": {
        "id": "db438917",
        "outputId": "156acd83-a2a9-4058-f03f-3cbf6c84076f"
      },
      "outputs": [
        {
          "ename": "IndentationError",
          "evalue": "unindent does not match any outer indentation level (<tokenize>, line 10)",
          "output_type": "error",
          "traceback": [
            "\u001b[1;36m  File \u001b[1;32m\"<tokenize>\"\u001b[1;36m, line \u001b[1;32m10\u001b[0m\n\u001b[1;33m    ineruon      ineruon\u001b[0m\n\u001b[1;37m    ^\u001b[0m\n\u001b[1;31mIndentationError\u001b[0m\u001b[1;31m:\u001b[0m unindent does not match any outer indentation level\n"
          ]
        }
      ],
      "source": [
        "q1 :\n",
        "ineruon \n",
        "ineruon ineruon \n",
        "ineruon ineruon ineruon\n",
        "ineruon ineruon ineruon ineruon\n",
        "\n",
        "q2 - \n",
        "\n",
        "          ineruon\n",
        "    ineruon      ineruon\n",
        "ineruon\t\tineruon \tineruon\n",
        "\tineruon\t\t ineruon\n",
        "\t\t  ineruon\n",
        "\n",
        "l = [[1,2,3,4] , (2,3,4,5,6) , (3,4,5,6,7) , set([23,4,5,45,4,4,5,45,45,4,5]) , {'k1' :\"sudh\" , \"k2\" : \"ineuron\",\"k3\":\n",
        "            \"kumar\" , 3:6 , 7:8} , [\"ineuron\" , \"data science \"]]\n",
        "\n",
        "q3 : Try to extract all the list entity \n",
        "q4 : Try to extract all the dict enteties\n",
        "q5 : Try to extract all the tuples entities\n",
        "q6 : Try to extract all the numerical data it may b a part of dict key and values \n",
        "q7 : Try to give summation of all the numeric data \n",
        "q8 : Try to filter out all the odd values out all numeric data which is a part of a list \n",
        "q9 : Try to extract \"ineruon\" out of this data\n",
        "q10 :Try to find out a number of occurances of all the data \n",
        "q11 : Try to find out number of keys in dict element\n",
        "q12 : Try to filter out all the string data \n",
        "q13 : Try to Find  out alphanum in data\n",
        "q14 : Try to find out multiplication of all numeric value in  the individual collection inside dataset \n",
        "q15 : Try to unwrape all the collection inside collection and create a flat list \n",
        "    \n",
        "    \n",
        "before 29th may 2022 3 PM IST you have to send an answer to me or to shivan \n",
        "sudhanshu@ineuron.ai\n",
        "shivan@ineuron.ai"
      ]
    },
    {
      "cell_type": "code",
      "execution_count": null,
      "id": "577d9dfb",
      "metadata": {
        "id": "577d9dfb",
        "outputId": "1903495c-7063-4df6-bf4f-cbe61a719ad6"
      },
      "outputs": [
        {
          "ename": "TypeError",
          "evalue": "unhashable type: 'list'",
          "output_type": "error",
          "traceback": [
            "\u001b[1;31m---------------------------------------------------------------------------\u001b[0m",
            "\u001b[1;31mTypeError\u001b[0m                                 Traceback (most recent call last)",
            "\u001b[1;32m~\\AppData\\Local\\Temp/ipykernel_36256/3516709124.py\u001b[0m in \u001b[0;36m<module>\u001b[1;34m\u001b[0m\n\u001b[1;32m----> 1\u001b[1;33m \u001b[0md\u001b[0m\u001b[1;33m=\u001b[0m \u001b[1;33m{\u001b[0m\u001b[1;34m'key1'\u001b[0m \u001b[1;33m:\u001b[0m\u001b[1;34m\"sudh\"\u001b[0m \u001b[1;33m,\u001b[0m \u001b[1;33m(\u001b[0m\u001b[1;36m3\u001b[0m\u001b[1;33m,\u001b[0m\u001b[1;36m4\u001b[0m\u001b[1;33m,\u001b[0m\u001b[1;36m5\u001b[0m\u001b[1;33m,\u001b[0m\u001b[1;36m65\u001b[0m\u001b[1;33m)\u001b[0m \u001b[1;33m:\u001b[0m \u001b[1;34m\"fdsfdsd\"\u001b[0m \u001b[1;33m,\u001b[0m \u001b[1;33m[\u001b[0m\u001b[1;36m3\u001b[0m\u001b[1;33m,\u001b[0m\u001b[1;36m4\u001b[0m\u001b[1;33m,\u001b[0m\u001b[1;36m5\u001b[0m\u001b[1;33m,\u001b[0m\u001b[1;36m6\u001b[0m\u001b[1;33m]\u001b[0m \u001b[1;33m:\u001b[0m\u001b[1;34m\"345\"\u001b[0m\u001b[1;33m}\u001b[0m\u001b[1;33m\u001b[0m\u001b[1;33m\u001b[0m\u001b[0m\n\u001b[0m",
            "\u001b[1;31mTypeError\u001b[0m: unhashable type: 'list'"
          ]
        }
      ],
      "source": [
        "d= {'key1' :\"sudh\" , (3,4,5,65) : \"fdsfdsd\" , [3,4,5,6] :\"345\"}"
      ]
    },
    {
      "cell_type": "code",
      "execution_count": null,
      "id": "e94d0e64",
      "metadata": {
        "id": "e94d0e64",
        "outputId": "3d2e0996-bd2b-4eb0-e853-da261ed51962"
      },
      "outputs": [
        {
          "name": "stdout",
          "output_type": "stream",
          "text": [
            "3\n",
            "3\n",
            "3\n",
            "3\n"
          ]
        }
      ],
      "source": [
        "for i in t:\n",
        "    if type(i) == list or type(i) == tuple:\n",
        "        for j in i:\n",
        "            if j == 3:\n",
        "                print(j)\n",
        "    if type(i) == dict:\n",
        "        for k,v in i.items():\n",
        "            if k == 3 or v == 3:\n",
        "                print(k)\n",
        "                print(v)"
      ]
    },
    {
      "cell_type": "code",
      "execution_count": null,
      "id": "4269cdc2",
      "metadata": {
        "id": "4269cdc2",
        "outputId": "94d65993-118d-4373-fe56-ea51245b4210"
      },
      "outputs": [
        {
          "ename": "KeyError",
          "evalue": "'a'",
          "output_type": "error",
          "traceback": [
            "\u001b[1;31m---------------------------------------------------------------------------\u001b[0m",
            "\u001b[1;31mKeyError\u001b[0m                                  Traceback (most recent call last)",
            "\u001b[1;32m~\\AppData\\Local\\Temp/ipykernel_36256/3418551350.py\u001b[0m in \u001b[0;36m<module>\u001b[1;34m\u001b[0m\n\u001b[0;32m      1\u001b[0m \u001b[0md1\u001b[0m \u001b[1;33m=\u001b[0m \u001b[1;33m{\u001b[0m\u001b[1;33m}\u001b[0m\u001b[1;33m\u001b[0m\u001b[1;33m\u001b[0m\u001b[0m\n\u001b[1;32m----> 2\u001b[1;33m \u001b[0md1\u001b[0m\u001b[1;33m[\u001b[0m\u001b[1;34m'a'\u001b[0m\u001b[1;33m]\u001b[0m \u001b[1;33m==\u001b[0m \u001b[1;32mNone\u001b[0m\u001b[1;33m\u001b[0m\u001b[1;33m\u001b[0m\u001b[0m\n\u001b[0m",
            "\u001b[1;31mKeyError\u001b[0m: 'a'"
          ]
        }
      ],
      "source": [
        "d1 = {}\n",
        "d1['a'] == None"
      ]
    },
    {
      "cell_type": "code",
      "execution_count": null,
      "id": "b023587b",
      "metadata": {
        "id": "b023587b",
        "outputId": "6f4128b4-4182-494e-8d24-6952ca7a1ab1"
      },
      "outputs": [
        {
          "ename": "KeyError",
          "evalue": "'a'",
          "output_type": "error",
          "traceback": [
            "\u001b[1;31m---------------------------------------------------------------------------\u001b[0m",
            "\u001b[1;31mKeyError\u001b[0m                                  Traceback (most recent call last)",
            "\u001b[1;32m~\\AppData\\Local\\Temp/ipykernel_36256/983012404.py\u001b[0m in \u001b[0;36m<module>\u001b[1;34m\u001b[0m\n\u001b[0;32m      3\u001b[0m \u001b[1;33m\u001b[0m\u001b[0m\n\u001b[0;32m      4\u001b[0m \u001b[1;32mfor\u001b[0m \u001b[0mi\u001b[0m \u001b[1;32min\u001b[0m \u001b[0ms\u001b[0m\u001b[1;33m:\u001b[0m\u001b[1;33m\u001b[0m\u001b[1;33m\u001b[0m\u001b[0m\n\u001b[1;32m----> 5\u001b[1;33m     \u001b[1;32mif\u001b[0m \u001b[0md1\u001b[0m\u001b[1;33m[\u001b[0m\u001b[0mi\u001b[0m\u001b[1;33m]\u001b[0m\u001b[1;33m==\u001b[0m\u001b[1;32mNone\u001b[0m \u001b[1;33m:\u001b[0m\u001b[1;33m\u001b[0m\u001b[1;33m\u001b[0m\u001b[0m\n\u001b[0m\u001b[0;32m      6\u001b[0m         \u001b[0mkey\u001b[0m\u001b[1;33m=\u001b[0m\u001b[0mi\u001b[0m\u001b[1;33m\u001b[0m\u001b[1;33m\u001b[0m\u001b[0m\n\u001b[0;32m      7\u001b[0m         \u001b[0md1\u001b[0m\u001b[1;33m=\u001b[0m\u001b[1;33m{\u001b[0m\u001b[0mkey\u001b[0m\u001b[1;33m:\u001b[0m\u001b[1;36m0\u001b[0m\u001b[1;33m}\u001b[0m\u001b[1;33m\u001b[0m\u001b[1;33m\u001b[0m\u001b[0m\n",
            "\u001b[1;31mKeyError\u001b[0m: 'a'"
          ]
        }
      ],
      "source": [
        "s=\"aaaabbccd\"\n",
        "d1={}\n",
        "\n",
        "for i in s:\n",
        "    if d1[i]==None :\n",
        "        key=i\n",
        "        d1={key:0}\n",
        "    else:\n",
        "        d1[i]=d1[i]+1\n",
        "print(d1)\n"
      ]
    },
    {
      "cell_type": "code",
      "execution_count": null,
      "id": "27afcae7",
      "metadata": {
        "id": "27afcae7"
      },
      "outputs": [],
      "source": [
        "s=\"aaaabbccd\"\n",
        "d = {}\n",
        "for i in set(s) : \n",
        "    d[i] =  s.count(i)\n",
        "    "
      ]
    },
    {
      "cell_type": "code",
      "execution_count": null,
      "id": "761bf90f",
      "metadata": {
        "id": "761bf90f",
        "outputId": "5e4b424f-9513-4eb4-b8a5-362f315a229f"
      },
      "outputs": [
        {
          "data": {
            "text/plain": [
              "{'b': 2, 'a': 4, 'c': 2, 'd': 1}"
            ]
          },
          "execution_count": 121,
          "metadata": {},
          "output_type": "execute_result"
        }
      ],
      "source": [
        "d"
      ]
    },
    {
      "cell_type": "code",
      "execution_count": null,
      "id": "ca866355",
      "metadata": {
        "id": "ca866355",
        "outputId": "b8f6b673-ccfa-4703-e7d1-c9045dc0e326"
      },
      "outputs": [
        {
          "data": {
            "text/plain": [
              "([6, 5, 4, 3, 2, 1, 0], 'ineuron')"
            ]
          },
          "execution_count": 130,
          "metadata": {},
          "output_type": "execute_result"
        }
      ],
      "source": [
        "l = list(range(6,-1,-1))\n",
        "s = 'ineuron'\n",
        "t = (l,s)\n",
        "\n",
        "t"
      ]
    },
    {
      "cell_type": "code",
      "execution_count": null,
      "id": "18b0e400",
      "metadata": {
        "id": "18b0e400",
        "outputId": "aad93a16-96d7-4e7c-908b-374088a299d3"
      },
      "outputs": [
        {
          "name": "stdout",
          "output_type": "stream",
          "text": [
            "([6, 5, 4, 3, 2, 1, 0], 'ineuron')\n"
          ]
        },
        {
          "ename": "ValueError",
          "evalue": "too many values to unpack (expected 2)",
          "output_type": "error",
          "traceback": [
            "\u001b[1;31m---------------------------------------------------------------------------\u001b[0m",
            "\u001b[1;31mValueError\u001b[0m                                Traceback (most recent call last)",
            "\u001b[1;32m~\\AppData\\Local\\Temp/ipykernel_36256/401628409.py\u001b[0m in \u001b[0;36m<module>\u001b[1;34m\u001b[0m\n\u001b[0;32m      1\u001b[0m \u001b[0mprint\u001b[0m\u001b[1;33m(\u001b[0m\u001b[0mt\u001b[0m\u001b[1;33m)\u001b[0m\u001b[1;33m\u001b[0m\u001b[1;33m\u001b[0m\u001b[0m\n\u001b[1;32m----> 2\u001b[1;33m \u001b[1;32mfor\u001b[0m \u001b[0mi\u001b[0m\u001b[1;33m,\u001b[0m\u001b[0mj\u001b[0m \u001b[1;32min\u001b[0m \u001b[0mt\u001b[0m\u001b[1;33m:\u001b[0m\u001b[1;33m\u001b[0m\u001b[1;33m\u001b[0m\u001b[0m\n\u001b[0m\u001b[0;32m      3\u001b[0m     \u001b[0mprint\u001b[0m\u001b[1;33m(\u001b[0m\u001b[0mi\u001b[0m\u001b[1;33m,\u001b[0m\u001b[0mj\u001b[0m\u001b[1;33m)\u001b[0m\u001b[1;33m\u001b[0m\u001b[1;33m\u001b[0m\u001b[0m\n",
            "\u001b[1;31mValueError\u001b[0m: too many values to unpack (expected 2)"
          ]
        }
      ],
      "source": [
        "print(t)\n",
        "for i,j in t:\n",
        "    print(i,j)"
      ]
    },
    {
      "cell_type": "code",
      "execution_count": null,
      "id": "18fc6daf",
      "metadata": {
        "id": "18fc6daf",
        "outputId": "e721fb5d-1f08-4a6f-cb5b-80b272f804ae"
      },
      "outputs": [
        {
          "data": {
            "text/plain": [
              "{'b': 2, 'a': 4, 'c': 2, 'd': 1}"
            ]
          },
          "execution_count": 132,
          "metadata": {},
          "output_type": "execute_result"
        }
      ],
      "source": [
        "d"
      ]
    },
    {
      "cell_type": "code",
      "execution_count": null,
      "id": "c3937a50",
      "metadata": {
        "id": "c3937a50",
        "outputId": "78c58a40-9ae4-4dfd-ee06-7f32a4008bc8"
      },
      "outputs": [
        {
          "data": {
            "text/plain": [
              "dict_items([('b', 2), ('a', 4), ('c', 2), ('d', 1)])"
            ]
          },
          "execution_count": 133,
          "metadata": {},
          "output_type": "execute_result"
        }
      ],
      "source": [
        "d.items()"
      ]
    },
    {
      "cell_type": "code",
      "execution_count": null,
      "id": "7cf489b5",
      "metadata": {
        "id": "7cf489b5"
      },
      "outputs": [],
      "source": [
        "1.\ti = j = [3]\n",
        "              i += j\n",
        "              print(i,j)\n",
        "\n",
        "\n",
        "2.\tset = {\"python\", \"coding\", \"tips\", \"for\", \"beginners\"}\n",
        "               print(set)\n",
        "              ''.join(set)\n",
        "3.\ttuple = (\"python\", \"coding\", \"tips\", \"for\", \"beginners\")\n",
        "               print(tuple)\n",
        "              ''.join(tuple)\n",
        "4.\tprint(dict((\"py\", \"th\", \"on\")))\n",
        "5.\tx, y = (0,1) if True else None, None\n",
        "print(x)\n",
        "6.\ti = j = [3]\n",
        "i += j\n",
        "print(i,j)\n"
      ]
    },
    {
      "cell_type": "code",
      "execution_count": null,
      "id": "46d04ef0",
      "metadata": {
        "id": "46d04ef0",
        "outputId": "ddff23c0-22d4-4904-acd2-f0baa5413e75"
      },
      "outputs": [
        {
          "name": "stdout",
          "output_type": "stream",
          "text": [
            "[3, 3] [3]\n"
          ]
        }
      ],
      "source": [
        "i = j = [3]\n",
        "i = [3] + [3]\n",
        "print(i,j)"
      ]
    },
    {
      "cell_type": "code",
      "execution_count": null,
      "id": "91e56cff",
      "metadata": {
        "id": "91e56cff",
        "outputId": "cb95894f-5a49-4cf8-fe79-b1ed332f9c49"
      },
      "outputs": [
        {
          "name": "stdout",
          "output_type": "stream",
          "text": [
            "{'tips', 'for', 'coding', 'python', 'beginners'}\n"
          ]
        },
        {
          "data": {
            "text/plain": [
              "'tips for coding python beginners'"
            ]
          },
          "execution_count": 142,
          "metadata": {},
          "output_type": "execute_result"
        }
      ],
      "source": [
        "set = {\"python\", \"coding\", \"tips\", \"for\", \"beginners\"}\n",
        "print(set)\n",
        "' '.join(set)"
      ]
    },
    {
      "cell_type": "code",
      "execution_count": null,
      "id": "691847f4",
      "metadata": {
        "id": "691847f4",
        "outputId": "927c17df-d34c-487d-96db-7ebb2235a211"
      },
      "outputs": [
        {
          "name": "stdout",
          "output_type": "stream",
          "text": [
            "('python', 'coding', 'tips', 'for', 'beginners')\n"
          ]
        },
        {
          "data": {
            "text/plain": [
              "'python coding tips for beginners'"
            ]
          },
          "execution_count": 144,
          "metadata": {},
          "output_type": "execute_result"
        }
      ],
      "source": [
        "tuple = (\"python\", \"coding\", \"tips\", \"for\", \"beginners\")\n",
        "print(tuple)\n",
        "' '.join(tuple)"
      ]
    },
    {
      "cell_type": "code",
      "execution_count": null,
      "id": "bd8d1a9c",
      "metadata": {
        "id": "bd8d1a9c",
        "outputId": "cce3f77d-7adf-46bf-ce62-b49b4b8bc32d"
      },
      "outputs": [
        {
          "name": "stdout",
          "output_type": "stream",
          "text": [
            "{'p': 'y', 't': 'h', 'o': 'n'}\n"
          ]
        }
      ],
      "source": [
        "print(dict((\"py\", \"th\", \"on\")))"
      ]
    },
    {
      "cell_type": "code",
      "execution_count": null,
      "id": "029b152d",
      "metadata": {
        "id": "029b152d",
        "outputId": "3cec2277-7fc6-4dd3-d88d-d88f3ae368de"
      },
      "outputs": [
        {
          "name": "stdout",
          "output_type": "stream",
          "text": [
            "(0, 1)\n"
          ]
        }
      ],
      "source": [
        "x, y = (0,1) if True else None , None\n",
        "print(x)"
      ]
    },
    {
      "cell_type": "code",
      "execution_count": null,
      "id": "1d89ad27",
      "metadata": {
        "id": "1d89ad27"
      },
      "outputs": [],
      "source": [
        "i = j = [3]\n",
        "i += j\n",
        "print(i,j)"
      ]
    },
    {
      "cell_type": "code",
      "execution_count": null,
      "id": "1416dae1",
      "metadata": {
        "id": "1416dae1",
        "outputId": "e16bca0d-390d-47b0-86c8-f5551559bf80"
      },
      "outputs": [
        {
          "name": "stdout",
          "output_type": "stream",
          "text": [
            "          * \n",
            "        * * * \n",
            "      * * * * * \n",
            "    * * * * * * * \n",
            "  * * * * * * * * * \n",
            "    * * * * * * * \n",
            "      * * * * * \n",
            "        * * * \n",
            "          * \n"
          ]
        }
      ],
      "source": [
        "n=5\n",
        "for i in range(n-1):\n",
        "    for j in range(i,n):\n",
        "        print(\" \",end=\" \")\n",
        "    for j in range(i):\n",
        "        print(\"*\",end=\" \")\n",
        "    for j in range(i+1):\n",
        "        print(\"*\",end=\" \")\n",
        "    print()\n",
        "for i in range(n):    \n",
        "    for j in range(i+1):\n",
        "        print(\" \",end=\" \")\n",
        "    for j in range(i,n-1):\n",
        "        print(\"*\",end=\" \")\n",
        "    for j in range(i,n):\n",
        "        print(\"*\",end=\" \")\n",
        "    print()\n"
      ]
    },
    {
      "cell_type": "code",
      "execution_count": null,
      "id": "66aee2a0",
      "metadata": {
        "id": "66aee2a0"
      },
      "outputs": [],
      "source": [
        "s = {1,1,1,11,1,1,4,4,4,4}"
      ]
    },
    {
      "cell_type": "code",
      "execution_count": null,
      "id": "b7a06dfe",
      "metadata": {
        "id": "b7a06dfe"
      },
      "outputs": [],
      "source": [
        "f = frozenset((1,2,2,3,34,4,4,4,4))"
      ]
    },
    {
      "cell_type": "code",
      "execution_count": null,
      "id": "d81c4500",
      "metadata": {
        "id": "d81c4500"
      },
      "outputs": [],
      "source": [
        "s.add(3)"
      ]
    },
    {
      "cell_type": "code",
      "execution_count": null,
      "id": "061f7670",
      "metadata": {
        "id": "061f7670",
        "outputId": "d3a8402a-6d5e-41b9-a59f-fb1a9857bacf"
      },
      "outputs": [
        {
          "name": "stdout",
          "output_type": "stream",
          "text": [
            "sudh*\n",
            "sudh*sudh*\n",
            "sudh*sudh*sudh*\n",
            "sudh*sudh*sudh*sudh*\n"
          ]
        }
      ],
      "source": [
        "for i in range(4) :\n",
        "    for j in range (0 , i+1) :\n",
        "        print(\"sudh\" , end = \"*\")\n",
        "    print()"
      ]
    },
    {
      "cell_type": "code",
      "execution_count": null,
      "id": "3f391244",
      "metadata": {
        "id": "3f391244"
      },
      "outputs": [],
      "source": [
        "l= [(3,4,5,6) , [2,4,5,5,6] , {'k1' : 'v1' , 'k2' :'v2'}]\n",
        "l1 = []"
      ]
    },
    {
      "cell_type": "code",
      "execution_count": null,
      "id": "f2e26c2d",
      "metadata": {
        "id": "f2e26c2d"
      },
      "outputs": [],
      "source": [
        "for i in l :\n",
        "    if type(i) == list or type( i )== tuple :\n",
        "        for j in i :\n",
        "            l1.append(j)\n",
        "    if type(i) == dict :\n",
        "        for k in i.items():\n",
        "            for m in k :\n",
        "                l1.append(m)    "
      ]
    },
    {
      "cell_type": "code",
      "execution_count": null,
      "id": "47b4e893",
      "metadata": {
        "id": "47b4e893",
        "outputId": "b845e232-067d-4dce-f768-90236fbd84ce"
      },
      "outputs": [
        {
          "data": {
            "text/plain": [
              "[3, 4, 5, 6, 2, 4, 5, 5, 6, 'k1', 'v1', 'k2', 'v2']"
            ]
          },
          "execution_count": 34,
          "metadata": {},
          "output_type": "execute_result"
        }
      ],
      "source": [
        "l1"
      ]
    },
    {
      "cell_type": "code",
      "execution_count": null,
      "id": "234bf593",
      "metadata": {
        "id": "234bf593",
        "outputId": "4c44dd21-f9f8-4b84-827f-ca8f18775cf7"
      },
      "outputs": [
        {
          "data": {
            "text/plain": [
              "1"
            ]
          },
          "execution_count": 37,
          "metadata": {},
          "output_type": "execute_result"
        }
      ],
      "source": [
        "5%2"
      ]
    },
    {
      "cell_type": "code",
      "execution_count": null,
      "id": "f7c7e969",
      "metadata": {
        "id": "f7c7e969",
        "outputId": "ba8381eb-f4a5-42e4-9c68-6c5c1ce1f6fe"
      },
      "outputs": [
        {
          "name": "stdout",
          "output_type": "stream",
          "text": [
            "3\n",
            "3\n",
            "3\n",
            "3\n"
          ]
        }
      ],
      "source": [
        "t = (\"sudh\" , \"kumar\" , [1,2,3,4,5] , (3,4,5,6) , {3:3 , \"key2\":\"kumar\"})\n",
        "for i in t :\n",
        "    if type(i) == list or type(i) == tuple :\n",
        "        for j in i :\n",
        "            if j == 3 :\n",
        "                print(j)\n",
        "    if type(i) == dict : \n",
        "        for k,v  in i.items():\n",
        "            if k == 3 or v == 3 :\n",
        "                    print(k)\n",
        "                    print(v)\n"
      ]
    },
    {
      "cell_type": "code",
      "execution_count": null,
      "id": "776d959d",
      "metadata": {
        "id": "776d959d",
        "outputId": "6536cf4c-56f3-435b-e7f8-56d76383f866"
      },
      "outputs": [
        {
          "name": "stdout",
          "output_type": "stream",
          "text": [
            "No\n"
          ]
        }
      ],
      "source": [
        "a = \"sudh\"\n",
        "\n",
        "if \"3\" in a:\n",
        "    print(\"yes\")\n",
        "else:\n",
        "    print(\"No\")\n"
      ]
    },
    {
      "cell_type": "code",
      "execution_count": null,
      "id": "81e7d146",
      "metadata": {
        "id": "81e7d146"
      },
      "outputs": [],
      "source": [
        "a = \"sudh\"\n",
        "\n",
        "if 3 in a:\n",
        "    print(\"yes\")\n",
        "else:\n",
        "    print(\"No\")\n",
        "\n",
        "\n",
        "\n",
        "b = [\"sudh\",\"kumar\",\"vyas\"]\n",
        "\n",
        "if 3 in b:\n",
        "    print(\"yes\")\n",
        "else:\n",
        "    print(\"No\")\n"
      ]
    },
    {
      "cell_type": "code",
      "execution_count": null,
      "id": "8fec796f",
      "metadata": {
        "id": "8fec796f",
        "outputId": "8bb9b991-158e-407b-c487-431fc83b410d"
      },
      "outputs": [
        {
          "name": "stdout",
          "output_type": "stream",
          "text": [
            "sudh \n",
            "\n",
            "sudh sudh \n",
            "\n",
            "sudh sudh sudh \n",
            "\n",
            "sudh sudh sudh sudh \n",
            "\n"
          ]
        }
      ],
      "source": [
        "n = 4\n",
        "for i in range(4) :\n",
        "    for j in range(0,i+1) :\n",
        "        print(\"sudh\" , end =\" \")\n",
        "    print(\"\\n\")\n"
      ]
    },
    {
      "cell_type": "code",
      "execution_count": null,
      "id": "3d5e2090",
      "metadata": {
        "id": "3d5e2090",
        "outputId": "09b44b1e-004a-480e-8942-4498c31e9f89"
      },
      "outputs": [
        {
          "name": "stdout",
          "output_type": "stream",
          "text": [
            "  sudh \n",
            " sudh sudh sudh \n",
            "sudh sudh sudh sudh sudh \n"
          ]
        }
      ],
      "source": [
        "n=3\n",
        "for i in range (n):\n",
        "    for j in range(i,n-1):\n",
        "        print(\"\" *len(\"sudh\"),end= \" \")\n",
        "    for j in range (i+1):\n",
        "        print(\"sudh\",end=\" \" )\n",
        "    for j in range(i):\n",
        "        print(\"sudh\",end= \" \")\n",
        "    print()\n"
      ]
    },
    {
      "cell_type": "code",
      "execution_count": null,
      "id": "2eef345e",
      "metadata": {
        "id": "2eef345e",
        "outputId": "ffb9d4f3-2dec-4ee9-a942-f06d8422c32f"
      },
      "outputs": [
        {
          "name": "stdout",
          "output_type": "stream",
          "text": [
            "3\n",
            "3\n",
            "3\n",
            "3\n"
          ]
        }
      ],
      "source": [
        "for i in t :\n",
        "    if type(i) == list or type (i) == tuple :\n",
        "        for j in i :\n",
        "            if j ==3 :\n",
        "                print(j)\n",
        "    if type(i) ==dict :\n",
        "            for k,v in i . items():\n",
        "                if k == 3 or v == 3:\n",
        "                    print(k)   \n",
        "                    print(v)\n"
      ]
    },
    {
      "cell_type": "code",
      "execution_count": null,
      "id": "414d91fa",
      "metadata": {
        "id": "414d91fa",
        "outputId": "c5f11556-744d-4808-f973-06e9085a7cc2"
      },
      "outputs": [
        {
          "name": "stdout",
          "output_type": "stream",
          "text": [
            "890\n"
          ]
        }
      ],
      "source": [
        "b = input()"
      ]
    },
    {
      "cell_type": "code",
      "execution_count": null,
      "id": "c2d2c091",
      "metadata": {
        "id": "c2d2c091"
      },
      "outputs": [],
      "source": [
        ""
      ]
    }
  ],
  "metadata": {
    "kernelspec": {
      "display_name": "Python 3 (ipykernel)",
      "language": "python",
      "name": "python3"
    },
    "language_info": {
      "codemirror_mode": {
        "name": "ipython",
        "version": 3
      },
      "file_extension": ".py",
      "mimetype": "text/x-python",
      "name": "python",
      "nbconvert_exporter": "python",
      "pygments_lexer": "ipython3",
      "version": "3.9.7"
    },
    "colab": {
      "name": "L # 8 -- for loop practice  (1).ipynb",
      "provenance": [],
      "collapsed_sections": [],
      "include_colab_link": true
    }
  },
  "nbformat": 4,
  "nbformat_minor": 5
}