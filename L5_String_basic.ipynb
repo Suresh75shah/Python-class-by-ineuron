{
  "cells": [
    {
      "cell_type": "markdown",
      "metadata": {
        "id": "view-in-github",
        "colab_type": "text"
      },
      "source": [
        "<a href=\"https://colab.research.google.com/github/Suresh75shah/Python-class-by-ineuron/blob/main/L5_String_basic.ipynb\" target=\"_parent\"><img src=\"https://colab.research.google.com/assets/colab-badge.svg\" alt=\"Open In Colab\"/></a>"
      ]
    },
    {
      "cell_type": "code",
      "execution_count": null,
      "id": "38eb4d41",
      "metadata": {
        "id": "38eb4d41"
      },
      "outputs": [],
      "source": [
        "s = \"ineuron\""
      ]
    },
    {
      "cell_type": "code",
      "execution_count": null,
      "id": "5e02c3e3",
      "metadata": {
        "id": "5e02c3e3",
        "outputId": "75f50dd7-850a-4cbc-849c-48f12bad5e03"
      },
      "outputs": [
        {
          "data": {
            "text/plain": [
              "str"
            ]
          },
          "execution_count": 2,
          "metadata": {},
          "output_type": "execute_result"
        }
      ],
      "source": [
        "type(s)"
      ]
    },
    {
      "cell_type": "code",
      "execution_count": null,
      "id": "6b963500",
      "metadata": {
        "id": "6b963500",
        "outputId": "b77b906e-3a99-4330-c299-27ac40c1de38"
      },
      "outputs": [
        {
          "data": {
            "text/plain": [
              "'i'"
            ]
          },
          "execution_count": 3,
          "metadata": {},
          "output_type": "execute_result"
        }
      ],
      "source": [
        "s[0]"
      ]
    },
    {
      "cell_type": "code",
      "execution_count": null,
      "id": "2e9a1d1f",
      "metadata": {
        "id": "2e9a1d1f",
        "outputId": "594f88d5-112a-4028-ba0f-52bae1f0e1db"
      },
      "outputs": [
        {
          "data": {
            "text/plain": [
              "'o'"
            ]
          },
          "execution_count": 4,
          "metadata": {},
          "output_type": "execute_result"
        }
      ],
      "source": [
        "s[5]"
      ]
    },
    {
      "cell_type": "code",
      "execution_count": null,
      "id": "74dcc648",
      "metadata": {
        "id": "74dcc648",
        "outputId": "ef01f644-b275-4015-d01a-d2a021791044"
      },
      "outputs": [
        {
          "data": {
            "text/plain": [
              "'n'"
            ]
          },
          "execution_count": 5,
          "metadata": {},
          "output_type": "execute_result"
        }
      ],
      "source": [
        "s[-1]"
      ]
    },
    {
      "cell_type": "code",
      "execution_count": null,
      "id": "4da1d257",
      "metadata": {
        "id": "4da1d257"
      },
      "outputs": [],
      "source": [
        "s1 = 'sudh'"
      ]
    },
    {
      "cell_type": "code",
      "execution_count": null,
      "id": "2c7e2f80",
      "metadata": {
        "id": "2c7e2f80",
        "outputId": "b5bee553-c63f-4094-f62c-e61e77600193"
      },
      "outputs": [
        {
          "data": {
            "text/plain": [
              "'s'"
            ]
          },
          "execution_count": 7,
          "metadata": {},
          "output_type": "execute_result"
        }
      ],
      "source": [
        "s1[0]"
      ]
    },
    {
      "cell_type": "code",
      "execution_count": null,
      "id": "efb7f6c0",
      "metadata": {
        "id": "efb7f6c0",
        "outputId": "e43bc71d-51a7-4a69-f1d8-3f624e6eee53"
      },
      "outputs": [
        {
          "data": {
            "text/plain": [
              "'h'"
            ]
          },
          "execution_count": 8,
          "metadata": {},
          "output_type": "execute_result"
        }
      ],
      "source": [
        "s1[-1]"
      ]
    },
    {
      "cell_type": "code",
      "execution_count": null,
      "id": "246074da",
      "metadata": {
        "id": "246074da",
        "outputId": "4efd8439-95b6-493c-c21e-0eca7174e090"
      },
      "outputs": [
        {
          "data": {
            "text/plain": [
              "'d'"
            ]
          },
          "execution_count": 9,
          "metadata": {},
          "output_type": "execute_result"
        }
      ],
      "source": [
        "s1[-2]"
      ]
    },
    {
      "cell_type": "code",
      "execution_count": null,
      "id": "1e302549",
      "metadata": {
        "id": "1e302549"
      },
      "outputs": [],
      "source": [
        "s2 = \"this is my very first programming class's\""
      ]
    },
    {
      "cell_type": "code",
      "execution_count": null,
      "id": "73e266ed",
      "metadata": {
        "id": "73e266ed",
        "outputId": "33a5091c-c04f-44bc-b98b-1b38d461fb8d"
      },
      "outputs": [
        {
          "data": {
            "text/plain": [
              "\"this is my very first programming class's\""
            ]
          },
          "execution_count": 13,
          "metadata": {},
          "output_type": "execute_result"
        }
      ],
      "source": [
        "s2"
      ]
    },
    {
      "cell_type": "code",
      "execution_count": null,
      "id": "118b592e",
      "metadata": {
        "id": "118b592e",
        "outputId": "fb5cde90-800c-4dd5-8448-fb3bccd4f21c"
      },
      "outputs": [
        {
          "data": {
            "text/plain": [
              "'m'"
            ]
          },
          "execution_count": 14,
          "metadata": {},
          "output_type": "execute_result"
        }
      ],
      "source": [
        "s2[8]"
      ]
    },
    {
      "cell_type": "code",
      "execution_count": null,
      "id": "8a39c178",
      "metadata": {
        "id": "8a39c178",
        "outputId": "8066a2fb-452e-4970-c33c-b5dc0bcc08aa"
      },
      "outputs": [
        {
          "data": {
            "text/plain": [
              "\"this is my very first programming class's\""
            ]
          },
          "execution_count": 15,
          "metadata": {},
          "output_type": "execute_result"
        }
      ],
      "source": [
        "s2"
      ]
    },
    {
      "cell_type": "code",
      "execution_count": null,
      "id": "1db9f2f9",
      "metadata": {
        "id": "1db9f2f9",
        "outputId": "d2183159-f636-4ef9-df52-09eb7cdd87ff"
      },
      "outputs": [
        {
          "data": {
            "text/plain": [
              "'his '"
            ]
          },
          "execution_count": 16,
          "metadata": {},
          "output_type": "execute_result"
        }
      ],
      "source": [
        "s2[1:5]"
      ]
    },
    {
      "cell_type": "code",
      "execution_count": null,
      "id": "f0e89b9d",
      "metadata": {
        "id": "f0e89b9d",
        "outputId": "e8a09421-1ffc-469a-b072-2d38ba110d04"
      },
      "outputs": [
        {
          "data": {
            "text/plain": [
              "'s my very first programm'"
            ]
          },
          "execution_count": 17,
          "metadata": {},
          "output_type": "execute_result"
        }
      ],
      "source": [
        "s2[6:30]"
      ]
    },
    {
      "cell_type": "code",
      "execution_count": null,
      "id": "1d35d281",
      "metadata": {
        "id": "1d35d281",
        "outputId": "a4e59a83-0612-4ad9-ac0d-44323f2313b7"
      },
      "outputs": [
        {
          "data": {
            "text/plain": [
              "'sm eyfrtporm'"
            ]
          },
          "execution_count": 18,
          "metadata": {},
          "output_type": "execute_result"
        }
      ],
      "source": [
        "s2[6:30:2]"
      ]
    },
    {
      "cell_type": "code",
      "execution_count": null,
      "id": "017a48f1",
      "metadata": {
        "id": "017a48f1"
      },
      "outputs": [],
      "source": [
        "s= \"sudhanshu\""
      ]
    },
    {
      "cell_type": "code",
      "execution_count": null,
      "id": "7b92f73f",
      "metadata": {
        "id": "7b92f73f",
        "outputId": "9bbe9bc4-5483-438a-ce59-06e7415b6712"
      },
      "outputs": [
        {
          "data": {
            "text/plain": [
              "'sudhanshu'"
            ]
          },
          "execution_count": 21,
          "metadata": {},
          "output_type": "execute_result"
        }
      ],
      "source": [
        "s[0:9:1]"
      ]
    },
    {
      "cell_type": "code",
      "execution_count": null,
      "id": "b6fd616b",
      "metadata": {
        "id": "b6fd616b",
        "outputId": "d9fdd7af-62a0-4203-f840-0e8e4fca3240"
      },
      "outputs": [
        {
          "data": {
            "text/plain": [
              "'sudhanshu'"
            ]
          },
          "execution_count": 22,
          "metadata": {},
          "output_type": "execute_result"
        }
      ],
      "source": [
        "s"
      ]
    },
    {
      "cell_type": "code",
      "execution_count": null,
      "id": "f28ed68e",
      "metadata": {
        "id": "f28ed68e",
        "outputId": "d60b1ba8-cc1b-4ba5-f400-739e25fe93bc"
      },
      "outputs": [
        {
          "data": {
            "text/plain": [
              "''"
            ]
          },
          "execution_count": 23,
          "metadata": {},
          "output_type": "execute_result"
        }
      ],
      "source": [
        "s[0:8:-1]"
      ]
    },
    {
      "cell_type": "code",
      "execution_count": null,
      "id": "9d47cede",
      "metadata": {
        "id": "9d47cede",
        "outputId": "dcf0c24d-035b-40cd-e058-b8f224926061"
      },
      "outputs": [
        {
          "data": {
            "text/plain": [
              "'uhsnahdu'"
            ]
          },
          "execution_count": 24,
          "metadata": {},
          "output_type": "execute_result"
        }
      ],
      "source": [
        "s[8:0:-1]"
      ]
    },
    {
      "cell_type": "code",
      "execution_count": null,
      "id": "933bd2d6",
      "metadata": {
        "id": "933bd2d6",
        "outputId": "33d3aef1-f492-4aec-a73a-e9bfc4468a35"
      },
      "outputs": [
        {
          "data": {
            "text/plain": [
              "'usad'"
            ]
          },
          "execution_count": 25,
          "metadata": {},
          "output_type": "execute_result"
        }
      ],
      "source": [
        "s[8:0:-2]"
      ]
    },
    {
      "cell_type": "code",
      "execution_count": null,
      "id": "46fb9bf8",
      "metadata": {
        "id": "46fb9bf8",
        "outputId": "1ebd65f1-fc2a-4a46-c974-cddb072eed54"
      },
      "outputs": [
        {
          "data": {
            "text/plain": [
              "'sudhanshu'"
            ]
          },
          "execution_count": 26,
          "metadata": {},
          "output_type": "execute_result"
        }
      ],
      "source": [
        "s"
      ]
    },
    {
      "cell_type": "code",
      "execution_count": null,
      "id": "e0424612",
      "metadata": {
        "id": "e0424612",
        "outputId": "b6b79f18-8302-4e27-fc2d-ce2cf1995ade"
      },
      "outputs": [
        {
          "data": {
            "text/plain": [
              "'sudhan'"
            ]
          },
          "execution_count": 27,
          "metadata": {},
          "output_type": "execute_result"
        }
      ],
      "source": [
        "s[:-3]"
      ]
    },
    {
      "cell_type": "code",
      "execution_count": null,
      "id": "94e7a886",
      "metadata": {
        "id": "94e7a886",
        "outputId": "a57d310f-6600-4c42-caa5-9ab0d5520110"
      },
      "outputs": [
        {
          "data": {
            "text/plain": [
              "'hu'"
            ]
          },
          "execution_count": 28,
          "metadata": {},
          "output_type": "execute_result"
        }
      ],
      "source": [
        "s[-2:]"
      ]
    },
    {
      "cell_type": "code",
      "execution_count": null,
      "id": "cb8082e4",
      "metadata": {
        "id": "cb8082e4",
        "outputId": "4d1ca42a-7455-4d2d-82c9-485b1cc1bece"
      },
      "outputs": [
        {
          "data": {
            "text/plain": [
              "'sudhanshu'"
            ]
          },
          "execution_count": 29,
          "metadata": {},
          "output_type": "execute_result"
        }
      ],
      "source": [
        "s[::1]"
      ]
    },
    {
      "cell_type": "code",
      "execution_count": null,
      "id": "7ae21652",
      "metadata": {
        "id": "7ae21652",
        "outputId": "0b2865b0-4bc8-4a8a-f33a-32593b56dba1"
      },
      "outputs": [
        {
          "data": {
            "text/plain": [
              "'sudhanshu'"
            ]
          },
          "execution_count": 30,
          "metadata": {},
          "output_type": "execute_result"
        }
      ],
      "source": [
        "s[0:50:1]"
      ]
    },
    {
      "cell_type": "code",
      "execution_count": null,
      "id": "ea90d682",
      "metadata": {
        "id": "ea90d682",
        "outputId": "ec6fc3ae-13a1-4340-e754-a8e8cd9fcd65"
      },
      "outputs": [
        {
          "data": {
            "text/plain": [
              "'uhsnahdus'"
            ]
          },
          "execution_count": 31,
          "metadata": {},
          "output_type": "execute_result"
        }
      ],
      "source": [
        "s[::-1]"
      ]
    },
    {
      "cell_type": "code",
      "execution_count": null,
      "id": "5d54ab5d",
      "metadata": {
        "id": "5d54ab5d",
        "outputId": "970b03c9-86d6-49fa-c8ae-c66fad2ac03c"
      },
      "outputs": [
        {
          "data": {
            "text/plain": [
              "\"this is my very first programming class's\""
            ]
          },
          "execution_count": 32,
          "metadata": {},
          "output_type": "execute_result"
        }
      ],
      "source": [
        "s2"
      ]
    },
    {
      "cell_type": "code",
      "execution_count": null,
      "id": "b38e4ee1",
      "metadata": {
        "id": "b38e4ee1",
        "outputId": "c113ce77-6cce-4c95-9233-72448db9636b"
      },
      "outputs": [
        {
          "data": {
            "text/plain": [
              "\"s'ssalc gnimmargorp tsrif yrev ym si siht\""
            ]
          },
          "execution_count": 33,
          "metadata": {},
          "output_type": "execute_result"
        }
      ],
      "source": [
        "s2[::-1]"
      ]
    },
    {
      "cell_type": "code",
      "execution_count": null,
      "id": "ea4c29a4",
      "metadata": {
        "id": "ea4c29a4"
      },
      "outputs": [],
      "source": [
        "s[8:0:-1]='uhsnahdu' how s will come?"
      ]
    },
    {
      "cell_type": "code",
      "execution_count": null,
      "id": "c73ea2af",
      "metadata": {
        "id": "c73ea2af",
        "outputId": "58d6a529-0a0d-4dc2-fa93-8f92d7d7ccaf"
      },
      "outputs": [
        {
          "data": {
            "text/plain": [
              "'uhsnahdu'"
            ]
          },
          "execution_count": 34,
          "metadata": {},
          "output_type": "execute_result"
        }
      ],
      "source": [
        "s[8:0:-1]"
      ]
    },
    {
      "cell_type": "code",
      "execution_count": null,
      "id": "76e63bdb",
      "metadata": {
        "id": "76e63bdb",
        "outputId": "9bb3867f-bd17-4a42-f8c4-0e547dfca351"
      },
      "outputs": [
        {
          "data": {
            "text/plain": [
              "'sudhanshu'"
            ]
          },
          "execution_count": 35,
          "metadata": {},
          "output_type": "execute_result"
        }
      ],
      "source": [
        "s"
      ]
    },
    {
      "cell_type": "code",
      "execution_count": null,
      "id": "ebd823c5",
      "metadata": {
        "id": "ebd823c5"
      },
      "outputs": [],
      "source": [
        "s3 = 'ineuron'"
      ]
    },
    {
      "cell_type": "code",
      "execution_count": null,
      "id": "eff2195d",
      "metadata": {
        "id": "eff2195d",
        "outputId": "6f671320-4ef0-4ab9-89f1-e9a96ba74b41"
      },
      "outputs": [
        {
          "data": {
            "text/plain": [
              "'norueni'"
            ]
          },
          "execution_count": 37,
          "metadata": {},
          "output_type": "execute_result"
        }
      ],
      "source": [
        "s3[::-1]"
      ]
    },
    {
      "cell_type": "code",
      "execution_count": null,
      "id": "ac1f7312",
      "metadata": {
        "id": "ac1f7312",
        "outputId": "52f183d3-cb45-47e7-e07c-4f995433d814"
      },
      "outputs": [
        {
          "data": {
            "text/plain": [
              "''"
            ]
          },
          "execution_count": 38,
          "metadata": {},
          "output_type": "execute_result"
        }
      ],
      "source": [
        "s3[-2:-7:1]"
      ]
    },
    {
      "cell_type": "code",
      "execution_count": null,
      "id": "f93d9c08",
      "metadata": {
        "id": "f93d9c08",
        "outputId": "b84fe635-a61b-4b20-932a-e1c95615c95b"
      },
      "outputs": [
        {
          "data": {
            "text/plain": [
              "'ineur'"
            ]
          },
          "execution_count": 39,
          "metadata": {},
          "output_type": "execute_result"
        }
      ],
      "source": [
        "s3[-7:-2:1]"
      ]
    },
    {
      "cell_type": "code",
      "execution_count": null,
      "id": "ef7ec2b6",
      "metadata": {
        "id": "ef7ec2b6",
        "outputId": "bdb46036-d22e-4f6f-8320-330e20d06ab4"
      },
      "outputs": [
        {
          "data": {
            "text/plain": [
              "''"
            ]
          },
          "execution_count": 40,
          "metadata": {},
          "output_type": "execute_result"
        }
      ],
      "source": [
        "s[5:0]"
      ]
    },
    {
      "cell_type": "code",
      "execution_count": null,
      "id": "c5df5925",
      "metadata": {
        "id": "c5df5925"
      },
      "outputs": [],
      "source": [
        "s3[-7:-1:1] is giving 'ineuro' but why s3[-7:0:1] is giving blank ? i mean i want to print completely  'ineuron'\n"
      ]
    },
    {
      "cell_type": "code",
      "execution_count": null,
      "id": "98305ecd",
      "metadata": {
        "id": "98305ecd",
        "outputId": "63ab74c6-980c-452c-c2b0-3bdf7f5fac64"
      },
      "outputs": [
        {
          "data": {
            "text/plain": [
              "'ineuro'"
            ]
          },
          "execution_count": 41,
          "metadata": {},
          "output_type": "execute_result"
        }
      ],
      "source": [
        "s3[-7:-1:1]"
      ]
    },
    {
      "cell_type": "code",
      "execution_count": null,
      "id": "c468488c",
      "metadata": {
        "id": "c468488c",
        "outputId": "9e11650b-f590-463c-c7fb-657bad89eb04"
      },
      "outputs": [
        {
          "data": {
            "text/plain": [
              "''"
            ]
          },
          "execution_count": 42,
          "metadata": {},
          "output_type": "execute_result"
        }
      ],
      "source": [
        "s3[-7:0:1]"
      ]
    },
    {
      "cell_type": "code",
      "execution_count": null,
      "id": "f7b1136b",
      "metadata": {
        "id": "f7b1136b",
        "outputId": "9b1c7a0f-cf5a-4c1d-fcfd-3d8bc664f956"
      },
      "outputs": [
        {
          "data": {
            "text/plain": [
              "''"
            ]
          },
          "execution_count": 46,
          "metadata": {},
          "output_type": "execute_result"
        }
      ],
      "source": [
        "s[:-1:-1] "
      ]
    },
    {
      "cell_type": "code",
      "execution_count": null,
      "id": "e88fda54",
      "metadata": {
        "id": "e88fda54",
        "outputId": "7051d763-055b-4573-d1fb-08fe2d4ae28f"
      },
      "outputs": [
        {
          "data": {
            "text/plain": [
              "'sudhanshu'"
            ]
          },
          "execution_count": 45,
          "metadata": {},
          "output_type": "execute_result"
        }
      ],
      "source": [
        "s"
      ]
    },
    {
      "cell_type": "code",
      "execution_count": null,
      "id": "b15d50c7",
      "metadata": {
        "id": "b15d50c7",
        "outputId": "94a7a871-9d29-4f5f-981a-f88c5daffc22"
      },
      "outputs": [
        {
          "data": {
            "text/plain": [
              "'sudhanshu'"
            ]
          },
          "execution_count": 47,
          "metadata": {},
          "output_type": "execute_result"
        }
      ],
      "source": [
        "s"
      ]
    },
    {
      "cell_type": "code",
      "execution_count": null,
      "id": "9e1a40b2",
      "metadata": {
        "id": "9e1a40b2",
        "outputId": "ea18fb70-391a-4412-ced9-a02374cdb8a3"
      },
      "outputs": [
        {
          "ename": "TypeError",
          "evalue": "can only concatenate str (not \"int\") to str",
          "output_type": "error",
          "traceback": [
            "\u001b[1;31m---------------------------------------------------------------------------\u001b[0m",
            "\u001b[1;31mTypeError\u001b[0m                                 Traceback (most recent call last)",
            "\u001b[1;32m~\\AppData\\Local\\Temp/ipykernel_22136/3893389454.py\u001b[0m in \u001b[0;36m<module>\u001b[1;34m\u001b[0m\n\u001b[1;32m----> 1\u001b[1;33m \u001b[0ms\u001b[0m \u001b[1;33m+\u001b[0m \u001b[1;36m1\u001b[0m\u001b[1;33m\u001b[0m\u001b[1;33m\u001b[0m\u001b[0m\n\u001b[0m",
            "\u001b[1;31mTypeError\u001b[0m: can only concatenate str (not \"int\") to str"
          ]
        }
      ],
      "source": [
        "s + 1"
      ]
    },
    {
      "cell_type": "code",
      "execution_count": null,
      "id": "ea65620b",
      "metadata": {
        "id": "ea65620b",
        "outputId": "8e946d01-8339-4c73-e9d2-7e4b089a4b5f"
      },
      "outputs": [
        {
          "data": {
            "text/plain": [
              "'sudhanshu1'"
            ]
          },
          "execution_count": 49,
          "metadata": {},
          "output_type": "execute_result"
        }
      ],
      "source": [
        "s + '1'"
      ]
    },
    {
      "cell_type": "code",
      "execution_count": null,
      "id": "5cbfcb76",
      "metadata": {
        "id": "5cbfcb76",
        "outputId": "b7ae0ba0-c727-443e-f8e9-fab581452b74"
      },
      "outputs": [
        {
          "data": {
            "text/plain": [
              "'sudhanshu1'"
            ]
          },
          "execution_count": 50,
          "metadata": {},
          "output_type": "execute_result"
        }
      ],
      "source": [
        "s+\"1\""
      ]
    },
    {
      "cell_type": "code",
      "execution_count": null,
      "id": "e215acf3",
      "metadata": {
        "id": "e215acf3",
        "outputId": "4bde3775-e3de-45ae-bea3-2978eb00487f"
      },
      "outputs": [
        {
          "data": {
            "text/plain": [
              "'sudhanshu1'"
            ]
          },
          "execution_count": 51,
          "metadata": {},
          "output_type": "execute_result"
        }
      ],
      "source": [
        "s+ str(1)"
      ]
    },
    {
      "cell_type": "code",
      "execution_count": null,
      "id": "4f133bca",
      "metadata": {
        "id": "4f133bca",
        "outputId": "85b0653e-2f52-4c9c-dbdc-7f7a1e8444c7"
      },
      "outputs": [
        {
          "data": {
            "text/plain": [
              "'sudh45634673576458745687457'"
            ]
          },
          "execution_count": 53,
          "metadata": {},
          "output_type": "execute_result"
        }
      ],
      "source": [
        "\"sudh\" + '45634673576458745687457'\n"
      ]
    },
    {
      "cell_type": "code",
      "execution_count": null,
      "id": "be48b48b",
      "metadata": {
        "id": "be48b48b",
        "outputId": "45e573c5-340e-4838-fae4-8fa7f7785032"
      },
      "outputs": [
        {
          "data": {
            "text/plain": [
              "'sudhanshu'"
            ]
          },
          "execution_count": 54,
          "metadata": {},
          "output_type": "execute_result"
        }
      ],
      "source": [
        "s"
      ]
    },
    {
      "cell_type": "code",
      "execution_count": null,
      "id": "0a4091c3",
      "metadata": {
        "id": "0a4091c3",
        "outputId": "bccc848c-d0c4-4524-a42d-21d3fc1133f0"
      },
      "outputs": [
        {
          "data": {
            "text/plain": [
              "9"
            ]
          },
          "execution_count": 55,
          "metadata": {},
          "output_type": "execute_result"
        }
      ],
      "source": [
        "len(s)"
      ]
    },
    {
      "cell_type": "code",
      "execution_count": null,
      "id": "73c33469",
      "metadata": {
        "id": "73c33469",
        "outputId": "406b8924-a3a8-4da9-a10a-a25830b21be4"
      },
      "outputs": [
        {
          "data": {
            "text/plain": [
              "'sudhanshu'"
            ]
          },
          "execution_count": 56,
          "metadata": {},
          "output_type": "execute_result"
        }
      ],
      "source": [
        "s "
      ]
    },
    {
      "cell_type": "code",
      "execution_count": null,
      "id": "d6f3a56e",
      "metadata": {
        "id": "d6f3a56e",
        "outputId": "5936a091-49f0-492e-89da-18ba4fe8d67c"
      },
      "outputs": [
        {
          "data": {
            "text/plain": [
              "'sudhanshusudhanshusudhanshusudhanshu'"
            ]
          },
          "execution_count": 58,
          "metadata": {},
          "output_type": "execute_result"
        }
      ],
      "source": [
        "s * 4"
      ]
    },
    {
      "cell_type": "code",
      "execution_count": null,
      "id": "3e2032d4",
      "metadata": {
        "id": "3e2032d4",
        "outputId": "0431c7b0-f7df-4f0d-c363-dfaa1730f2f7"
      },
      "outputs": [
        {
          "data": {
            "text/plain": [
              "'sudhanshu'"
            ]
          },
          "execution_count": 59,
          "metadata": {},
          "output_type": "execute_result"
        }
      ],
      "source": [
        "s"
      ]
    },
    {
      "cell_type": "code",
      "execution_count": null,
      "id": "bacfea12",
      "metadata": {
        "id": "bacfea12",
        "outputId": "7ab4fe3d-3c61-412d-83fc-61e689c928bc"
      },
      "outputs": [
        {
          "data": {
            "text/plain": [
              "0"
            ]
          },
          "execution_count": 64,
          "metadata": {},
          "output_type": "execute_result"
        }
      ],
      "source": [
        "s.count('sum')"
      ]
    },
    {
      "cell_type": "code",
      "execution_count": null,
      "id": "01d2de29",
      "metadata": {
        "id": "01d2de29",
        "outputId": "2c51b2f1-80ce-47cb-b287-247c8260628f"
      },
      "outputs": [
        {
          "data": {
            "text/plain": [
              "'sudhanshu'"
            ]
          },
          "execution_count": 63,
          "metadata": {},
          "output_type": "execute_result"
        }
      ],
      "source": [
        "s"
      ]
    },
    {
      "cell_type": "code",
      "execution_count": null,
      "id": "ad35d8ae",
      "metadata": {
        "id": "ad35d8ae",
        "outputId": "15429ba1-8ca1-4a05-8b8f-b4a44fc69791"
      },
      "outputs": [
        {
          "data": {
            "text/plain": [
              "list"
            ]
          },
          "execution_count": 67,
          "metadata": {},
          "output_type": "execute_result"
        }
      ],
      "source": [
        "type(s.split('u'))"
      ]
    },
    {
      "cell_type": "code",
      "execution_count": null,
      "id": "affd70a0",
      "metadata": {
        "id": "affd70a0",
        "outputId": "03e320a3-5450-4d87-93d6-bbe1bee6305f"
      },
      "outputs": [
        {
          "data": {
            "text/plain": [
              "['s', 'dhansh', '']"
            ]
          },
          "execution_count": 68,
          "metadata": {},
          "output_type": "execute_result"
        }
      ],
      "source": [
        "s.split('u')"
      ]
    },
    {
      "cell_type": "code",
      "execution_count": null,
      "id": "5dcacc72",
      "metadata": {
        "id": "5dcacc72"
      },
      "outputs": [],
      "source": [
        "sw = \"\"\"The Samsung Group[3] (or simply Samsung, stylized as SΛMSUNG) (Korean: 삼성 [samsʌŋ]) is a South Korean multinational manufacturing conglomerate headquartered in Samsung Town, Seoul, South Korea.[1] It comprises numerous affiliated businesses,[1] most of them united under the Samsung brand, and is the largest South Korean chaebol (business conglomerate). As of 2020, Samsung has the 8th highest global brand value.[4]\n",
        "\n",
        "Samsung was founded by Lee Byung-chul in 1938 as a trading company. Over the next three decades, the group diversified into areas including food processing, textiles, insurance, securities, and retail. Samsung entered the electronics industry in the late 1960s and the construction and shipbuilding industries in the mid-1970s; these areas would drive its subsequent growth. Following Lee's death in 1987, Samsung was separated into five business groups – Samsung Group, Shinsegae Group, CJ Group and Hansol Group, and Joongang Group.\n",
        "\n",
        "Notable Samsung industrial affiliates include Samsung Electronics (the world's largest information technology company, consumer electronics maker and chipmaker measured by 2017 revenues),[5][6] Samsung Heavy Industries (the world's 2nd largest shipbuilder measured by 2010 revenues),[7] and Samsung Engineering and Samsung C&T Corporation (respectively the world's 13th and 36th largest construction companies).[8] Other notable subsidiaries include Samsung Life Insurance (the world's 14th largest life insurance company),[9] Samsung Everland (operator of Everland Resort, the oldest theme park in South Korea)[10] and Cheil Worldwide (the world's 15th largest advertising agency, as measured by 2012 revenues).[11][12]\"\"\""
      ]
    },
    {
      "cell_type": "code",
      "execution_count": null,
      "id": "3dc066d6",
      "metadata": {
        "id": "3dc066d6"
      },
      "outputs": [],
      "source": [
        "sw = \"The Samsung Group[3] (or simply Samsung, stylized as SΛMSUNG) (Korean: 삼성 [samsʌŋ]) is a South Korean multinational manufacturing conglomerate\""
      ]
    },
    {
      "cell_type": "code",
      "execution_count": null,
      "id": "d31cb78c",
      "metadata": {
        "id": "d31cb78c",
        "outputId": "605cb0cb-ace1-4af1-82dd-aa897ad193b9"
      },
      "outputs": [
        {
          "data": {
            "text/plain": [
              "'The Samsung Group[3] (or simply Samsung, stylized as SΛMSUNG) (Korean: 삼성 [samsʌŋ]) is a South Korean multinational manufacturing conglomerate'"
            ]
          },
          "execution_count": 72,
          "metadata": {},
          "output_type": "execute_result"
        }
      ],
      "source": [
        "sw"
      ]
    },
    {
      "cell_type": "code",
      "execution_count": null,
      "id": "b3073218",
      "metadata": {
        "id": "b3073218",
        "outputId": "da6ebcf6-7773-45f0-e731-c952e8bb5b78"
      },
      "outputs": [
        {
          "data": {
            "text/plain": [
              "['The',\n",
              " 'Samsung',\n",
              " 'Group[3]',\n",
              " '(or',\n",
              " 'simply',\n",
              " 'Samsung,',\n",
              " 'stylized',\n",
              " 'as',\n",
              " 'SΛMSUNG)',\n",
              " '(Korean:',\n",
              " '삼성',\n",
              " '[samsʌŋ])',\n",
              " 'is',\n",
              " 'a',\n",
              " 'South',\n",
              " 'Korean',\n",
              " 'multinational',\n",
              " 'manufacturing',\n",
              " 'conglomerate']"
            ]
          },
          "execution_count": 73,
          "metadata": {},
          "output_type": "execute_result"
        }
      ],
      "source": [
        "sw.split(' ')"
      ]
    },
    {
      "cell_type": "code",
      "execution_count": null,
      "id": "a44c898b",
      "metadata": {
        "id": "a44c898b",
        "outputId": "c955f74a-dafe-4246-8063-10d5503e2023"
      },
      "outputs": [
        {
          "data": {
            "text/plain": [
              "\"The Samsung Group[3] (or simply Samsung, stylized as SΛMSUNG) (Korean: 삼성 [samsʌŋ]) is a South Korean multinational manufacturing conglomerate headquartered in Samsung Town, Seoul, South Korea.[1] It comprises numerous affiliated businesses,[1] most of them united under the Samsung brand, and is the largest South Korean chaebol (business conglomerate). As of 2020, Samsung has the 8th highest global brand value.[4]\\n\\nSamsung was founded by Lee Byung-chul in 1938 as a trading company. Over the next three decades, the group diversified into areas including food processing, textiles, insurance, securities, and retail. Samsung entered the electronics industry in the late 1960s and the construction and shipbuilding industries in the mid-1970s; these areas would drive its subsequent growth. Following Lee's death in 1987, Samsung was separated into five business groups – Samsung Group, Shinsegae Group, CJ Group and Hansol Group, and Joongang Group.\\n\\nNotable Samsung industrial affiliates include Samsung Electronics (the world's largest information technology company, consumer electronics maker and chipmaker measured by 2017 revenues),[5][6] Samsung Heavy Industries (the world's 2nd largest shipbuilder measured by 2010 revenues),[7] and Samsung Engineering and Samsung C&T Corporation (respectively the world's 13th and 36th largest construction companies).[8] Other notable subsidiaries include Samsung Life Insurance (the world's 14th largest life insurance company),[9] Samsung Everland (operator of Everland Resort, the oldest theme park in South Korea)[10] and Cheil Worldwide (the world's 15th largest advertising agency, as measured by 2012 revenues).[11][12]\""
            ]
          },
          "execution_count": 75,
          "metadata": {},
          "output_type": "execute_result"
        }
      ],
      "source": [
        "sw"
      ]
    },
    {
      "cell_type": "code",
      "execution_count": null,
      "id": "fe65151a",
      "metadata": {
        "id": "fe65151a",
        "outputId": "ca5ccfd3-f871-49f2-f742-bd4c4c5f26c5"
      },
      "outputs": [
        {
          "data": {
            "text/plain": [
              "['The',\n",
              " 'Samsung',\n",
              " 'Group[3]',\n",
              " '(or',\n",
              " 'simply',\n",
              " 'Samsung,',\n",
              " 'stylized',\n",
              " 'as',\n",
              " 'SΛMSUNG)',\n",
              " '(Korean:',\n",
              " '삼성',\n",
              " '[samsʌŋ])',\n",
              " 'is',\n",
              " 'a',\n",
              " 'South',\n",
              " 'Korean',\n",
              " 'multinational',\n",
              " 'manufacturing',\n",
              " 'conglomerate',\n",
              " 'headquartered',\n",
              " 'in',\n",
              " 'Samsung',\n",
              " 'Town,',\n",
              " 'Seoul,',\n",
              " 'South',\n",
              " 'Korea.[1]',\n",
              " 'It',\n",
              " 'comprises',\n",
              " 'numerous',\n",
              " 'affiliated',\n",
              " 'businesses,[1]',\n",
              " 'most',\n",
              " 'of',\n",
              " 'them',\n",
              " 'united',\n",
              " 'under',\n",
              " 'the',\n",
              " 'Samsung',\n",
              " 'brand,',\n",
              " 'and',\n",
              " 'is',\n",
              " 'the',\n",
              " 'largest',\n",
              " 'South',\n",
              " 'Korean',\n",
              " 'chaebol',\n",
              " '(business',\n",
              " 'conglomerate).',\n",
              " 'As',\n",
              " 'of',\n",
              " '2020,',\n",
              " 'Samsung',\n",
              " 'has',\n",
              " 'the',\n",
              " '8th',\n",
              " 'highest',\n",
              " 'global',\n",
              " 'brand',\n",
              " 'value.[4]\\n\\nSamsung',\n",
              " 'was',\n",
              " 'founded',\n",
              " 'by',\n",
              " 'Lee',\n",
              " 'Byung-chul',\n",
              " 'in',\n",
              " '1938',\n",
              " 'as',\n",
              " 'a',\n",
              " 'trading',\n",
              " 'company.',\n",
              " 'Over',\n",
              " 'the',\n",
              " 'next',\n",
              " 'three',\n",
              " 'decades,',\n",
              " 'the',\n",
              " 'group',\n",
              " 'diversified',\n",
              " 'into',\n",
              " 'areas',\n",
              " 'including',\n",
              " 'food',\n",
              " 'processing,',\n",
              " 'textiles,',\n",
              " 'insurance,',\n",
              " 'securities,',\n",
              " 'and',\n",
              " 'retail.',\n",
              " 'Samsung',\n",
              " 'entered',\n",
              " 'the',\n",
              " 'electronics',\n",
              " 'industry',\n",
              " 'in',\n",
              " 'the',\n",
              " 'late',\n",
              " '1960s',\n",
              " 'and',\n",
              " 'the',\n",
              " 'construction',\n",
              " 'and',\n",
              " 'shipbuilding',\n",
              " 'industries',\n",
              " 'in',\n",
              " 'the',\n",
              " 'mid-1970s;',\n",
              " 'these',\n",
              " 'areas',\n",
              " 'would',\n",
              " 'drive',\n",
              " 'its',\n",
              " 'subsequent',\n",
              " 'growth.',\n",
              " 'Following',\n",
              " \"Lee's\",\n",
              " 'death',\n",
              " 'in',\n",
              " '1987,',\n",
              " 'Samsung',\n",
              " 'was',\n",
              " 'separated',\n",
              " 'into',\n",
              " 'five',\n",
              " 'business',\n",
              " 'groups',\n",
              " '–',\n",
              " 'Samsung',\n",
              " 'Group,',\n",
              " 'Shinsegae',\n",
              " 'Group,',\n",
              " 'CJ',\n",
              " 'Group',\n",
              " 'and',\n",
              " 'Hansol',\n",
              " 'Group,',\n",
              " 'and',\n",
              " 'Joongang',\n",
              " 'Group.\\n\\nNotable',\n",
              " 'Samsung',\n",
              " 'industrial',\n",
              " 'affiliates',\n",
              " 'include',\n",
              " 'Samsung',\n",
              " 'Electronics',\n",
              " '(the',\n",
              " \"world's\",\n",
              " 'largest',\n",
              " 'information',\n",
              " 'technology',\n",
              " 'company,',\n",
              " 'consumer',\n",
              " 'electronics',\n",
              " 'maker',\n",
              " 'and',\n",
              " 'chipmaker',\n",
              " 'measured',\n",
              " 'by',\n",
              " '2017',\n",
              " 'revenues),[5][6]',\n",
              " 'Samsung',\n",
              " 'Heavy',\n",
              " 'Industries',\n",
              " '(the',\n",
              " \"world's\",\n",
              " '2nd',\n",
              " 'largest',\n",
              " 'shipbuilder',\n",
              " 'measured',\n",
              " 'by',\n",
              " '2010',\n",
              " 'revenues),[7]',\n",
              " 'and',\n",
              " 'Samsung',\n",
              " 'Engineering',\n",
              " 'and',\n",
              " 'Samsung',\n",
              " 'C&T',\n",
              " 'Corporation',\n",
              " '(respectively',\n",
              " 'the',\n",
              " \"world's\",\n",
              " '13th',\n",
              " 'and',\n",
              " '36th',\n",
              " 'largest',\n",
              " 'construction',\n",
              " 'companies).[8]',\n",
              " 'Other',\n",
              " 'notable',\n",
              " 'subsidiaries',\n",
              " 'include',\n",
              " 'Samsung',\n",
              " 'Life',\n",
              " 'Insurance',\n",
              " '(the',\n",
              " \"world's\",\n",
              " '14th',\n",
              " 'largest',\n",
              " 'life',\n",
              " 'insurance',\n",
              " 'company),[9]',\n",
              " 'Samsung',\n",
              " 'Everland',\n",
              " '(operator',\n",
              " 'of',\n",
              " 'Everland',\n",
              " 'Resort,',\n",
              " 'the',\n",
              " 'oldest',\n",
              " 'theme',\n",
              " 'park',\n",
              " 'in',\n",
              " 'South',\n",
              " 'Korea)[10]',\n",
              " 'and',\n",
              " 'Cheil',\n",
              " 'Worldwide',\n",
              " '(the',\n",
              " \"world's\",\n",
              " '15th',\n",
              " 'largest',\n",
              " 'advertising',\n",
              " 'agency,',\n",
              " 'as',\n",
              " 'measured',\n",
              " 'by',\n",
              " '2012',\n",
              " 'revenues).[11][12]']"
            ]
          },
          "execution_count": 76,
          "metadata": {},
          "output_type": "execute_result"
        }
      ],
      "source": [
        "sw.split(' ')"
      ]
    },
    {
      "cell_type": "code",
      "execution_count": null,
      "id": "d7381fbf",
      "metadata": {
        "id": "d7381fbf",
        "outputId": "d1d7a690-c624-42bf-ccbc-981a031fdcc0"
      },
      "outputs": [
        {
          "data": {
            "text/plain": [
              "\"The Samsung Group[3] (or simply Samsung, stylized as SΛMSUNG) (Korean: 삼성 [samsʌŋ]) is a South Korean multinational manufacturing conglomerate headquartered in Samsung Town, Seoul, South Korea.[1] It comprises numerous affiliated businesses,[1] most of them united under the Samsung brand, and is the largest South Korean chaebol (business conglomerate). As of 2020, Samsung has the 8th highest global brand value.[4]\\n\\nSamsung was founded by Lee Byung-chul in 1938 as a trading company. Over the next three decades, the group diversified into areas including food processing, textiles, insurance, securities, and retail. Samsung entered the electronics industry in the late 1960s and the construction and shipbuilding industries in the mid-1970s; these areas would drive its subsequent growth. Following Lee's death in 1987, Samsung was separated into five business groups – Samsung Group, Shinsegae Group, CJ Group and Hansol Group, and Joongang Group.\\n\\nNotable Samsung industrial affiliates include Samsung Electronics (the world's largest information technology company, consumer electronics maker and chipmaker measured by 2017 revenues),[5][6] Samsung Heavy Industries (the world's 2nd largest shipbuilder measured by 2010 revenues),[7] and Samsung Engineering and Samsung C&T Corporation (respectively the world's 13th and 36th largest construction companies).[8] Other notable subsidiaries include Samsung Life Insurance (the world's 14th largest life insurance company),[9] Samsung Everland (operator of Everland Resort, the oldest theme park in South Korea)[10] and Cheil Worldwide (the world's 15th largest advertising agency, as measured by 2012 revenues).[11][12]\""
            ]
          },
          "execution_count": 77,
          "metadata": {},
          "output_type": "execute_result"
        }
      ],
      "source": [
        "sw"
      ]
    },
    {
      "cell_type": "code",
      "execution_count": null,
      "id": "a6cf48e1",
      "metadata": {
        "id": "a6cf48e1",
        "outputId": "59f4843d-d628-4d48-d4eb-6f0fb9c8a53b"
      },
      "outputs": [
        {
          "data": {
            "text/plain": [
              "\"THE SAMSUNG GROUP[3] (OR SIMPLY SAMSUNG, STYLIZED AS SΛMSUNG) (KOREAN: 삼성 [SAMSɅŊ]) IS A SOUTH KOREAN MULTINATIONAL MANUFACTURING CONGLOMERATE HEADQUARTERED IN SAMSUNG TOWN, SEOUL, SOUTH KOREA.[1] IT COMPRISES NUMEROUS AFFILIATED BUSINESSES,[1] MOST OF THEM UNITED UNDER THE SAMSUNG BRAND, AND IS THE LARGEST SOUTH KOREAN CHAEBOL (BUSINESS CONGLOMERATE). AS OF 2020, SAMSUNG HAS THE 8TH HIGHEST GLOBAL BRAND VALUE.[4]\\n\\nSAMSUNG WAS FOUNDED BY LEE BYUNG-CHUL IN 1938 AS A TRADING COMPANY. OVER THE NEXT THREE DECADES, THE GROUP DIVERSIFIED INTO AREAS INCLUDING FOOD PROCESSING, TEXTILES, INSURANCE, SECURITIES, AND RETAIL. SAMSUNG ENTERED THE ELECTRONICS INDUSTRY IN THE LATE 1960S AND THE CONSTRUCTION AND SHIPBUILDING INDUSTRIES IN THE MID-1970S; THESE AREAS WOULD DRIVE ITS SUBSEQUENT GROWTH. FOLLOWING LEE'S DEATH IN 1987, SAMSUNG WAS SEPARATED INTO FIVE BUSINESS GROUPS – SAMSUNG GROUP, SHINSEGAE GROUP, CJ GROUP AND HANSOL GROUP, AND JOONGANG GROUP.\\n\\nNOTABLE SAMSUNG INDUSTRIAL AFFILIATES INCLUDE SAMSUNG ELECTRONICS (THE WORLD'S LARGEST INFORMATION TECHNOLOGY COMPANY, CONSUMER ELECTRONICS MAKER AND CHIPMAKER MEASURED BY 2017 REVENUES),[5][6] SAMSUNG HEAVY INDUSTRIES (THE WORLD'S 2ND LARGEST SHIPBUILDER MEASURED BY 2010 REVENUES),[7] AND SAMSUNG ENGINEERING AND SAMSUNG C&T CORPORATION (RESPECTIVELY THE WORLD'S 13TH AND 36TH LARGEST CONSTRUCTION COMPANIES).[8] OTHER NOTABLE SUBSIDIARIES INCLUDE SAMSUNG LIFE INSURANCE (THE WORLD'S 14TH LARGEST LIFE INSURANCE COMPANY),[9] SAMSUNG EVERLAND (OPERATOR OF EVERLAND RESORT, THE OLDEST THEME PARK IN SOUTH KOREA)[10] AND CHEIL WORLDWIDE (THE WORLD'S 15TH LARGEST ADVERTISING AGENCY, AS MEASURED BY 2012 REVENUES).[11][12]\""
            ]
          },
          "execution_count": 78,
          "metadata": {},
          "output_type": "execute_result"
        }
      ],
      "source": [
        "sw.upper()"
      ]
    },
    {
      "cell_type": "code",
      "execution_count": null,
      "id": "b9557aa4",
      "metadata": {
        "id": "b9557aa4",
        "outputId": "ecbdc256-daf3-48de-cbaa-1a7f27e9c9a4"
      },
      "outputs": [
        {
          "data": {
            "text/plain": [
              "\"The Samsung Group[3] (or simply Samsung, stylized as SΛMSUNG) (Korean: 삼성 [samsʌŋ]) is a South Korean multinational manufacturing conglomerate headquartered in Samsung Town, Seoul, South Korea.[1] It comprises numerous affiliated businesses,[1] most of them united under the Samsung brand, and is the largest South Korean chaebol (business conglomerate). As of 2020, Samsung has the 8th highest global brand value.[4]\\n\\nSamsung was founded by Lee Byung-chul in 1938 as a trading company. Over the next three decades, the group diversified into areas including food processing, textiles, insurance, securities, and retail. Samsung entered the electronics industry in the late 1960s and the construction and shipbuilding industries in the mid-1970s; these areas would drive its subsequent growth. Following Lee's death in 1987, Samsung was separated into five business groups – Samsung Group, Shinsegae Group, CJ Group and Hansol Group, and Joongang Group.\\n\\nNotable Samsung industrial affiliates include Samsung Electronics (the world's largest information technology company, consumer electronics maker and chipmaker measured by 2017 revenues),[5][6] Samsung Heavy Industries (the world's 2nd largest shipbuilder measured by 2010 revenues),[7] and Samsung Engineering and Samsung C&T Corporation (respectively the world's 13th and 36th largest construction companies).[8] Other notable subsidiaries include Samsung Life Insurance (the world's 14th largest life insurance company),[9] Samsung Everland (operator of Everland Resort, the oldest theme park in South Korea)[10] and Cheil Worldwide (the world's 15th largest advertising agency, as measured by 2012 revenues).[11][12]\""
            ]
          },
          "execution_count": 79,
          "metadata": {},
          "output_type": "execute_result"
        }
      ],
      "source": [
        "sw"
      ]
    },
    {
      "cell_type": "code",
      "execution_count": null,
      "id": "69bfb5ed",
      "metadata": {
        "id": "69bfb5ed"
      },
      "outputs": [],
      "source": [
        "sw = sw.upper()"
      ]
    },
    {
      "cell_type": "code",
      "execution_count": null,
      "id": "59191441",
      "metadata": {
        "id": "59191441",
        "outputId": "a80936dc-388f-445b-fd73-11c87c877d01"
      },
      "outputs": [
        {
          "data": {
            "text/plain": [
              "\"THE SAMSUNG GROUP[3] (OR SIMPLY SAMSUNG, STYLIZED AS SΛMSUNG) (KOREAN: 삼성 [SAMSɅŊ]) IS A SOUTH KOREAN MULTINATIONAL MANUFACTURING CONGLOMERATE HEADQUARTERED IN SAMSUNG TOWN, SEOUL, SOUTH KOREA.[1] IT COMPRISES NUMEROUS AFFILIATED BUSINESSES,[1] MOST OF THEM UNITED UNDER THE SAMSUNG BRAND, AND IS THE LARGEST SOUTH KOREAN CHAEBOL (BUSINESS CONGLOMERATE). AS OF 2020, SAMSUNG HAS THE 8TH HIGHEST GLOBAL BRAND VALUE.[4]\\n\\nSAMSUNG WAS FOUNDED BY LEE BYUNG-CHUL IN 1938 AS A TRADING COMPANY. OVER THE NEXT THREE DECADES, THE GROUP DIVERSIFIED INTO AREAS INCLUDING FOOD PROCESSING, TEXTILES, INSURANCE, SECURITIES, AND RETAIL. SAMSUNG ENTERED THE ELECTRONICS INDUSTRY IN THE LATE 1960S AND THE CONSTRUCTION AND SHIPBUILDING INDUSTRIES IN THE MID-1970S; THESE AREAS WOULD DRIVE ITS SUBSEQUENT GROWTH. FOLLOWING LEE'S DEATH IN 1987, SAMSUNG WAS SEPARATED INTO FIVE BUSINESS GROUPS – SAMSUNG GROUP, SHINSEGAE GROUP, CJ GROUP AND HANSOL GROUP, AND JOONGANG GROUP.\\n\\nNOTABLE SAMSUNG INDUSTRIAL AFFILIATES INCLUDE SAMSUNG ELECTRONICS (THE WORLD'S LARGEST INFORMATION TECHNOLOGY COMPANY, CONSUMER ELECTRONICS MAKER AND CHIPMAKER MEASURED BY 2017 REVENUES),[5][6] SAMSUNG HEAVY INDUSTRIES (THE WORLD'S 2ND LARGEST SHIPBUILDER MEASURED BY 2010 REVENUES),[7] AND SAMSUNG ENGINEERING AND SAMSUNG C&T CORPORATION (RESPECTIVELY THE WORLD'S 13TH AND 36TH LARGEST CONSTRUCTION COMPANIES).[8] OTHER NOTABLE SUBSIDIARIES INCLUDE SAMSUNG LIFE INSURANCE (THE WORLD'S 14TH LARGEST LIFE INSURANCE COMPANY),[9] SAMSUNG EVERLAND (OPERATOR OF EVERLAND RESORT, THE OLDEST THEME PARK IN SOUTH KOREA)[10] AND CHEIL WORLDWIDE (THE WORLD'S 15TH LARGEST ADVERTISING AGENCY, AS MEASURED BY 2012 REVENUES).[11][12]\""
            ]
          },
          "execution_count": 81,
          "metadata": {},
          "output_type": "execute_result"
        }
      ],
      "source": [
        "sw"
      ]
    },
    {
      "cell_type": "code",
      "execution_count": null,
      "id": "c5247dce",
      "metadata": {
        "id": "c5247dce",
        "outputId": "3282fb81-ba47-47de-a53e-426ea9228754"
      },
      "outputs": [
        {
          "data": {
            "text/plain": [
              "\"the samsung group[3] (or simply samsung, stylized as sλmsung) (korean: 삼성 [samsʌŋ]) is a south korean multinational manufacturing conglomerate headquartered in samsung town, seoul, south korea.[1] it comprises numerous affiliated businesses,[1] most of them united under the samsung brand, and is the largest south korean chaebol (business conglomerate). as of 2020, samsung has the 8th highest global brand value.[4]\\n\\nsamsung was founded by lee byung-chul in 1938 as a trading company. over the next three decades, the group diversified into areas including food processing, textiles, insurance, securities, and retail. samsung entered the electronics industry in the late 1960s and the construction and shipbuilding industries in the mid-1970s; these areas would drive its subsequent growth. following lee's death in 1987, samsung was separated into five business groups – samsung group, shinsegae group, cj group and hansol group, and joongang group.\\n\\nnotable samsung industrial affiliates include samsung electronics (the world's largest information technology company, consumer electronics maker and chipmaker measured by 2017 revenues),[5][6] samsung heavy industries (the world's 2nd largest shipbuilder measured by 2010 revenues),[7] and samsung engineering and samsung c&t corporation (respectively the world's 13th and 36th largest construction companies).[8] other notable subsidiaries include samsung life insurance (the world's 14th largest life insurance company),[9] samsung everland (operator of everland resort, the oldest theme park in south korea)[10] and cheil worldwide (the world's 15th largest advertising agency, as measured by 2012 revenues).[11][12]\""
            ]
          },
          "execution_count": 82,
          "metadata": {},
          "output_type": "execute_result"
        }
      ],
      "source": [
        "sw.lower()"
      ]
    },
    {
      "cell_type": "code",
      "execution_count": null,
      "id": "942a4060",
      "metadata": {
        "id": "942a4060"
      },
      "outputs": [],
      "source": [
        "s = \"sudhanshu kumar\""
      ]
    },
    {
      "cell_type": "code",
      "execution_count": null,
      "id": "622fc5af",
      "metadata": {
        "id": "622fc5af",
        "outputId": "69ca4059-13f1-41ab-9403-087d68671991"
      },
      "outputs": [
        {
          "data": {
            "text/plain": [
              "'Sudhanshu Kumar'"
            ]
          },
          "execution_count": 87,
          "metadata": {},
          "output_type": "execute_result"
        }
      ],
      "source": [
        "s.title()"
      ]
    },
    {
      "cell_type": "code",
      "execution_count": null,
      "id": "6ba9191a",
      "metadata": {
        "id": "6ba9191a",
        "outputId": "c4117655-69f3-44cf-9a4b-50c71a87a2c0"
      },
      "outputs": [
        {
          "data": {
            "text/plain": [
              "'Sudhanshu kumar'"
            ]
          },
          "execution_count": 88,
          "metadata": {},
          "output_type": "execute_result"
        }
      ],
      "source": [
        "s.capitalize()"
      ]
    },
    {
      "cell_type": "code",
      "execution_count": null,
      "id": "240eea37",
      "metadata": {
        "id": "240eea37"
      },
      "outputs": [],
      "source": [
        "s = \"Sudhanshu kuMAR\""
      ]
    },
    {
      "cell_type": "code",
      "execution_count": null,
      "id": "02ad1c47",
      "metadata": {
        "id": "02ad1c47",
        "outputId": "1f7fa2b8-d81f-4ecb-efdf-374a5c76cba9"
      },
      "outputs": [
        {
          "data": {
            "text/plain": [
              "'sUDHANSHU KUmar'"
            ]
          },
          "execution_count": 90,
          "metadata": {},
          "output_type": "execute_result"
        }
      ],
      "source": [
        "s.swapcase()"
      ]
    },
    {
      "cell_type": "code",
      "execution_count": null,
      "id": "455898e8",
      "metadata": {
        "id": "455898e8",
        "outputId": "cc093b92-7b6e-411d-8d28-dc230541ddf3"
      },
      "outputs": [
        {
          "data": {
            "text/plain": [
              "'RAMuk uhsnahduS'"
            ]
          },
          "execution_count": 92,
          "metadata": {},
          "output_type": "execute_result"
        }
      ],
      "source": [
        "''.join(reversed(s))"
      ]
    },
    {
      "cell_type": "code",
      "execution_count": null,
      "id": "61c9dccb",
      "metadata": {
        "id": "61c9dccb",
        "outputId": "3ccd3d94-0173-4375-af16-868ed9bfd352"
      },
      "outputs": [
        {
          "data": {
            "text/plain": [
              "'RAMuk uhsnahduS'"
            ]
          },
          "execution_count": 94,
          "metadata": {},
          "output_type": "execute_result"
        }
      ],
      "source": [
        "s[::-1]"
      ]
    },
    {
      "cell_type": "code",
      "execution_count": null,
      "id": "472dbbd0",
      "metadata": {
        "id": "472dbbd0"
      },
      "outputs": [],
      "source": [
        "s = \"    su    dh    \""
      ]
    },
    {
      "cell_type": "code",
      "execution_count": null,
      "id": "7d512c42",
      "metadata": {
        "id": "7d512c42",
        "outputId": "365608ae-a692-4226-c28b-5d3e8fdec8cc"
      },
      "outputs": [
        {
          "data": {
            "text/plain": [
              "'su    dh'"
            ]
          },
          "execution_count": 98,
          "metadata": {},
          "output_type": "execute_result"
        }
      ],
      "source": [
        "s.strip()"
      ]
    },
    {
      "cell_type": "code",
      "execution_count": null,
      "id": "99fdf8a2",
      "metadata": {
        "id": "99fdf8a2",
        "outputId": "881244b6-a796-4ad8-d714-a0e201286e29"
      },
      "outputs": [
        {
          "data": {
            "text/plain": [
              "'    su    dh    '"
            ]
          },
          "execution_count": 99,
          "metadata": {},
          "output_type": "execute_result"
        }
      ],
      "source": [
        "s"
      ]
    },
    {
      "cell_type": "code",
      "execution_count": null,
      "id": "12e41eab",
      "metadata": {
        "id": "12e41eab",
        "outputId": "82a1a09e-f559-4041-80eb-6bb7926edfe4"
      },
      "outputs": [
        {
          "data": {
            "text/plain": [
              "'su    dh    '"
            ]
          },
          "execution_count": 100,
          "metadata": {},
          "output_type": "execute_result"
        }
      ],
      "source": [
        "s.lstrip()"
      ]
    },
    {
      "cell_type": "code",
      "execution_count": null,
      "id": "3c058480",
      "metadata": {
        "id": "3c058480",
        "outputId": "be5d42cb-ef90-4a82-937d-8add64bc564d"
      },
      "outputs": [
        {
          "data": {
            "text/plain": [
              "'    su    dh'"
            ]
          },
          "execution_count": 101,
          "metadata": {},
          "output_type": "execute_result"
        }
      ],
      "source": [
        "s.rstrip()"
      ]
    },
    {
      "cell_type": "code",
      "execution_count": null,
      "id": "5f6a1ad8",
      "metadata": {
        "id": "5f6a1ad8",
        "outputId": "1c6c254b-9753-4d53-a77e-83a53f2703d3"
      },
      "outputs": [
        {
          "data": {
            "text/plain": [
              "'sauadahaaanasahau'"
            ]
          },
          "execution_count": 103,
          "metadata": {},
          "output_type": "execute_result"
        }
      ],
      "source": [
        "\"a\" . join(\"sudhanshu\")"
      ]
    },
    {
      "cell_type": "code",
      "execution_count": null,
      "id": "99610fdd",
      "metadata": {
        "id": "99610fdd",
        "outputId": "d3109cc2-6910-4db4-f345-681d2179f714"
      },
      "outputs": [
        {
          "data": {
            "text/plain": [
              "'    su    dh    '"
            ]
          },
          "execution_count": 104,
          "metadata": {},
          "output_type": "execute_result"
        }
      ],
      "source": [
        "s"
      ]
    },
    {
      "cell_type": "code",
      "execution_count": null,
      "id": "5f6bf9e8",
      "metadata": {
        "id": "5f6bf9e8"
      },
      "outputs": [],
      "source": [
        "s = \"sudh\""
      ]
    },
    {
      "cell_type": "code",
      "execution_count": null,
      "id": "45c7e91b",
      "metadata": {
        "id": "45c7e91b",
        "outputId": "09a80e30-32ca-4164-ee83-e7a08f80bdcb"
      },
      "outputs": [
        {
          "data": {
            "text/plain": [
              "'########sudh########'"
            ]
          },
          "execution_count": 107,
          "metadata": {},
          "output_type": "execute_result"
        }
      ],
      "source": [
        "s.center(20 , '#')"
      ]
    },
    {
      "cell_type": "code",
      "execution_count": 2,
      "id": "393e2cbd",
      "metadata": {
        "id": "393e2cbd"
      },
      "outputs": [],
      "source": [
        "s = \"Sudhanshu\""
      ]
    },
    {
      "cell_type": "code",
      "execution_count": null,
      "id": "cb8953d0",
      "metadata": {
        "id": "cb8953d0",
        "outputId": "fb0e709a-dbf2-430d-8aa7-732ede754acb"
      },
      "outputs": [
        {
          "data": {
            "text/plain": [
              "False"
            ]
          },
          "execution_count": 109,
          "metadata": {},
          "output_type": "execute_result"
        }
      ],
      "source": [
        "s.isupper()"
      ]
    },
    {
      "cell_type": "code",
      "execution_count": null,
      "id": "cbfdb59b",
      "metadata": {
        "id": "cbfdb59b"
      },
      "outputs": [],
      "source": [
        "s1 = \"SUDH\""
      ]
    },
    {
      "cell_type": "code",
      "execution_count": null,
      "id": "9a8d2872",
      "metadata": {
        "id": "9a8d2872",
        "outputId": "01d86da0-1c15-4bc7-d3af-dbc67cf59e81"
      },
      "outputs": [
        {
          "data": {
            "text/plain": [
              "True"
            ]
          },
          "execution_count": 111,
          "metadata": {},
          "output_type": "execute_result"
        }
      ],
      "source": [
        "s1.isupper()"
      ]
    },
    {
      "cell_type": "code",
      "execution_count": null,
      "id": "94f47204",
      "metadata": {
        "id": "94f47204",
        "outputId": "fcfbe52b-e29d-4c49-a445-70979b27d511"
      },
      "outputs": [
        {
          "data": {
            "text/plain": [
              "False"
            ]
          },
          "execution_count": 112,
          "metadata": {},
          "output_type": "execute_result"
        }
      ],
      "source": [
        "s.islower()"
      ]
    },
    {
      "cell_type": "code",
      "execution_count": null,
      "id": "fb8651c4",
      "metadata": {
        "id": "fb8651c4"
      },
      "outputs": [],
      "source": [
        "s2 = \"sudh\""
      ]
    },
    {
      "cell_type": "code",
      "execution_count": null,
      "id": "28789a4b",
      "metadata": {
        "id": "28789a4b",
        "outputId": "3e51f5a6-6842-4f73-80ad-f4e6543773e6"
      },
      "outputs": [
        {
          "data": {
            "text/plain": [
              "True"
            ]
          },
          "execution_count": 114,
          "metadata": {},
          "output_type": "execute_result"
        }
      ],
      "source": [
        "s2.islower()"
      ]
    },
    {
      "cell_type": "code",
      "execution_count": null,
      "id": "62ebb425",
      "metadata": {
        "id": "62ebb425",
        "outputId": "0d0b3d85-31c9-40a1-82ee-ed8856065210"
      },
      "outputs": [
        {
          "data": {
            "text/plain": [
              "'Sudhanshu'"
            ]
          },
          "execution_count": 115,
          "metadata": {},
          "output_type": "execute_result"
        }
      ],
      "source": [
        "s"
      ]
    },
    {
      "cell_type": "code",
      "execution_count": null,
      "id": "07f647af",
      "metadata": {
        "id": "07f647af",
        "outputId": "f9afc9bb-b0b8-4326-9135-da37b2ef2525"
      },
      "outputs": [
        {
          "data": {
            "text/plain": [
              "False"
            ]
          },
          "execution_count": 116,
          "metadata": {},
          "output_type": "execute_result"
        }
      ],
      "source": [
        "s.isspace()"
      ]
    },
    {
      "cell_type": "code",
      "execution_count": null,
      "id": "f850c464",
      "metadata": {
        "id": "f850c464"
      },
      "outputs": [],
      "source": [
        "s4  = \"   \""
      ]
    },
    {
      "cell_type": "code",
      "execution_count": null,
      "id": "992b5c57",
      "metadata": {
        "id": "992b5c57",
        "outputId": "64860cfe-5782-4ae3-cf68-5030ccd848af"
      },
      "outputs": [
        {
          "data": {
            "text/plain": [
              "True"
            ]
          },
          "execution_count": 118,
          "metadata": {},
          "output_type": "execute_result"
        }
      ],
      "source": [
        "s4.isspace()"
      ]
    },
    {
      "cell_type": "code",
      "execution_count": null,
      "id": "5d88e13f",
      "metadata": {
        "id": "5d88e13f",
        "outputId": "2b648f49-1781-481e-9157-5bc067cb6a72"
      },
      "outputs": [
        {
          "data": {
            "text/plain": [
              "'Sudhanshu'"
            ]
          },
          "execution_count": 119,
          "metadata": {},
          "output_type": "execute_result"
        }
      ],
      "source": [
        "s"
      ]
    },
    {
      "cell_type": "code",
      "execution_count": null,
      "id": "89094c48",
      "metadata": {
        "id": "89094c48",
        "outputId": "ce23219e-98b5-4d10-b62a-a740575d7a15"
      },
      "outputs": [
        {
          "data": {
            "text/plain": [
              "False"
            ]
          },
          "execution_count": 120,
          "metadata": {},
          "output_type": "execute_result"
        }
      ],
      "source": [
        "s.isdigit()"
      ]
    },
    {
      "cell_type": "code",
      "execution_count": null,
      "id": "3feccd08",
      "metadata": {
        "id": "3feccd08"
      },
      "outputs": [],
      "source": [
        "s5 = \"32424\""
      ]
    },
    {
      "cell_type": "code",
      "execution_count": null,
      "id": "faca1ecb",
      "metadata": {
        "id": "faca1ecb",
        "outputId": "868f84dc-c765-4151-90ca-abdaa46f90fc"
      },
      "outputs": [
        {
          "data": {
            "text/plain": [
              "True"
            ]
          },
          "execution_count": 122,
          "metadata": {},
          "output_type": "execute_result"
        }
      ],
      "source": [
        "s5.isdigit()"
      ]
    },
    {
      "cell_type": "code",
      "execution_count": null,
      "id": "047e85cf",
      "metadata": {
        "id": "047e85cf"
      },
      "outputs": [],
      "source": [
        "s6 = \"sdf3454\""
      ]
    },
    {
      "cell_type": "code",
      "execution_count": null,
      "id": "8bf23e06",
      "metadata": {
        "id": "8bf23e06",
        "outputId": "a7ea7d64-fe77-4d72-ef31-e99931814eda"
      },
      "outputs": [
        {
          "data": {
            "text/plain": [
              "False"
            ]
          },
          "execution_count": 124,
          "metadata": {},
          "output_type": "execute_result"
        }
      ],
      "source": [
        "s6.isdigit()"
      ]
    },
    {
      "cell_type": "code",
      "execution_count": 3,
      "id": "2f7e532c",
      "metadata": {
        "id": "2f7e532c",
        "outputId": "ee350edd-dd90-421a-a8b3-cf0f00a2f398",
        "colab": {
          "base_uri": "https://localhost:8080/",
          "height": 36
        }
      },
      "outputs": [
        {
          "output_type": "execute_result",
          "data": {
            "text/plain": [
              "'Sudhanshu'"
            ],
            "application/vnd.google.colaboratory.intrinsic+json": {
              "type": "string"
            }
          },
          "metadata": {},
          "execution_count": 3
        }
      ],
      "source": [
        "s"
      ]
    },
    {
      "cell_type": "code",
      "execution_count": 4,
      "id": "4f29c5a7",
      "metadata": {
        "id": "4f29c5a7",
        "outputId": "866b925a-27f8-496b-fdb9-88bb4e5a70de",
        "colab": {
          "base_uri": "https://localhost:8080/"
        }
      },
      "outputs": [
        {
          "output_type": "execute_result",
          "data": {
            "text/plain": [
              "True"
            ]
          },
          "metadata": {},
          "execution_count": 4
        }
      ],
      "source": [
        "s.isalnum()"
      ]
    },
    {
      "cell_type": "code",
      "execution_count": null,
      "id": "289cf2b8",
      "metadata": {
        "id": "289cf2b8",
        "outputId": "00b90efa-7f12-49fe-de8d-4237e329344c"
      },
      "outputs": [
        {
          "data": {
            "text/plain": [
              "True"
            ]
          },
          "execution_count": 127,
          "metadata": {},
          "output_type": "execute_result"
        }
      ],
      "source": [
        "s.isalpha()"
      ]
    },
    {
      "cell_type": "code",
      "execution_count": null,
      "id": "e5b21fe2",
      "metadata": {
        "id": "e5b21fe2"
      },
      "outputs": [],
      "source": [
        "s7 = \"345345sgfdg\""
      ]
    },
    {
      "cell_type": "code",
      "execution_count": null,
      "id": "d68b17b6",
      "metadata": {
        "id": "d68b17b6",
        "outputId": "f9a055a8-aa01-403b-bb1d-4a94ce36001b"
      },
      "outputs": [
        {
          "data": {
            "text/plain": [
              "False"
            ]
          },
          "execution_count": 129,
          "metadata": {},
          "output_type": "execute_result"
        }
      ],
      "source": [
        "s7.isalpha()"
      ]
    },
    {
      "cell_type": "code",
      "execution_count": null,
      "id": "f1f494db",
      "metadata": {
        "id": "f1f494db",
        "outputId": "ca059a15-e716-43ba-8889-75268b993e14"
      },
      "outputs": [
        {
          "data": {
            "text/plain": [
              "'Sudhanshu'"
            ]
          },
          "execution_count": 130,
          "metadata": {},
          "output_type": "execute_result"
        }
      ],
      "source": [
        "s"
      ]
    },
    {
      "cell_type": "code",
      "execution_count": null,
      "id": "c05c939c",
      "metadata": {
        "id": "c05c939c",
        "outputId": "ebbdf065-43eb-496d-f38d-91af54f6b993"
      },
      "outputs": [
        {
          "data": {
            "text/plain": [
              "False"
            ]
          },
          "execution_count": 131,
          "metadata": {},
          "output_type": "execute_result"
        }
      ],
      "source": [
        "s.startswith('i')"
      ]
    },
    {
      "cell_type": "code",
      "execution_count": null,
      "id": "5acc3dad",
      "metadata": {
        "id": "5acc3dad",
        "outputId": "b887a380-f806-4e69-f473-fae3765ccb32"
      },
      "outputs": [
        {
          "data": {
            "text/plain": [
              "False"
            ]
          },
          "execution_count": 132,
          "metadata": {},
          "output_type": "execute_result"
        }
      ],
      "source": [
        "s.startswith('s')"
      ]
    },
    {
      "cell_type": "code",
      "execution_count": null,
      "id": "4f178822",
      "metadata": {
        "id": "4f178822",
        "outputId": "0ff61d93-2087-4f68-904a-0b2225542e56"
      },
      "outputs": [
        {
          "data": {
            "text/plain": [
              "True"
            ]
          },
          "execution_count": 133,
          "metadata": {},
          "output_type": "execute_result"
        }
      ],
      "source": [
        "s.startswith(\"S\")"
      ]
    },
    {
      "cell_type": "code",
      "execution_count": null,
      "id": "9d19e9aa",
      "metadata": {
        "id": "9d19e9aa",
        "outputId": "241f2ec5-79a6-43e2-b0c9-0756773d7b50"
      },
      "outputs": [
        {
          "data": {
            "text/plain": [
              "False"
            ]
          },
          "execution_count": 134,
          "metadata": {},
          "output_type": "execute_result"
        }
      ],
      "source": [
        "s.endswith('n')"
      ]
    },
    {
      "cell_type": "code",
      "execution_count": null,
      "id": "4a8014d4",
      "metadata": {
        "id": "4a8014d4",
        "outputId": "36bf2fd4-9a77-43ce-a471-ba18a144eeab"
      },
      "outputs": [
        {
          "data": {
            "text/plain": [
              "True"
            ]
          },
          "execution_count": 135,
          "metadata": {},
          "output_type": "execute_result"
        }
      ],
      "source": [
        "s.endswith('u')"
      ]
    },
    {
      "cell_type": "code",
      "execution_count": null,
      "id": "82bc7032",
      "metadata": {
        "id": "82bc7032",
        "outputId": "d8d67f03-7d96-4ef9-b802-8aa850fa53ee"
      },
      "outputs": [
        {
          "data": {
            "text/plain": [
              "'Sudhanshu'"
            ]
          },
          "execution_count": 136,
          "metadata": {},
          "output_type": "execute_result"
        }
      ],
      "source": [
        "s"
      ]
    },
    {
      "cell_type": "code",
      "execution_count": null,
      "id": "4ebc67c5",
      "metadata": {
        "id": "4ebc67c5",
        "outputId": "f11e02a3-a48f-4da7-d21b-a71aea9d3881"
      },
      "outputs": [
        {
          "data": {
            "text/plain": [
              "'345345sgfdg'"
            ]
          },
          "execution_count": 137,
          "metadata": {},
          "output_type": "execute_result"
        }
      ],
      "source": [
        "s7"
      ]
    },
    {
      "cell_type": "code",
      "execution_count": null,
      "id": "830a1db5",
      "metadata": {
        "id": "830a1db5",
        "outputId": "affa34ee-db5b-46e4-9db7-0241b2193076"
      },
      "outputs": [
        {
          "data": {
            "text/plain": [
              "'Sudhanshu'"
            ]
          },
          "execution_count": 138,
          "metadata": {},
          "output_type": "execute_result"
        }
      ],
      "source": [
        "s"
      ]
    },
    {
      "cell_type": "code",
      "execution_count": null,
      "id": "a91991a8",
      "metadata": {
        "id": "a91991a8",
        "outputId": "2db17b55-aea5-4834-b499-64f25b191277"
      },
      "outputs": [
        {
          "data": {
            "text/plain": [
              "False"
            ]
          },
          "execution_count": 139,
          "metadata": {},
          "output_type": "execute_result"
        }
      ],
      "source": [
        "s.isdigit()"
      ]
    },
    {
      "cell_type": "code",
      "execution_count": null,
      "id": "b0b3b87c",
      "metadata": {
        "id": "b0b3b87c",
        "outputId": "64333cc7-f740-44c2-8029-92abca537310"
      },
      "outputs": [
        {
          "data": {
            "text/plain": [
              "False"
            ]
          },
          "execution_count": 140,
          "metadata": {},
          "output_type": "execute_result"
        }
      ],
      "source": [
        "s.isnumeric()"
      ]
    },
    {
      "cell_type": "code",
      "execution_count": null,
      "id": "55d85b77",
      "metadata": {
        "id": "55d85b77",
        "outputId": "f97cdfed-a38f-41f2-b756-c3cb6dcde9c8"
      },
      "outputs": [
        {
          "data": {
            "text/plain": [
              "True"
            ]
          },
          "execution_count": 145,
          "metadata": {},
          "output_type": "execute_result"
        }
      ],
      "source": [
        "s.startswith(\"\")"
      ]
    },
    {
      "cell_type": "code",
      "execution_count": null,
      "id": "919861e1",
      "metadata": {
        "id": "919861e1",
        "outputId": "4de2f3cc-8504-4acf-9a28-bc502c3c7f85"
      },
      "outputs": [
        {
          "data": {
            "text/plain": [
              "'Sudhanshu'"
            ]
          },
          "execution_count": 146,
          "metadata": {},
          "output_type": "execute_result"
        }
      ],
      "source": [
        "s"
      ]
    },
    {
      "cell_type": "code",
      "execution_count": null,
      "id": "bc2ed536",
      "metadata": {
        "id": "bc2ed536",
        "outputId": "33362930-144b-4fcc-ae4f-2e1c2d97caa0"
      },
      "outputs": [
        {
          "data": {
            "text/plain": [
              "True"
            ]
          },
          "execution_count": 147,
          "metadata": {},
          "output_type": "execute_result"
        }
      ],
      "source": [
        "s.isascii()"
      ]
    },
    {
      "cell_type": "code",
      "execution_count": null,
      "id": "9785e054",
      "metadata": {
        "id": "9785e054",
        "outputId": "1b57ee82-93af-4017-bb1d-156240fb5302"
      },
      "outputs": [
        {
          "data": {
            "text/plain": [
              "False"
            ]
          },
          "execution_count": 150,
          "metadata": {},
          "output_type": "execute_result"
        }
      ],
      "source": [
        "s = 'sudhanshu123   '\n",
        "\n",
        "s.isalnum()\n"
      ]
    },
    {
      "cell_type": "code",
      "execution_count": null,
      "id": "7c4fcb81",
      "metadata": {
        "id": "7c4fcb81",
        "outputId": "595d7e1b-02b2-4bdb-d754-86eaa1e8fccc"
      },
      "outputs": [
        {
          "data": {
            "text/plain": [
              "False"
            ]
          },
          "execution_count": 153,
          "metadata": {},
          "output_type": "execute_result"
        }
      ],
      "source": [
        "s =' 5 '\n",
        "s.isspace()\n"
      ]
    },
    {
      "cell_type": "code",
      "execution_count": null,
      "id": "78175eff",
      "metadata": {
        "id": "78175eff",
        "outputId": "c565cce4-01f9-43a2-e58a-6065eb5722a2"
      },
      "outputs": [
        {
          "data": {
            "text/plain": [
              "'@@@@@@@@ 5 @@@@@@@@@'"
            ]
          },
          "execution_count": 157,
          "metadata": {},
          "output_type": "execute_result"
        }
      ],
      "source": [
        "s.center (20,'@')\n"
      ]
    },
    {
      "cell_type": "code",
      "execution_count": null,
      "id": "bf97c0ee",
      "metadata": {
        "id": "bf97c0ee",
        "outputId": "829db86c-7938-4411-f463-68ba888c5150"
      },
      "outputs": [
        {
          "data": {
            "text/plain": [
              "' 5 '"
            ]
          },
          "execution_count": 156,
          "metadata": {},
          "output_type": "execute_result"
        }
      ],
      "source": [
        "s"
      ]
    },
    {
      "cell_type": "code",
      "execution_count": null,
      "id": "90948472",
      "metadata": {
        "id": "90948472",
        "outputId": "9c87d1b7-5012-490e-bafc-4a73ccb3b3d3"
      },
      "outputs": [
        {
          "data": {
            "text/plain": [
              "True"
            ]
          },
          "execution_count": 162,
          "metadata": {},
          "output_type": "execute_result"
        }
      ],
      "source": [
        "s1 = '456'\n",
        "s1.isalnum()\n"
      ]
    },
    {
      "cell_type": "code",
      "execution_count": null,
      "id": "c04de114",
      "metadata": {
        "id": "c04de114"
      },
      "outputs": [],
      "source": [
        "s=\"this is my very first programming class\"\n"
      ]
    },
    {
      "cell_type": "code",
      "execution_count": null,
      "id": "d39a3721",
      "metadata": {
        "id": "d39a3721",
        "outputId": "f7f51c44-8f2d-490b-ac6b-74b1a0389abc"
      },
      "outputs": [
        {
          "data": {
            "text/plain": [
              "False"
            ]
          },
          "execution_count": 164,
          "metadata": {},
          "output_type": "execute_result"
        }
      ],
      "source": [
        "s.isspace()"
      ]
    },
    {
      "cell_type": "code",
      "execution_count": null,
      "id": "ba1fcee8",
      "metadata": {
        "id": "ba1fcee8"
      },
      "outputs": [],
      "source": [
        "s = \" 6    \""
      ]
    },
    {
      "cell_type": "code",
      "execution_count": null,
      "id": "fb995492",
      "metadata": {
        "id": "fb995492",
        "outputId": "26741925-a25f-46b5-a919-6571941d35dc"
      },
      "outputs": [
        {
          "data": {
            "text/plain": [
              "False"
            ]
          },
          "execution_count": 168,
          "metadata": {},
          "output_type": "execute_result"
        }
      ],
      "source": [
        "s.isspace()"
      ]
    },
    {
      "cell_type": "code",
      "execution_count": null,
      "id": "ab79914d",
      "metadata": {
        "id": "ab79914d"
      },
      "outputs": [],
      "source": [
        "s = \"453443\""
      ]
    },
    {
      "cell_type": "code",
      "execution_count": null,
      "id": "49bd55fc",
      "metadata": {
        "id": "49bd55fc",
        "outputId": "7cf8f275-cd28-4726-a62b-7b3072d96e61"
      },
      "outputs": [
        {
          "data": {
            "text/plain": [
              "True"
            ]
          },
          "execution_count": 170,
          "metadata": {},
          "output_type": "execute_result"
        }
      ],
      "source": [
        "s.isdigit()"
      ]
    },
    {
      "cell_type": "code",
      "execution_count": null,
      "id": "6bce4062",
      "metadata": {
        "id": "6bce4062"
      },
      "outputs": [],
      "source": [
        "s1 = \"fasfdas345346346\""
      ]
    },
    {
      "cell_type": "code",
      "execution_count": null,
      "id": "503ddca6",
      "metadata": {
        "id": "503ddca6",
        "outputId": "ec488f1a-dcd8-48c5-c20f-dde8079b0670"
      },
      "outputs": [
        {
          "data": {
            "text/plain": [
              "False"
            ]
          },
          "execution_count": 172,
          "metadata": {},
          "output_type": "execute_result"
        }
      ],
      "source": [
        "s1.isnumeric()"
      ]
    },
    {
      "cell_type": "code",
      "execution_count": null,
      "id": "8085f88b",
      "metadata": {
        "id": "8085f88b"
      },
      "outputs": [],
      "source": [
        "s2 = \"345435 3455 3453\""
      ]
    },
    {
      "cell_type": "code",
      "execution_count": null,
      "id": "7ddeddb9",
      "metadata": {
        "id": "7ddeddb9",
        "outputId": "143bc62f-b319-45d2-ae0a-3e6715c2c540"
      },
      "outputs": [
        {
          "data": {
            "text/plain": [
              "False"
            ]
          },
          "execution_count": 175,
          "metadata": {},
          "output_type": "execute_result"
        }
      ],
      "source": [
        "s2.isnumeric()"
      ]
    },
    {
      "cell_type": "code",
      "execution_count": null,
      "id": "68193a7a",
      "metadata": {
        "id": "68193a7a",
        "outputId": "d3e28814-4f34-448d-c981-0749b44953d7"
      },
      "outputs": [
        {
          "data": {
            "text/plain": [
              "True"
            ]
          },
          "execution_count": 176,
          "metadata": {},
          "output_type": "execute_result"
        }
      ],
      "source": [
        "s.isnumeric()"
      ]
    },
    {
      "cell_type": "code",
      "execution_count": null,
      "id": "c12bac37",
      "metadata": {
        "id": "c12bac37",
        "outputId": "0a96f4b9-d3c3-4eac-b7f5-6a8bfadfe193"
      },
      "outputs": [
        {
          "data": {
            "text/plain": [
              "False"
            ]
          },
          "execution_count": 177,
          "metadata": {},
          "output_type": "execute_result"
        }
      ],
      "source": [
        "s2.isdigit()"
      ]
    },
    {
      "cell_type": "code",
      "execution_count": null,
      "id": "444702f2",
      "metadata": {
        "id": "444702f2"
      },
      "outputs": [],
      "source": [
        "s = 56"
      ]
    },
    {
      "cell_type": "code",
      "execution_count": null,
      "id": "46785c09",
      "metadata": {
        "id": "46785c09"
      },
      "outputs": [],
      "source": [
        "s= \"sudh\""
      ]
    },
    {
      "cell_type": "code",
      "execution_count": null,
      "id": "d0cd41cd",
      "metadata": {
        "id": "d0cd41cd",
        "outputId": "92459eed-6e73-4a67-d007-2cce8d5c36da"
      },
      "outputs": [
        {
          "data": {
            "text/plain": [
              "<reversed at 0x20c125452b0>"
            ]
          },
          "execution_count": 180,
          "metadata": {},
          "output_type": "execute_result"
        }
      ],
      "source": [
        "reversed(s)"
      ]
    },
    {
      "cell_type": "code",
      "execution_count": null,
      "id": "7d718f63",
      "metadata": {
        "id": "7d718f63",
        "outputId": "f4581645-a968-4813-fdaf-cb8f172e3b63"
      },
      "outputs": [
        {
          "data": {
            "text/plain": [
              "'idndedudrdodn'"
            ]
          },
          "execution_count": 181,
          "metadata": {},
          "output_type": "execute_result"
        }
      ],
      "source": [
        "'d'.join(\"ineuron\")"
      ]
    },
    {
      "cell_type": "code",
      "execution_count": null,
      "id": "519985e3",
      "metadata": {
        "id": "519985e3",
        "outputId": "dcb679b6-3e08-4705-c75d-8b92f56b665b"
      },
      "outputs": [
        {
          "data": {
            "text/plain": [
              "'hdus'"
            ]
          },
          "execution_count": 182,
          "metadata": {},
          "output_type": "execute_result"
        }
      ],
      "source": [
        "\"\".join(reversed(\"sudh\"))"
      ]
    },
    {
      "cell_type": "code",
      "execution_count": null,
      "id": "314d8c50",
      "metadata": {
        "id": "314d8c50"
      },
      "outputs": [],
      "source": [
        "s= \"453453.456\""
      ]
    },
    {
      "cell_type": "code",
      "execution_count": null,
      "id": "edbad17d",
      "metadata": {
        "id": "edbad17d",
        "outputId": "41828aab-89d8-4fd5-a0a7-267ab6fcbff8"
      },
      "outputs": [
        {
          "data": {
            "text/plain": [
              "False"
            ]
          },
          "execution_count": 184,
          "metadata": {},
          "output_type": "execute_result"
        }
      ],
      "source": [
        "s.isdigit()"
      ]
    },
    {
      "cell_type": "code",
      "execution_count": null,
      "id": "62d07187",
      "metadata": {
        "id": "62d07187",
        "outputId": "9b8a9645-06cf-4170-9461-34446da97e64"
      },
      "outputs": [
        {
          "data": {
            "text/plain": [
              "False"
            ]
          },
          "execution_count": 185,
          "metadata": {},
          "output_type": "execute_result"
        }
      ],
      "source": [
        "s.isnumeric()"
      ]
    },
    {
      "cell_type": "code",
      "execution_count": null,
      "id": "161ae891",
      "metadata": {
        "id": "161ae891"
      },
      "outputs": [],
      "source": [
        "s = 'sudhanshu\\tkumar\\tineuron'"
      ]
    },
    {
      "cell_type": "code",
      "execution_count": null,
      "id": "357e2493",
      "metadata": {
        "id": "357e2493",
        "outputId": "9ddf5cae-ac69-47cf-d486-b212d363549c"
      },
      "outputs": [
        {
          "data": {
            "text/plain": [
              "'sudhanshu       kumar   ineuron'"
            ]
          },
          "execution_count": 191,
          "metadata": {},
          "output_type": "execute_result"
        }
      ],
      "source": [
        "s.expandtabs()"
      ]
    },
    {
      "cell_type": "code",
      "execution_count": null,
      "id": "bf2f8276",
      "metadata": {
        "id": "bf2f8276",
        "outputId": "973d7f65-adde-4b1c-bd20-d3b27ae20ad4"
      },
      "outputs": [
        {
          "data": {
            "text/plain": [
              "'uhsnahduS'"
            ]
          },
          "execution_count": 193,
          "metadata": {},
          "output_type": "execute_result"
        }
      ],
      "source": [
        "s=\"Sudhanshu\"\n",
        "\n",
        "\"\".join(reversed(s))\n"
      ]
    },
    {
      "cell_type": "code",
      "execution_count": null,
      "id": "29fae4c5",
      "metadata": {
        "id": "29fae4c5",
        "outputId": "00ea87ab-bb48-44ac-cdb4-7a37a261cfa7"
      },
      "outputs": [
        {
          "data": {
            "text/plain": [
              "'hhe     gge     hhe'"
            ]
          },
          "execution_count": 194,
          "metadata": {},
          "output_type": "execute_result"
        }
      ],
      "source": [
        "s=\"hhe\\tgge\\thhe\"\n",
        "s.expandtabs()\n"
      ]
    },
    {
      "cell_type": "code",
      "execution_count": null,
      "id": "af633e34",
      "metadata": {
        "id": "af633e34"
      },
      "outputs": [],
      "source": [
        "s = \"this is My First Python programming class and i am learNING python string and its function\"\n",
        "1 . Try to extract data from index one to index 300 with a jump of 3 \n",
        "2. Try to reverse a string without using reverse function \n",
        "3. Try to split a string after conversion of entire string in uppercase \n",
        "4. try to convert the whole string into lower case \n",
        "5 . Try to capitalize the whole string \n",
        "6 . Write a diference between isalnum() and isalpha()\n",
        "7. Try to give an example of expand tab\n",
        "8 . Give an example of strip , lstrip and rstrip \n",
        "9.  Replace a string charecter by another charector by taking your own example \n",
        "\"sudhanshu\"\n",
        "10 . Try  to give a defination of string center function with and exmple \n",
        "11 . Write your own definition of compiler and interpretor without copy paste form internet in your own language\n",
        "12 . Python is a interpreted of compiled language give a clear ans with your understanding \n",
        "13 . Try to write a usecase of python with your understanding .\n",
        "\n",
        "\n",
        "you have to send a jupyter notebook to shivan@ineuron.ai before next saturday class 21st of may . \n"
      ]
    },
    {
      "cell_type": "code",
      "execution_count": null,
      "id": "748dc4a1",
      "metadata": {
        "id": "748dc4a1"
      },
      "outputs": [],
      "source": [
        "https://codeshare.io/X8PY8Y"
      ]
    },
    {
      "cell_type": "code",
      "execution_count": null,
      "id": "0df42042",
      "metadata": {
        "id": "0df42042",
        "outputId": "aa6177f3-b3a1-4665-e6cd-4628643137e5"
      },
      "outputs": [
        {
          "data": {
            "text/plain": [
              "''"
            ]
          },
          "execution_count": 195,
          "metadata": {},
          "output_type": "execute_result"
        }
      ],
      "source": [
        "s = \"sudhanshu\"\n",
        "s[-2:-7]"
      ]
    },
    {
      "cell_type": "code",
      "execution_count": null,
      "id": "346ecf7d",
      "metadata": {
        "id": "346ecf7d"
      },
      "outputs": [],
      "source": [
        "x = '\\13'"
      ]
    },
    {
      "cell_type": "code",
      "execution_count": null,
      "id": "94da8b05",
      "metadata": {
        "id": "94da8b05",
        "outputId": "3ddf20e3-20ad-46e0-b73f-e58c7fef976f"
      },
      "outputs": [
        {
          "data": {
            "text/plain": [
              "True"
            ]
          },
          "execution_count": 197,
          "metadata": {},
          "output_type": "execute_result"
        }
      ],
      "source": [
        "x.isspace()"
      ]
    },
    {
      "cell_type": "code",
      "execution_count": null,
      "id": "1197db7d",
      "metadata": {
        "id": "1197db7d",
        "outputId": "f80033d4-fede-427c-f327-1096c28b1d0d"
      },
      "outputs": [
        {
          "data": {
            "text/plain": [
              "True"
            ]
          },
          "execution_count": 198,
          "metadata": {},
          "output_type": "execute_result"
        }
      ],
      "source": [
        "True "
      ]
    },
    {
      "cell_type": "code",
      "execution_count": null,
      "id": "996ad10e",
      "metadata": {
        "id": "996ad10e",
        "outputId": "d3075579-9d7f-4eda-afe5-fe06a39eeb4a"
      },
      "outputs": [
        {
          "data": {
            "text/plain": [
              "0"
            ]
          },
          "execution_count": 199,
          "metadata": {},
          "output_type": "execute_result"
        }
      ],
      "source": [
        "True -True "
      ]
    },
    {
      "cell_type": "code",
      "execution_count": null,
      "id": "dde145fc",
      "metadata": {
        "id": "dde145fc"
      },
      "outputs": [],
      "source": [
        "s= \"Rambabu\""
      ]
    },
    {
      "cell_type": "code",
      "execution_count": null,
      "id": "796b50cb",
      "metadata": {
        "id": "796b50cb",
        "outputId": "488e5f5c-cda8-4fa2-82c2-9541f1eaab7b"
      },
      "outputs": [
        {
          "data": {
            "text/plain": [
              "'ubabmaR'"
            ]
          },
          "execution_count": 202,
          "metadata": {},
          "output_type": "execute_result"
        }
      ],
      "source": [
        "s[::-1]"
      ]
    },
    {
      "cell_type": "code",
      "execution_count": null,
      "id": "602fe207",
      "metadata": {
        "id": "602fe207",
        "outputId": "cf365782-a7e7-49ce-c29b-f159c48c2794"
      },
      "outputs": [
        {
          "data": {
            "text/plain": [
              "'Rambabu'"
            ]
          },
          "execution_count": 203,
          "metadata": {},
          "output_type": "execute_result"
        }
      ],
      "source": [
        "s[::+1]"
      ]
    },
    {
      "cell_type": "code",
      "execution_count": null,
      "id": "c840bc01",
      "metadata": {
        "id": "c840bc01"
      },
      "outputs": [],
      "source": [
        "s =\"man's work\""
      ]
    },
    {
      "cell_type": "code",
      "execution_count": null,
      "id": "96635fd4",
      "metadata": {
        "id": "96635fd4",
        "outputId": "400080ad-327c-4013-9d1a-b748226e7c8b"
      },
      "outputs": [
        {
          "data": {
            "text/plain": [
              "\"man's work\""
            ]
          },
          "execution_count": 209,
          "metadata": {},
          "output_type": "execute_result"
        }
      ],
      "source": [
        "s"
      ]
    },
    {
      "cell_type": "code",
      "execution_count": null,
      "id": "cf5d3a59",
      "metadata": {
        "id": "cf5d3a59",
        "outputId": "7e5250a3-952e-4a69-e9df-ef8b947e49f5"
      },
      "outputs": [
        {
          "data": {
            "text/plain": [
              "\"The Samsung Group[3] (or simply Samsung, stylized as SΛMSUNG) (Korean: 삼성 [samsʌŋ]) is a South Korean multinational manufacturing conglomerate headquartered in Samsung Town, Seoul, South Korea.[1] It comprises numerous affiliated businesses,[1] most of them united under the Samsung brand, and is the largest South Korean chaebol (business conglomerate). As of 2020, Samsung has the 8th highest global brand value.[4]\\n\\nSamsung was founded by Lee Byung-chul in 1938 as a trading company. Over the next three decades, the group diversified into areas including food processing, textiles, insurance, securities, and retail. Samsung entered the electronics industry in the late 1960s and the construction and shipbuilding industries in the mid-1970s; these areas would drive its subsequent growth. Following Lee's death in 1987, Samsung was separated into five business groups – Samsung Group, Shinsegae Group, CJ Group and Hansol Group, and Joongang Group.\\n\\nNotable Samsung industrial affiliates include Samsung Electronics (the world's largest information technology company, consumer electronics maker and chipmaker measured by 2017 revenues),[5][6] Samsung Heavy Industries (the world's 2nd largest shipbuilder measured by 2010 revenues),[7] and Samsung Engineering and Samsung C&T Corporation (respectively the world's 13th and 36th largest construction companies).[8] Other notable subsidiaries include Samsung Life Insurance (the world's 14th largest life insurance company),[9] Samsung Everland (operator of Everland Resort, the oldest theme park in South Korea)[10] and Cheil Worldwide (the world's 15th largest advertising agency, as measured by 2012 revenues).[11][12]\""
            ]
          },
          "execution_count": 211,
          "metadata": {},
          "output_type": "execute_result"
        }
      ],
      "source": [
        "sw"
      ]
    },
    {
      "cell_type": "code",
      "execution_count": null,
      "id": "f902de4a",
      "metadata": {
        "id": "f902de4a",
        "outputId": "09dcb4c2-6000-406c-fdfd-40f8687dee2d"
      },
      "outputs": [
        {
          "data": {
            "text/plain": [
              "5"
            ]
          },
          "execution_count": 213,
          "metadata": {},
          "output_type": "execute_result"
        }
      ],
      "source": [
        "len(sw.splitlines())"
      ]
    },
    {
      "cell_type": "code",
      "execution_count": null,
      "id": "893e46eb",
      "metadata": {
        "id": "893e46eb",
        "outputId": "0fa5c395-311a-4f60-ee88-40cf9e656089"
      },
      "outputs": [
        {
          "data": {
            "text/plain": [
              "['s', 'dhansh', '']"
            ]
          },
          "execution_count": 214,
          "metadata": {},
          "output_type": "execute_result"
        }
      ],
      "source": [
        "s= \"sudhanshu\"\n",
        "s.split('u')"
      ]
    },
    {
      "cell_type": "code",
      "execution_count": null,
      "id": "e452843b",
      "metadata": {
        "id": "e452843b"
      },
      "outputs": [],
      "source": [
        "b = \"ujjwal\""
      ]
    },
    {
      "cell_type": "code",
      "execution_count": null,
      "id": "ffb7bfd2",
      "metadata": {
        "id": "ffb7bfd2",
        "outputId": "aa96da55-e34d-49e5-d4bf-edb22fd335fc"
      },
      "outputs": [
        {
          "data": {
            "text/plain": [
              "'#ujjwal'"
            ]
          },
          "execution_count": 217,
          "metadata": {},
          "output_type": "execute_result"
        }
      ],
      "source": [
        "b.center(7, \"#\")"
      ]
    },
    {
      "cell_type": "code",
      "execution_count": null,
      "id": "e0e5e254",
      "metadata": {
        "id": "e0e5e254"
      },
      "outputs": [],
      "source": [
        "s = 'ar\\bt\\yt'"
      ]
    },
    {
      "cell_type": "code",
      "execution_count": null,
      "id": "ebe7ade1",
      "metadata": {
        "id": "ebe7ade1",
        "outputId": "84144060-9259-4a79-ff33-a56bdb38394f"
      },
      "outputs": [
        {
          "data": {
            "text/plain": [
              "'ar\\x08t\\\\yt'"
            ]
          },
          "execution_count": 219,
          "metadata": {},
          "output_type": "execute_result"
        }
      ],
      "source": [
        "s.expandtabs()"
      ]
    },
    {
      "cell_type": "code",
      "execution_count": null,
      "id": "1db49dc6",
      "metadata": {
        "id": "1db49dc6",
        "outputId": "1fcfb583-0ad7-423c-c7b2-2ed039b02f11"
      },
      "outputs": [
        {
          "data": {
            "text/plain": [
              "'hu'"
            ]
          },
          "execution_count": 220,
          "metadata": {},
          "output_type": "execute_result"
        }
      ],
      "source": [
        "s= \"sudhanshu\"\n",
        "s[-2:]"
      ]
    },
    {
      "cell_type": "code",
      "execution_count": null,
      "id": "ca56678a",
      "metadata": {
        "id": "ca56678a"
      },
      "outputs": [],
      "source": [
        "\"\"\"The Samsung Group[3] (or simply Samsung, stylized as SΛMSUNG) (Korean: 삼성 [samsʌŋ]) is a South Korean multinational manufacturing conglomerate headquartered in Samsung Town, Seoul, South Korea.[1] It comprises numerous affiliated businesses,[1] most of them united under the Samsung brand, and is the largest South Korean chaebol (business conglomerate). As of 2020, Samsung has the 8th highest global brand value.[4]\n",
        "\n",
        "Samsung was founded by Lee Byung-chul in 1938 as a trading company. Over the next three decades, the group diversified into areas including food processing, textiles, insurance, securities, and retail. Samsung entered the electronics industry in the late 1960s and the construction and shipbuilding industries in the mid-1970s; these areas would drive its subsequent growth. Following Lee's death in 1987, Samsung was separated into five business groups – Samsung Group, Shinsegae Group, CJ Group and Hansol Group, and Joongang Group.\n",
        "\n",
        "Notable Samsung industrial affiliates include Samsung Electronics (the world's largest information technology company, consumer electronics maker and chipmaker measured by 2017 revenues),[5][6] Samsung Heavy Industries (the world's 2nd largest shipbuilder measured by 2010 revenues),[7] and Samsung Engineering and Samsung C&T Corporation (respectively the world's 13th and 36th largest construction companies).[8] Other notable subsidiaries include Samsung Life Insurance (the world's 14th largest life insurance company),[9] Samsung Everland (operator of Everland Resort, the oldest theme park in South Korea)[10] and Cheil Worldwide (the world's 15th largest advertising agency, as measured by 2012 revenues).[11][12]\"\"\""
      ]
    },
    {
      "cell_type": "code",
      "execution_count": null,
      "id": "a7285532",
      "metadata": {
        "id": "a7285532",
        "outputId": "2655c9ad-2377-4059-f481-cb0e4ca9478d"
      },
      "outputs": [
        {
          "data": {
            "text/plain": [
              "''"
            ]
          },
          "execution_count": 222,
          "metadata": {},
          "output_type": "execute_result"
        }
      ],
      "source": [
        "c = \"iNeuron\"\n",
        "c[-7:0:1]"
      ]
    },
    {
      "cell_type": "code",
      "execution_count": null,
      "id": "14ebdb2b",
      "metadata": {
        "id": "14ebdb2b"
      },
      "outputs": [],
      "source": [
        "s = \"sudhanshu\\tkumar\""
      ]
    },
    {
      "cell_type": "code",
      "execution_count": null,
      "id": "c104f85c",
      "metadata": {
        "id": "c104f85c",
        "outputId": "79dd8460-e4a4-4d0a-ed23-046bfc37f7ec"
      },
      "outputs": [
        {
          "data": {
            "text/plain": [
              "'sudhanshu       kumar'"
            ]
          },
          "execution_count": 224,
          "metadata": {},
          "output_type": "execute_result"
        }
      ],
      "source": [
        "s.expandtabs()"
      ]
    },
    {
      "cell_type": "code",
      "execution_count": null,
      "id": "7957cfb4",
      "metadata": {
        "id": "7957cfb4",
        "outputId": "eece66f8-366f-4da4-9f6b-07c32501a2dc"
      },
      "outputs": [
        {
          "data": {
            "text/plain": [
              "'sudhsudhsudh'"
            ]
          },
          "execution_count": 225,
          "metadata": {},
          "output_type": "execute_result"
        }
      ],
      "source": [
        "\"sudh\" *3 "
      ]
    },
    {
      "cell_type": "code",
      "execution_count": null,
      "id": "542c53c6",
      "metadata": {
        "id": "542c53c6",
        "outputId": "91aa4ad5-36ff-4a96-a4d7-9cf3e30c9571"
      },
      "outputs": [
        {
          "data": {
            "text/plain": [
              "\"The Samsung Group[3] (or simply Samsung, stylized as SΛMSUNG) (Korean: 삼성 [samsʌŋ]) is a South Korean multinational manufacturing conglomerate headquartered in Samsung Town, Seoul, South Korea.[1] It comprises numerous affiliated businesses,[1] most of them united under the Samsung brand, and is the largest South Korean chaebol (business conglomerate). As of 2020, Samsung has the 8th highest global brand value.[4]\\n\\nSamsung was founded by Lee Byung-chul in 1938 as a trading company. Over the next three decades, the group diversified into areas including food processing, textiles, insurance, securities, and retail. Samsung entered the electronics industry in the late 1960s and the construction and shipbuilding industries in the mid-1970s; these areas would drive its subsequent growth. Following Lee's death in 1987, Samsung was separated into five business groups – Samsung Group, Shinsegae Group, CJ Group and Hansol Group, and Joongang Group.\\n\\nNotable Samsung industrial affiliates include Samsung Electronics (the world's largest information technology company, consumer electronics maker and chipmaker measured by 2017 revenues),[5][6] Samsung Heavy Industries (the world's 2nd largest shipbuilder measured by 2010 revenues),[7] and Samsung Engineering and Samsung C&T Corporation (respectively the world's 13th and 36th largest construction companies).[8] Other notable subsidiaries include Samsung Life Insurance (the world's 14th largest life insurance company),[9] Samsung Everland (operator of Everland Resort, the oldest theme park in South Korea)[10] and Cheil Worldwide (the world's 15th largest advertising agency, as measured by 2012 revenues).[11][12]\""
            ]
          },
          "execution_count": 226,
          "metadata": {},
          "output_type": "execute_result"
        }
      ],
      "source": [
        "sw"
      ]
    },
    {
      "cell_type": "code",
      "execution_count": null,
      "id": "0020ddcb",
      "metadata": {
        "id": "0020ddcb"
      },
      "outputs": [],
      "source": [
        "s= sw.upper()"
      ]
    },
    {
      "cell_type": "code",
      "execution_count": null,
      "id": "89750e7b",
      "metadata": {
        "id": "89750e7b",
        "outputId": "6478d3c0-f828-42f0-9eb6-58b3f0174c2c"
      },
      "outputs": [
        {
          "data": {
            "text/plain": [
              "\"The Samsung Group[3] (Or Simply Samsung, Stylized As Sλmsung) (Korean: 삼성 [Samsʌŋ]) Is A South Korean Multinational Manufacturing Conglomerate Headquartered In Samsung Town, Seoul, South Korea.[1] It Comprises Numerous Affiliated Businesses,[1] Most Of Them United Under The Samsung Brand, And Is The Largest South Korean Chaebol (Business Conglomerate). As Of 2020, Samsung Has The 8Th Highest Global Brand Value.[4]\\n\\nSamsung Was Founded By Lee Byung-Chul In 1938 As A Trading Company. Over The Next Three Decades, The Group Diversified Into Areas Including Food Processing, Textiles, Insurance, Securities, And Retail. Samsung Entered The Electronics Industry In The Late 1960S And The Construction And Shipbuilding Industries In The Mid-1970S; These Areas Would Drive Its Subsequent Growth. Following Lee'S Death In 1987, Samsung Was Separated Into Five Business Groups – Samsung Group, Shinsegae Group, Cj Group And Hansol Group, And Joongang Group.\\n\\nNotable Samsung Industrial Affiliates Include Samsung Electronics (The World'S Largest Information Technology Company, Consumer Electronics Maker And Chipmaker Measured By 2017 Revenues),[5][6] Samsung Heavy Industries (The World'S 2Nd Largest Shipbuilder Measured By 2010 Revenues),[7] And Samsung Engineering And Samsung C&T Corporation (Respectively The World'S 13Th And 36Th Largest Construction Companies).[8] Other Notable Subsidiaries Include Samsung Life Insurance (The World'S 14Th Largest Life Insurance Company),[9] Samsung Everland (Operator Of Everland Resort, The Oldest Theme Park In South Korea)[10] And Cheil Worldwide (The World'S 15Th Largest Advertising Agency, As Measured By 2012 Revenues).[11][12]\""
            ]
          },
          "execution_count": 232,
          "metadata": {},
          "output_type": "execute_result"
        }
      ],
      "source": [
        "s.title()"
      ]
    },
    {
      "cell_type": "code",
      "execution_count": null,
      "id": "04eea734",
      "metadata": {
        "id": "04eea734",
        "outputId": "f79b0775-be1a-4733-9391-97c3c0205490"
      },
      "outputs": [
        {
          "data": {
            "text/plain": [
              "['THE SAMSUNG GROUP[3] (OR SIMPLY SAMSUNG, STYLIZED AS SΛMSUNG) (KOREAN: 삼성 [SAMSɅŊ]) IS A SOUTH KOREAN MULTINATIONAL MANUFACTURING CONGLOMERATE HEADQUARTERED IN SAMSUNG TOWN, SEOUL, SOUTH KOREA.[1] IT COMPRISES NUMEROUS AFFILIATED BUSINESSES,[1] MOST OF THEM UNITED UNDER THE SAMSUNG BRAND, AND IS THE LARGEST SOUTH KOREAN CHAEBOL (BUSINESS CONGLOMERATE). AS OF 2020, SAMSUNG HAS THE 8TH HIGHEST GLOBAL BRAND VALUE.[4]',\n",
              " '',\n",
              " \"SAMSUNG WAS FOUNDED BY LEE BYUNG-CHUL IN 1938 AS A TRADING COMPANY. OVER THE NEXT THREE DECADES, THE GROUP DIVERSIFIED INTO AREAS INCLUDING FOOD PROCESSING, TEXTILES, INSURANCE, SECURITIES, AND RETAIL. SAMSUNG ENTERED THE ELECTRONICS INDUSTRY IN THE LATE 1960S AND THE CONSTRUCTION AND SHIPBUILDING INDUSTRIES IN THE MID-1970S; THESE AREAS WOULD DRIVE ITS SUBSEQUENT GROWTH. FOLLOWING LEE'S DEATH IN 1987, SAMSUNG WAS SEPARATED INTO FIVE BUSINESS GROUPS – SAMSUNG GROUP, SHINSEGAE GROUP, CJ GROUP AND HANSOL GROUP, AND JOONGANG GROUP.\",\n",
              " '',\n",
              " \"NOTABLE SAMSUNG INDUSTRIAL AFFILIATES INCLUDE SAMSUNG ELECTRONICS (THE WORLD'S LARGEST INFORMATION TECHNOLOGY COMPANY, CONSUMER ELECTRONICS MAKER AND CHIPMAKER MEASURED BY 2017 REVENUES),[5][6] SAMSUNG HEAVY INDUSTRIES (THE WORLD'S 2ND LARGEST SHIPBUILDER MEASURED BY 2010 REVENUES),[7] AND SAMSUNG ENGINEERING AND SAMSUNG C&T CORPORATION (RESPECTIVELY THE WORLD'S 13TH AND 36TH LARGEST CONSTRUCTION COMPANIES).[8] OTHER NOTABLE SUBSIDIARIES INCLUDE SAMSUNG LIFE INSURANCE (THE WORLD'S 14TH LARGEST LIFE INSURANCE COMPANY),[9] SAMSUNG EVERLAND (OPERATOR OF EVERLAND RESORT, THE OLDEST THEME PARK IN SOUTH KOREA)[10] AND CHEIL WORLDWIDE (THE WORLD'S 15TH LARGEST ADVERTISING AGENCY, AS MEASURED BY 2012 REVENUES).[11][12]\"]"
            ]
          },
          "execution_count": 230,
          "metadata": {},
          "output_type": "execute_result"
        }
      ],
      "source": [
        "s.splitlines()"
      ]
    },
    {
      "cell_type": "code",
      "execution_count": null,
      "id": "10912834",
      "metadata": {
        "id": "10912834",
        "outputId": "0a4b3da0-7af4-4971-c2da-b89bad8b2842"
      },
      "outputs": [
        {
          "data": {
            "text/plain": [
              "'uhsnahdu'"
            ]
          },
          "execution_count": 234,
          "metadata": {},
          "output_type": "execute_result"
        }
      ],
      "source": [
        "s = \"sudhanshu\"\n",
        "s[len(s):0:-1]"
      ]
    },
    {
      "cell_type": "code",
      "execution_count": null,
      "id": "0aca9eee",
      "metadata": {
        "id": "0aca9eee",
        "outputId": "1f4237c4-6aa1-40f9-ba2b-151f0a136a2f"
      },
      "outputs": [
        {
          "data": {
            "text/plain": [
              "'sudhanshu'"
            ]
          },
          "execution_count": 235,
          "metadata": {},
          "output_type": "execute_result"
        }
      ],
      "source": [
        "\"\".join(\"sudhanshu\")"
      ]
    },
    {
      "cell_type": "code",
      "execution_count": null,
      "id": "2a0f1be3",
      "metadata": {
        "id": "2a0f1be3",
        "outputId": "075135ea-b7c4-4df1-83ba-c8af9c62215c"
      },
      "outputs": [
        {
          "data": {
            "text/plain": [
              "'uhsnahdus'"
            ]
          },
          "execution_count": 245,
          "metadata": {},
          "output_type": "execute_result"
        }
      ],
      "source": [
        "s= \"sudhanshu\"\n",
        "s= reversed(s)\n",
        "\"\".join(s)\n"
      ]
    },
    {
      "cell_type": "code",
      "execution_count": null,
      "id": "52736866",
      "metadata": {
        "id": "52736866",
        "outputId": "9e80d7b4-b22a-448a-83da-f0cf3f5da9fc"
      },
      "outputs": [
        {
          "data": {
            "text/plain": [
              "''"
            ]
          },
          "execution_count": 246,
          "metadata": {},
          "output_type": "execute_result"
        }
      ],
      "source": [
        "\"\".join(s)"
      ]
    },
    {
      "cell_type": "code",
      "execution_count": null,
      "id": "c50bbd41",
      "metadata": {
        "id": "c50bbd41",
        "outputId": "a8fcc4af-1cda-4643-b04f-9bad301d49d7"
      },
      "outputs": [
        {
          "data": {
            "text/plain": [
              "''"
            ]
          },
          "execution_count": 247,
          "metadata": {},
          "output_type": "execute_result"
        }
      ],
      "source": [
        "\"\".join(s)"
      ]
    },
    {
      "cell_type": "code",
      "execution_count": null,
      "id": "1b9df594",
      "metadata": {
        "id": "1b9df594",
        "outputId": "8c015603-7811-40cf-c9c1-cdf5e4342957"
      },
      "outputs": [
        {
          "data": {
            "text/plain": [
              "<reversed at 0x20c1259d490>"
            ]
          },
          "execution_count": 248,
          "metadata": {},
          "output_type": "execute_result"
        }
      ],
      "source": [
        "s"
      ]
    },
    {
      "cell_type": "code",
      "execution_count": null,
      "id": "463f93a9",
      "metadata": {
        "id": "463f93a9"
      },
      "outputs": [],
      "source": [
        "for i in s :\n",
        "    print(i)"
      ]
    },
    {
      "cell_type": "code",
      "execution_count": null,
      "id": "e2595d92",
      "metadata": {
        "id": "e2595d92"
      },
      "outputs": [],
      "source": [
        "s = 'ineuron'"
      ]
    },
    {
      "cell_type": "code",
      "execution_count": null,
      "id": "f10a8dc1",
      "metadata": {
        "id": "f10a8dc1",
        "outputId": "2abe4152-7da1-4da1-ab8c-96c7ebcc8971"
      },
      "outputs": [
        {
          "data": {
            "text/plain": [
              "'n'"
            ]
          },
          "execution_count": 253,
          "metadata": {},
          "output_type": "execute_result"
        }
      ],
      "source": [
        "s[-1:]"
      ]
    },
    {
      "cell_type": "code",
      "execution_count": null,
      "id": "a837075f",
      "metadata": {
        "id": "a837075f",
        "outputId": "d3e81746-7722-454f-f0fb-fd3dcf80f4b4"
      },
      "outputs": [
        {
          "data": {
            "text/plain": [
              "'sudhansh'"
            ]
          },
          "execution_count": 254,
          "metadata": {},
          "output_type": "execute_result"
        }
      ],
      "source": [
        "s = \"sudhanshu\"\n",
        "s[-12:-1:1]"
      ]
    },
    {
      "cell_type": "code",
      "execution_count": null,
      "id": "2423481c",
      "metadata": {
        "id": "2423481c",
        "outputId": "5844bd3c-d5b1-4636-b5b8-a48d69341bac"
      },
      "outputs": [
        {
          "data": {
            "text/plain": [
              "''"
            ]
          },
          "execution_count": 255,
          "metadata": {},
          "output_type": "execute_result"
        }
      ],
      "source": [
        "s[-12:0:1]"
      ]
    },
    {
      "cell_type": "code",
      "execution_count": null,
      "id": "2ba85d31",
      "metadata": {
        "id": "2ba85d31"
      },
      "outputs": [],
      "source": [
        "s = \"i\\live\\in\\delhi\""
      ]
    },
    {
      "cell_type": "code",
      "execution_count": null,
      "id": "4a61d378",
      "metadata": {
        "id": "4a61d378",
        "outputId": "3ece2b7e-a925-461d-9782-4b9d9e6f7e07"
      },
      "outputs": [
        {
          "data": {
            "text/plain": [
              "['i', 'live', 'in', 'delhi']"
            ]
          },
          "execution_count": 262,
          "metadata": {},
          "output_type": "execute_result"
        }
      ],
      "source": [
        "s.split('\\\\')"
      ]
    },
    {
      "cell_type": "code",
      "execution_count": null,
      "id": "91df19ce",
      "metadata": {
        "id": "91df19ce",
        "outputId": "ab2ed914-d14f-4246-ca60-c6eeab821ca8"
      },
      "outputs": [
        {
          "data": {
            "text/plain": [
              "True"
            ]
          },
          "execution_count": 264,
          "metadata": {},
          "output_type": "execute_result"
        }
      ],
      "source": [
        "s = \"sudh\"\n",
        "s.isalpha()"
      ]
    },
    {
      "cell_type": "code",
      "execution_count": null,
      "id": "9fa031ab",
      "metadata": {
        "id": "9fa031ab"
      },
      "outputs": [],
      "source": [
        "s1 = \"sudh3453\""
      ]
    },
    {
      "cell_type": "code",
      "execution_count": null,
      "id": "9d05fa78",
      "metadata": {
        "id": "9d05fa78",
        "outputId": "6f1b0807-d4b7-4f65-f786-bd5bf783de94"
      },
      "outputs": [
        {
          "data": {
            "text/plain": [
              "True"
            ]
          },
          "execution_count": 266,
          "metadata": {},
          "output_type": "execute_result"
        }
      ],
      "source": [
        "s1.isalnum()"
      ]
    },
    {
      "cell_type": "code",
      "execution_count": null,
      "id": "3b5e4198",
      "metadata": {
        "id": "3b5e4198"
      },
      "outputs": [],
      "source": [
        ""
      ]
    }
  ],
  "metadata": {
    "kernelspec": {
      "display_name": "Python 3 (ipykernel)",
      "language": "python",
      "name": "python3"
    },
    "language_info": {
      "codemirror_mode": {
        "name": "ipython",
        "version": 3
      },
      "file_extension": ".py",
      "mimetype": "text/x-python",
      "name": "python",
      "nbconvert_exporter": "python",
      "pygments_lexer": "ipython3",
      "version": "3.9.7"
    },
    "colab": {
      "name": "L5 # String basic.ipynb",
      "provenance": [],
      "include_colab_link": true
    }
  },
  "nbformat": 4,
  "nbformat_minor": 5
}