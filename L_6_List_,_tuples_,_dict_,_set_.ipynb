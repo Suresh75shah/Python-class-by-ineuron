{
  "cells": [
    {
      "cell_type": "markdown",
      "metadata": {
        "id": "view-in-github",
        "colab_type": "text"
      },
      "source": [
        "<a href=\"https://colab.research.google.com/github/Suresh75shah/Python-class-by-ineuron/blob/main/L_6_List_%2C_tuples_%2C_dict_%2C_set_.ipynb\" target=\"_parent\"><img src=\"https://colab.research.google.com/assets/colab-badge.svg\" alt=\"Open In Colab\"/></a>"
      ]
    },
    {
      "cell_type": "markdown",
      "source": [
        "L #6 21 may\n"
      ],
      "metadata": {
        "id": "j9fpgIi6YRnN"
      },
      "id": "j9fpgIi6YRnN"
    },
    {
      "cell_type": "code",
      "execution_count": null,
      "id": "6aa8fce0",
      "metadata": {
        "id": "6aa8fce0"
      },
      "outputs": [],
      "source": [
        "l = [1,2,3,4,5, \"sudh\" , 45.67, True]"
      ]
    },
    {
      "cell_type": "code",
      "execution_count": null,
      "id": "88a616d3",
      "metadata": {
        "id": "88a616d3",
        "outputId": "c88dbd62-5d1f-43e8-ce89-448076042b33"
      },
      "outputs": [
        {
          "data": {
            "text/plain": [
              "1"
            ]
          },
          "execution_count": 2,
          "metadata": {},
          "output_type": "execute_result"
        }
      ],
      "source": [
        "l[0]"
      ]
    },
    {
      "cell_type": "code",
      "execution_count": null,
      "id": "ba5eb6aa",
      "metadata": {
        "id": "ba5eb6aa",
        "outputId": "04ed478e-b601-42c2-9337-db8ddb25983b"
      },
      "outputs": [
        {
          "data": {
            "text/plain": [
              "True"
            ]
          },
          "execution_count": 3,
          "metadata": {},
          "output_type": "execute_result"
        }
      ],
      "source": [
        "l[-1]"
      ]
    },
    {
      "cell_type": "code",
      "execution_count": null,
      "id": "fed3fabb",
      "metadata": {
        "id": "fed3fabb",
        "outputId": "8ae9c3d7-92be-4b03-9a09-1290f1bb8629"
      },
      "outputs": [
        {
          "data": {
            "text/plain": [
              "8"
            ]
          },
          "execution_count": 4,
          "metadata": {},
          "output_type": "execute_result"
        }
      ],
      "source": [
        "len(l)"
      ]
    },
    {
      "cell_type": "code",
      "execution_count": null,
      "id": "a22593bb",
      "metadata": {
        "id": "a22593bb",
        "outputId": "70e417bd-9426-433d-cb99-7a2e6c38d089"
      },
      "outputs": [
        {
          "data": {
            "text/plain": [
              "[1, 2, 3, 4, 5]"
            ]
          },
          "execution_count": 5,
          "metadata": {},
          "output_type": "execute_result"
        }
      ],
      "source": [
        "l[0:5]"
      ]
    },
    {
      "cell_type": "code",
      "execution_count": null,
      "id": "9ec8246d",
      "metadata": {
        "id": "9ec8246d",
        "outputId": "a9c1cebb-9bf7-4778-9475-baf12c5db70d"
      },
      "outputs": [
        {
          "data": {
            "text/plain": [
              "[True, 45.67, 'sudh', 5, 4, 3, 2, 1]"
            ]
          },
          "execution_count": 6,
          "metadata": {},
          "output_type": "execute_result"
        }
      ],
      "source": [
        "l[::-1]"
      ]
    },
    {
      "cell_type": "code",
      "execution_count": null,
      "id": "325e5983",
      "metadata": {
        "id": "325e5983",
        "outputId": "a6b61725-4a2e-4b3e-d584-3d4a23a1ad8d"
      },
      "outputs": [
        {
          "data": {
            "text/plain": [
              "[1, 2, 3, 4, 5, 'sudh', 45.67, True]"
            ]
          },
          "execution_count": 7,
          "metadata": {},
          "output_type": "execute_result"
        }
      ],
      "source": [
        "l"
      ]
    },
    {
      "cell_type": "code",
      "execution_count": null,
      "id": "4a5c6b2d",
      "metadata": {
        "id": "4a5c6b2d",
        "outputId": "75c6811b-cdb0-480a-d8be-191bd6a598da"
      },
      "outputs": [
        {
          "data": {
            "text/plain": [
              "[1, 3, 5, 45.67]"
            ]
          },
          "execution_count": 9,
          "metadata": {},
          "output_type": "execute_result"
        }
      ],
      "source": [
        "l[0:100:2]"
      ]
    },
    {
      "cell_type": "code",
      "execution_count": null,
      "id": "7f8fa5d8",
      "metadata": {
        "id": "7f8fa5d8",
        "outputId": "26c05c6e-ca92-454c-d68d-36752a15c870"
      },
      "outputs": [
        {
          "data": {
            "text/plain": [
              "[1, 2, 3, 4, 5, 'sudh', 45.67, True]"
            ]
          },
          "execution_count": 10,
          "metadata": {},
          "output_type": "execute_result"
        }
      ],
      "source": [
        "l"
      ]
    },
    {
      "cell_type": "code",
      "execution_count": null,
      "id": "31faac26",
      "metadata": {
        "id": "31faac26",
        "outputId": "2cf2dcae-2a78-4d5c-d9d6-b1320619fbea"
      },
      "outputs": [
        {
          "data": {
            "text/plain": [
              "[]"
            ]
          },
          "execution_count": 11,
          "metadata": {},
          "output_type": "execute_result"
        }
      ],
      "source": [
        "l[0:8:-1]"
      ]
    },
    {
      "cell_type": "code",
      "execution_count": null,
      "id": "d1ac7b2f",
      "metadata": {
        "id": "d1ac7b2f",
        "outputId": "f3d1bc7f-c8ab-447a-fb90-11506f622b93"
      },
      "outputs": [
        {
          "data": {
            "text/plain": [
              "[1, 2, 3]"
            ]
          },
          "execution_count": 12,
          "metadata": {},
          "output_type": "execute_result"
        }
      ],
      "source": [
        "l[:3]"
      ]
    },
    {
      "cell_type": "code",
      "execution_count": null,
      "id": "f3a88528",
      "metadata": {
        "id": "f3a88528",
        "outputId": "3c0736fe-b62c-4077-92e3-aaaa493b85fa"
      },
      "outputs": [
        {
          "data": {
            "text/plain": [
              "[1, 2, 3, 4, 5, 'sudh', 45.67, True, 'sudh']"
            ]
          },
          "execution_count": 15,
          "metadata": {},
          "output_type": "execute_result"
        }
      ],
      "source": [
        "l +[\"sudh\"]"
      ]
    },
    {
      "cell_type": "code",
      "execution_count": null,
      "id": "9c50fc6c",
      "metadata": {
        "id": "9c50fc6c",
        "outputId": "702b28f1-326e-4720-8963-5a753a50698d"
      },
      "outputs": [
        {
          "data": {
            "text/plain": [
              "[1, 2, 3, 4, 5, 'sudh', 45.67, True, 1, 2, 3, 4, 5, 'sudh', 45.67, True]"
            ]
          },
          "execution_count": 16,
          "metadata": {},
          "output_type": "execute_result"
        }
      ],
      "source": [
        "l * 2"
      ]
    },
    {
      "cell_type": "code",
      "execution_count": null,
      "id": "a8835e53",
      "metadata": {
        "id": "a8835e53",
        "outputId": "b5331a9c-8749-4695-9d5a-729589f4fc6b"
      },
      "outputs": [
        {
          "data": {
            "text/plain": [
              "[1, 2, 3, 4, 5, 'sudh', 45.67, True]"
            ]
          },
          "execution_count": 17,
          "metadata": {},
          "output_type": "execute_result"
        }
      ],
      "source": [
        "l"
      ]
    },
    {
      "cell_type": "code",
      "source": [
        "l+\"okayh\""
      ],
      "metadata": {
        "colab": {
          "base_uri": "https://localhost:8080/",
          "height": 169
        },
        "id": "LVetHx41ZAz-",
        "outputId": "290e9ea0-9f16-4d9a-9a76-36df267b11f8"
      },
      "id": "LVetHx41ZAz-",
      "execution_count": 1,
      "outputs": [
        {
          "output_type": "error",
          "ename": "NameError",
          "evalue": "ignored",
          "traceback": [
            "\u001b[0;31m---------------------------------------------------------------------------\u001b[0m",
            "\u001b[0;31mNameError\u001b[0m                                 Traceback (most recent call last)",
            "\u001b[0;32m<ipython-input-1-f8bb01d219e5>\u001b[0m in \u001b[0;36m<module>\u001b[0;34m()\u001b[0m\n\u001b[0;32m----> 1\u001b[0;31m \u001b[0ml\u001b[0m\u001b[0;34m+\u001b[0m\u001b[0;34m\"okayh\"\u001b[0m\u001b[0;34m\u001b[0m\u001b[0;34m\u001b[0m\u001b[0m\n\u001b[0m",
            "\u001b[0;31mNameError\u001b[0m: name 'l' is not defined"
          ]
        }
      ]
    },
    {
      "cell_type": "code",
      "source": [
        "l*['okay']"
      ],
      "metadata": {
        "colab": {
          "base_uri": "https://localhost:8080/",
          "height": 169
        },
        "id": "1tumIqGcZEyU",
        "outputId": "3ca1a781-9968-4ce6-9a0d-4cc665dbc57b"
      },
      "id": "1tumIqGcZEyU",
      "execution_count": 2,
      "outputs": [
        {
          "output_type": "error",
          "ename": "NameError",
          "evalue": "ignored",
          "traceback": [
            "\u001b[0;31m---------------------------------------------------------------------------\u001b[0m",
            "\u001b[0;31mNameError\u001b[0m                                 Traceback (most recent call last)",
            "\u001b[0;32m<ipython-input-2-d4b9915ca158>\u001b[0m in \u001b[0;36m<module>\u001b[0;34m()\u001b[0m\n\u001b[0;32m----> 1\u001b[0;31m \u001b[0ml\u001b[0m\u001b[0;34m*\u001b[0m\u001b[0;34m[\u001b[0m\u001b[0;34m'okay'\u001b[0m\u001b[0;34m]\u001b[0m\u001b[0;34m\u001b[0m\u001b[0;34m\u001b[0m\u001b[0m\n\u001b[0m",
            "\u001b[0;31mNameError\u001b[0m: name 'l' is not defined"
          ]
        }
      ]
    },
    {
      "cell_type": "code",
      "execution_count": null,
      "id": "1b7cb7ee",
      "metadata": {
        "id": "1b7cb7ee",
        "outputId": "204edd27-8222-41b8-e274-3d276697d51c"
      },
      "outputs": [
        {
          "data": {
            "text/plain": [
              "False"
            ]
          },
          "execution_count": 18,
          "metadata": {},
          "output_type": "execute_result"
        }
      ],
      "source": [
        "60 in l"
      ]
    },
    {
      "cell_type": "code",
      "execution_count": null,
      "id": "f72eae30",
      "metadata": {
        "id": "f72eae30",
        "outputId": "6ccaff4e-89be-41fe-e763-dd4c63fe2283"
      },
      "outputs": [
        {
          "data": {
            "text/plain": [
              "True"
            ]
          },
          "execution_count": 19,
          "metadata": {},
          "output_type": "execute_result"
        }
      ],
      "source": [
        "2 in l"
      ]
    },
    {
      "cell_type": "code",
      "execution_count": null,
      "id": "36dcfabd",
      "metadata": {
        "id": "36dcfabd",
        "outputId": "fb6754dd-dfa0-4527-8aae-96993ba51440"
      },
      "outputs": [
        {
          "ename": "TypeError",
          "evalue": "'>' not supported between instances of 'str' and 'int'",
          "output_type": "error",
          "traceback": [
            "\u001b[1;31m---------------------------------------------------------------------------\u001b[0m",
            "\u001b[1;31mTypeError\u001b[0m                                 Traceback (most recent call last)",
            "\u001b[1;32m~\\AppData\\Local\\Temp/ipykernel_28700/1790536805.py\u001b[0m in \u001b[0;36m<module>\u001b[1;34m\u001b[0m\n\u001b[1;32m----> 1\u001b[1;33m \u001b[0mmax\u001b[0m\u001b[1;33m(\u001b[0m\u001b[0ml\u001b[0m\u001b[1;33m)\u001b[0m\u001b[1;33m\u001b[0m\u001b[1;33m\u001b[0m\u001b[0m\n\u001b[0m",
            "\u001b[1;31mTypeError\u001b[0m: '>' not supported between instances of 'str' and 'int'"
          ]
        }
      ],
      "source": [
        "max(l)"
      ]
    },
    {
      "cell_type": "code",
      "execution_count": null,
      "id": "5f9d1feb",
      "metadata": {
        "id": "5f9d1feb"
      },
      "outputs": [],
      "source": [
        "l1 = [3,4,5,6,6]"
      ]
    },
    {
      "cell_type": "code",
      "execution_count": null,
      "id": "19744a16",
      "metadata": {
        "id": "19744a16",
        "outputId": "e1584907-4045-4af7-cfd7-6e5912cb663c"
      },
      "outputs": [
        {
          "data": {
            "text/plain": [
              "6"
            ]
          },
          "execution_count": 23,
          "metadata": {},
          "output_type": "execute_result"
        }
      ],
      "source": [
        "max(l1)"
      ]
    },
    {
      "cell_type": "code",
      "execution_count": null,
      "id": "36d91ce0",
      "metadata": {
        "id": "36d91ce0",
        "outputId": "29c735f5-f29c-4b3a-b2d7-434ebd0af9f7"
      },
      "outputs": [
        {
          "data": {
            "text/plain": [
              "[1, 2, 3, 4, 5, 'sudh', 45.67, True]"
            ]
          },
          "execution_count": 24,
          "metadata": {},
          "output_type": "execute_result"
        }
      ],
      "source": [
        "l"
      ]
    },
    {
      "cell_type": "code",
      "execution_count": null,
      "id": "cb8fbcc3",
      "metadata": {
        "id": "cb8fbcc3"
      },
      "outputs": [],
      "source": [
        "l2 = [\"sudh\" , \"iNeuron\" , \"kumar\"]"
      ]
    },
    {
      "cell_type": "code",
      "execution_count": null,
      "id": "fcbb6f75",
      "metadata": {
        "id": "fcbb6f75",
        "outputId": "3d13b5af-c83d-425d-e3e2-1a5c81cde689"
      },
      "outputs": [
        {
          "data": {
            "text/plain": [
              "'sudh'"
            ]
          },
          "execution_count": 26,
          "metadata": {},
          "output_type": "execute_result"
        }
      ],
      "source": [
        "max(l2)"
      ]
    },
    {
      "cell_type": "code",
      "execution_count": null,
      "id": "f15ead27",
      "metadata": {
        "id": "f15ead27",
        "outputId": "56722132-6eb5-4994-ae42-96ecde858967"
      },
      "outputs": [
        {
          "data": {
            "text/plain": [
              "3"
            ]
          },
          "execution_count": 27,
          "metadata": {},
          "output_type": "execute_result"
        }
      ],
      "source": [
        "min(l1)"
      ]
    },
    {
      "cell_type": "code",
      "execution_count": null,
      "id": "2f860bd5",
      "metadata": {
        "id": "2f860bd5",
        "outputId": "6e958d09-e2a8-41ad-d415-89bee959356c"
      },
      "outputs": [
        {
          "data": {
            "text/plain": [
              "'iNeuron'"
            ]
          },
          "execution_count": 28,
          "metadata": {},
          "output_type": "execute_result"
        }
      ],
      "source": [
        "min(l2)"
      ]
    },
    {
      "cell_type": "code",
      "execution_count": null,
      "id": "0302a260",
      "metadata": {
        "id": "0302a260",
        "outputId": "c6887fd3-c26c-4898-db1d-7722b9936d81"
      },
      "outputs": [
        {
          "data": {
            "text/plain": [
              "[1, 2, 3, 4, 5, 'sudh', 45.67, True]"
            ]
          },
          "execution_count": 29,
          "metadata": {},
          "output_type": "execute_result"
        }
      ],
      "source": [
        "l"
      ]
    },
    {
      "cell_type": "code",
      "execution_count": null,
      "id": "749e8146",
      "metadata": {
        "id": "749e8146"
      },
      "outputs": [],
      "source": [
        "l.append(\"kuamr\")"
      ]
    },
    {
      "cell_type": "code",
      "execution_count": null,
      "id": "3c94f99a",
      "metadata": {
        "id": "3c94f99a",
        "outputId": "044fe984-61b9-4f39-c1ab-35b628684c4f"
      },
      "outputs": [
        {
          "data": {
            "text/plain": [
              "[1, 2, 3, 4, 5, 'sudh', 45.67, True, 'kuamr']"
            ]
          },
          "execution_count": 31,
          "metadata": {},
          "output_type": "execute_result"
        }
      ],
      "source": [
        "l"
      ]
    },
    {
      "cell_type": "code",
      "execution_count": null,
      "id": "79a5c295",
      "metadata": {
        "id": "79a5c295"
      },
      "outputs": [],
      "source": [
        "l.append([1,2,3,4])"
      ]
    },
    {
      "cell_type": "code",
      "execution_count": null,
      "id": "5e122777",
      "metadata": {
        "id": "5e122777",
        "outputId": "67b19192-cf5e-47d3-8e08-5991d3c79b6a"
      },
      "outputs": [
        {
          "data": {
            "text/plain": [
              "[1, 2, 3, 4, 5, 'sudh', 45.67, True, 'kuamr', [1, 2, 3, 4]]"
            ]
          },
          "execution_count": 33,
          "metadata": {},
          "output_type": "execute_result"
        }
      ],
      "source": [
        "l"
      ]
    },
    {
      "cell_type": "code",
      "execution_count": null,
      "id": "03c9adf9",
      "metadata": {
        "id": "03c9adf9",
        "outputId": "54f74f07-8d2f-4ac7-c8e6-d1e7a4b144bf"
      },
      "outputs": [
        {
          "data": {
            "text/plain": [
              "1"
            ]
          },
          "execution_count": 34,
          "metadata": {},
          "output_type": "execute_result"
        }
      ],
      "source": [
        "l.pop(0)"
      ]
    },
    {
      "cell_type": "code",
      "execution_count": null,
      "id": "84200cd2",
      "metadata": {
        "id": "84200cd2",
        "outputId": "17236ecc-21fe-40a0-a1c2-ecafbb8fc3a5"
      },
      "outputs": [
        {
          "data": {
            "text/plain": [
              "[2, 3, 4, 5, 'sudh', 45.67, True, 'kuamr', [1, 2, 3, 4]]"
            ]
          },
          "execution_count": 35,
          "metadata": {},
          "output_type": "execute_result"
        }
      ],
      "source": [
        "l"
      ]
    },
    {
      "cell_type": "code",
      "execution_count": null,
      "id": "6edaaa25",
      "metadata": {
        "id": "6edaaa25",
        "outputId": "fd021c5b-37b8-4cff-8f8c-f79b9f083585"
      },
      "outputs": [
        {
          "data": {
            "text/plain": [
              "[1, 2, 3, 4]"
            ]
          },
          "execution_count": 36,
          "metadata": {},
          "output_type": "execute_result"
        }
      ],
      "source": [
        "l.pop()"
      ]
    },
    {
      "cell_type": "code",
      "execution_count": null,
      "id": "e578afaf",
      "metadata": {
        "id": "e578afaf",
        "outputId": "74c39bcd-4d08-4945-8236-afbb7e421072"
      },
      "outputs": [
        {
          "data": {
            "text/plain": [
              "[2, 3, 4, 5, 'sudh', 45.67, True, 'kuamr']"
            ]
          },
          "execution_count": 37,
          "metadata": {},
          "output_type": "execute_result"
        }
      ],
      "source": [
        "l"
      ]
    },
    {
      "cell_type": "code",
      "execution_count": null,
      "id": "77598818",
      "metadata": {
        "id": "77598818"
      },
      "outputs": [],
      "source": [
        "l.reverse()"
      ]
    },
    {
      "cell_type": "code",
      "execution_count": null,
      "id": "c630beef",
      "metadata": {
        "id": "c630beef",
        "outputId": "0c91c18e-2b45-48e2-859c-b2e054285a6f"
      },
      "outputs": [
        {
          "data": {
            "text/plain": [
              "['kuamr', True, 45.67, 'sudh', 5, 4, 3, 2]"
            ]
          },
          "execution_count": 39,
          "metadata": {},
          "output_type": "execute_result"
        }
      ],
      "source": [
        "l"
      ]
    },
    {
      "cell_type": "code",
      "execution_count": null,
      "id": "52cfc604",
      "metadata": {
        "id": "52cfc604",
        "outputId": "fc73a8da-508c-40d7-c03e-e7e08d627710"
      },
      "outputs": [
        {
          "data": {
            "text/plain": [
              "[2, 3, 4, 5, 'sudh', 45.67, True, 'kuamr']"
            ]
          },
          "execution_count": 40,
          "metadata": {},
          "output_type": "execute_result"
        }
      ],
      "source": [
        "l = l[::-1]"
      ]
    },
    {
      "cell_type": "code",
      "execution_count": null,
      "id": "f8d0ef51",
      "metadata": {
        "id": "f8d0ef51"
      },
      "outputs": [],
      "source": [
        "l.reverse()"
      ]
    },
    {
      "cell_type": "code",
      "execution_count": null,
      "id": "04bdc84d",
      "metadata": {
        "id": "04bdc84d",
        "outputId": "3c4b5a0e-430d-490c-c55e-3d88642a95ce"
      },
      "outputs": [
        {
          "data": {
            "text/plain": [
              "[2, 3, 4, 5, 'sudh', 45.67, True, 'kuamr']"
            ]
          },
          "execution_count": 42,
          "metadata": {},
          "output_type": "execute_result"
        }
      ],
      "source": [
        "l"
      ]
    },
    {
      "cell_type": "code",
      "execution_count": null,
      "id": "546a2228",
      "metadata": {
        "id": "546a2228"
      },
      "outputs": [],
      "source": [
        "l.append ([1,2,3,4])"
      ]
    },
    {
      "cell_type": "code",
      "execution_count": null,
      "id": "03d13653",
      "metadata": {
        "id": "03d13653",
        "outputId": "dba69a7d-e339-40e0-ee1c-9192add6a98f"
      },
      "outputs": [
        {
          "data": {
            "text/plain": [
              "[2, 3, 4, 5, 'sudh', 45.67, True, 'kuamr', [1, 2, 3, 4]]"
            ]
          },
          "execution_count": 44,
          "metadata": {},
          "output_type": "execute_result"
        }
      ],
      "source": [
        "l"
      ]
    },
    {
      "cell_type": "code",
      "execution_count": null,
      "id": "9045a61f",
      "metadata": {
        "id": "9045a61f",
        "outputId": "6fcb5d58-0fbc-4dd7-cbfb-1997e47e4342"
      },
      "outputs": [
        {
          "ename": "TypeError",
          "evalue": "'<' not supported between instances of 'str' and 'int'",
          "output_type": "error",
          "traceback": [
            "\u001b[1;31m---------------------------------------------------------------------------\u001b[0m",
            "\u001b[1;31mTypeError\u001b[0m                                 Traceback (most recent call last)",
            "\u001b[1;32m~\\AppData\\Local\\Temp/ipykernel_28700/4149526160.py\u001b[0m in \u001b[0;36m<module>\u001b[1;34m\u001b[0m\n\u001b[1;32m----> 1\u001b[1;33m \u001b[0ml\u001b[0m\u001b[1;33m.\u001b[0m\u001b[0msort\u001b[0m\u001b[1;33m(\u001b[0m\u001b[1;33m)\u001b[0m\u001b[1;33m\u001b[0m\u001b[1;33m\u001b[0m\u001b[0m\n\u001b[0m",
            "\u001b[1;31mTypeError\u001b[0m: '<' not supported between instances of 'str' and 'int'"
          ]
        }
      ],
      "source": [
        "l.sort()"
      ]
    },
    {
      "cell_type": "code",
      "execution_count": null,
      "id": "9cd32227",
      "metadata": {
        "id": "9cd32227",
        "outputId": "7904f25b-8d5a-4398-cbdb-53c2292c339e"
      },
      "outputs": [
        {
          "data": {
            "text/plain": [
              "[2, 3, 4, 5, 'sudh', 45.67, True, 'kuamr', [1, 2, 3, 4]]"
            ]
          },
          "execution_count": 46,
          "metadata": {},
          "output_type": "execute_result"
        }
      ],
      "source": [
        "l"
      ]
    },
    {
      "cell_type": "code",
      "execution_count": null,
      "id": "1c2e3b21",
      "metadata": {
        "id": "1c2e3b21",
        "outputId": "a5061c5b-69ee-4e7b-90f8-2604476ea555"
      },
      "outputs": [
        {
          "data": {
            "text/plain": [
              "[3, 4, 5, 6, 6]"
            ]
          },
          "execution_count": 47,
          "metadata": {},
          "output_type": "execute_result"
        }
      ],
      "source": [
        "l1"
      ]
    },
    {
      "cell_type": "code",
      "execution_count": null,
      "id": "0fa37a2d",
      "metadata": {
        "id": "0fa37a2d"
      },
      "outputs": [],
      "source": [
        "l1.sort()"
      ]
    },
    {
      "cell_type": "code",
      "execution_count": null,
      "id": "f0eb8ce5",
      "metadata": {
        "id": "f0eb8ce5",
        "outputId": "0a312e39-dab4-4695-ab83-f7a57fcfb714"
      },
      "outputs": [
        {
          "data": {
            "text/plain": [
              "[3, 4, 5, 6, 6]"
            ]
          },
          "execution_count": 49,
          "metadata": {},
          "output_type": "execute_result"
        }
      ],
      "source": [
        "l1"
      ]
    },
    {
      "cell_type": "code",
      "execution_count": null,
      "id": "71dbdb88",
      "metadata": {
        "id": "71dbdb88"
      },
      "outputs": [],
      "source": [
        "l3 = [8,98,34,23,1,0]"
      ]
    },
    {
      "cell_type": "code",
      "execution_count": null,
      "id": "e9df020b",
      "metadata": {
        "id": "e9df020b"
      },
      "outputs": [],
      "source": [
        "l3.sort(reverse= True )"
      ]
    },
    {
      "cell_type": "code",
      "execution_count": null,
      "id": "cb59106d",
      "metadata": {
        "id": "cb59106d",
        "outputId": "0a3a2ae3-ff28-4a01-9f54-a05dad07566b"
      },
      "outputs": [
        {
          "data": {
            "text/plain": [
              "[98, 34, 23, 8, 1, 0]"
            ]
          },
          "execution_count": 54,
          "metadata": {},
          "output_type": "execute_result"
        }
      ],
      "source": [
        "l3"
      ]
    },
    {
      "cell_type": "code",
      "execution_count": null,
      "id": "b74d99fc",
      "metadata": {
        "id": "b74d99fc"
      },
      "outputs": [],
      "source": [
        "l1 = [2,3,4]\n",
        "l2 = [6,7,8]\n",
        "l3 = [3,2,4]"
      ]
    },
    {
      "cell_type": "code",
      "execution_count": null,
      "id": "ccb0aeda",
      "metadata": {
        "id": "ccb0aeda"
      },
      "outputs": [],
      "source": [
        "l4 = [l1,l2,l3]"
      ]
    },
    {
      "cell_type": "code",
      "execution_count": null,
      "id": "f7c18d8b",
      "metadata": {
        "id": "f7c18d8b",
        "outputId": "18a4ba1d-061b-4e1d-c64d-a3d5593f8d2b"
      },
      "outputs": [
        {
          "data": {
            "text/plain": [
              "[[2, 3, 4], [6, 7, 8], [3, 2, 4]]"
            ]
          },
          "execution_count": 57,
          "metadata": {},
          "output_type": "execute_result"
        }
      ],
      "source": [
        "l4"
      ]
    },
    {
      "cell_type": "code",
      "execution_count": null,
      "id": "e3091857",
      "metadata": {
        "id": "e3091857",
        "outputId": "fdef2e02-d56f-4daf-ad21-30e68c16b01a"
      },
      "outputs": [
        {
          "data": {
            "text/plain": [
              "[[2, 3, 4], [6, 7, 8], [3, 2, 4]]"
            ]
          },
          "execution_count": 64,
          "metadata": {},
          "output_type": "execute_result"
        }
      ],
      "source": [
        "l4"
      ]
    },
    {
      "cell_type": "code",
      "execution_count": null,
      "id": "1c71465f",
      "metadata": {
        "id": "1c71465f",
        "outputId": "d38209a6-71fa-45b8-a530-d8ce5708cd80"
      },
      "outputs": [
        {
          "data": {
            "text/plain": [
              "2"
            ]
          },
          "execution_count": 66,
          "metadata": {},
          "output_type": "execute_result"
        }
      ],
      "source": [
        "l4[2][1]"
      ]
    },
    {
      "cell_type": "code",
      "execution_count": null,
      "id": "68c6c66b",
      "metadata": {
        "id": "68c6c66b",
        "outputId": "1def6fa7-d18b-4f91-a42a-0835bc5bf6a0"
      },
      "outputs": [
        {
          "data": {
            "text/plain": [
              "2"
            ]
          },
          "execution_count": 59,
          "metadata": {},
          "output_type": "execute_result"
        }
      ],
      "source": [
        "l4[2][1]"
      ]
    },
    {
      "cell_type": "code",
      "execution_count": null,
      "id": "33febc15",
      "metadata": {
        "id": "33febc15",
        "outputId": "c79a06da-0881-4e6c-8330-225149713696"
      },
      "outputs": [
        {
          "data": {
            "text/plain": [
              "[2, 3, 4, 5, 'sudh', 45.67, True, 'kuamr', [1, 2, 3, 4]]"
            ]
          },
          "execution_count": 60,
          "metadata": {},
          "output_type": "execute_result"
        }
      ],
      "source": [
        "l"
      ]
    },
    {
      "cell_type": "code",
      "execution_count": null,
      "id": "dfefc348",
      "metadata": {
        "id": "dfefc348",
        "outputId": "cf7e30e7-fb92-49b5-cc37-1615eefcd093"
      },
      "outputs": [
        {
          "data": {
            "text/plain": [
              "1"
            ]
          },
          "execution_count": 61,
          "metadata": {},
          "output_type": "execute_result"
        }
      ],
      "source": [
        "l.count(2)"
      ]
    },
    {
      "cell_type": "code",
      "execution_count": null,
      "id": "bbf42cca",
      "metadata": {
        "id": "bbf42cca"
      },
      "outputs": [],
      "source": [
        "l5 = [3,4,5,3,3,3]"
      ]
    },
    {
      "cell_type": "code",
      "execution_count": null,
      "id": "94653c8e",
      "metadata": {
        "id": "94653c8e",
        "outputId": "baa3ab4e-63aa-470a-e44d-7a56e2a7d6c8"
      },
      "outputs": [
        {
          "data": {
            "text/plain": [
              "4"
            ]
          },
          "execution_count": 63,
          "metadata": {},
          "output_type": "execute_result"
        }
      ],
      "source": [
        "l5.count(3)"
      ]
    },
    {
      "cell_type": "code",
      "execution_count": null,
      "id": "15a1b5b8",
      "metadata": {
        "id": "15a1b5b8",
        "outputId": "50c55610-11fb-4a85-d180-aa624763d001"
      },
      "outputs": [
        {
          "data": {
            "text/plain": [
              "0"
            ]
          },
          "execution_count": 67,
          "metadata": {},
          "output_type": "execute_result"
        }
      ],
      "source": [
        "l1=[1,2,3]\n",
        "l2=[4,5,6]\n",
        "l3=[7,8,9]\n",
        "\n",
        "l4=[l1,l2,l3]\n",
        "\n",
        "l4.count(3)\n",
        "\n"
      ]
    },
    {
      "cell_type": "code",
      "execution_count": null,
      "id": "0a2a3d99",
      "metadata": {
        "id": "0a2a3d99",
        "outputId": "4ff3f16a-d97d-4ed9-d235-eda2368d09ac"
      },
      "outputs": [
        {
          "data": {
            "text/plain": [
              "[[1, 2, 3], [4, 5, 6], [7, 8, 9]]"
            ]
          },
          "execution_count": 68,
          "metadata": {},
          "output_type": "execute_result"
        }
      ],
      "source": [
        "l4"
      ]
    },
    {
      "cell_type": "code",
      "execution_count": null,
      "id": "9344afad",
      "metadata": {
        "id": "9344afad",
        "outputId": "8e59f9ad-a84c-40fd-e42b-79267530809b"
      },
      "outputs": [
        {
          "data": {
            "text/plain": [
              "0"
            ]
          },
          "execution_count": 69,
          "metadata": {},
          "output_type": "execute_result"
        }
      ],
      "source": [
        "l4.count(3)"
      ]
    },
    {
      "cell_type": "code",
      "execution_count": null,
      "id": "a67e216c",
      "metadata": {
        "id": "a67e216c",
        "outputId": "52f0e662-8639-428b-837b-3ed467a87931"
      },
      "outputs": [
        {
          "data": {
            "text/plain": [
              "[2, 3, 4, 5, 'sudh', 45.67, True, 'kuamr', [1, 2, 3, 4]]"
            ]
          },
          "execution_count": 70,
          "metadata": {},
          "output_type": "execute_result"
        }
      ],
      "source": [
        "l"
      ]
    },
    {
      "cell_type": "code",
      "execution_count": null,
      "id": "68861420",
      "metadata": {
        "id": "68861420"
      },
      "outputs": [],
      "source": [
        "l.append(\"iNeuron\")"
      ]
    },
    {
      "cell_type": "code",
      "execution_count": null,
      "id": "927a4828",
      "metadata": {
        "id": "927a4828",
        "outputId": "1d085a8b-2fb5-4d6b-dbdd-3170e3769075"
      },
      "outputs": [
        {
          "data": {
            "text/plain": [
              "[2, 3, 4, 5, 'sudh', 45.67, True, 'kuamr', [1, 2, 3, 4], 'iNeuron']"
            ]
          },
          "execution_count": 72,
          "metadata": {},
          "output_type": "execute_result"
        }
      ],
      "source": [
        "l"
      ]
    },
    {
      "cell_type": "code",
      "execution_count": null,
      "id": "de2bbdc9",
      "metadata": {
        "id": "de2bbdc9"
      },
      "outputs": [],
      "source": [
        "l.append([4,56 , \"sudh\"])"
      ]
    },
    {
      "cell_type": "code",
      "execution_count": null,
      "id": "fb235d9c",
      "metadata": {
        "id": "fb235d9c",
        "outputId": "3c38b705-8717-43da-8ebe-42c3f119e579"
      },
      "outputs": [
        {
          "data": {
            "text/plain": [
              "[2,\n",
              " 3,\n",
              " 4,\n",
              " 5,\n",
              " 'sudh',\n",
              " 45.67,\n",
              " True,\n",
              " 'kuamr',\n",
              " [1, 2, 3, 4],\n",
              " 'iNeuron',\n",
              " [4, 56, 'sudh']]"
            ]
          },
          "execution_count": 74,
          "metadata": {},
          "output_type": "execute_result"
        }
      ],
      "source": [
        "l"
      ]
    },
    {
      "cell_type": "code",
      "execution_count": null,
      "id": "9f139029",
      "metadata": {
        "id": "9f139029"
      },
      "outputs": [],
      "source": [
        "l.extend(\"sudh\")"
      ]
    },
    {
      "cell_type": "code",
      "execution_count": null,
      "id": "40c36ad0",
      "metadata": {
        "id": "40c36ad0",
        "outputId": "b6f79c96-79e7-4518-e5d9-801dc90be4ab"
      },
      "outputs": [
        {
          "data": {
            "text/plain": [
              "[2,\n",
              " 3,\n",
              " 4,\n",
              " 5,\n",
              " 'sudh',\n",
              " 45.67,\n",
              " True,\n",
              " 'kuamr',\n",
              " [1, 2, 3, 4],\n",
              " 'iNeuron',\n",
              " [4, 56, 'sudh'],\n",
              " 's',\n",
              " 'u',\n",
              " 'd',\n",
              " 'h']"
            ]
          },
          "execution_count": 76,
          "metadata": {},
          "output_type": "execute_result"
        }
      ],
      "source": [
        "l"
      ]
    },
    {
      "cell_type": "code",
      "execution_count": null,
      "id": "39565fb8",
      "metadata": {
        "id": "39565fb8"
      },
      "outputs": [],
      "source": [
        "l6 = [1,2,3]"
      ]
    },
    {
      "cell_type": "code",
      "execution_count": null,
      "id": "ca802d08",
      "metadata": {
        "id": "ca802d08"
      },
      "outputs": [],
      "source": [
        "l6.append([4,5,6])"
      ]
    },
    {
      "cell_type": "code",
      "execution_count": null,
      "id": "b12a528a",
      "metadata": {
        "id": "b12a528a",
        "outputId": "1eb71903-1859-4214-ce17-953582e63a99"
      },
      "outputs": [
        {
          "data": {
            "text/plain": [
              "[1, 2, 3, [4, 5, 6]]"
            ]
          },
          "execution_count": 79,
          "metadata": {},
          "output_type": "execute_result"
        }
      ],
      "source": [
        "l6"
      ]
    },
    {
      "cell_type": "code",
      "execution_count": null,
      "id": "7388acce",
      "metadata": {
        "id": "7388acce"
      },
      "outputs": [],
      "source": [
        "l6.append(\"sudh\")"
      ]
    },
    {
      "cell_type": "code",
      "execution_count": null,
      "id": "fd0824a0",
      "metadata": {
        "id": "fd0824a0",
        "outputId": "26ea880c-5b10-4feb-d69f-3c6aedc26598"
      },
      "outputs": [
        {
          "data": {
            "text/plain": [
              "[1, 2, 3, [4, 5, 6], 'sudh']"
            ]
          },
          "execution_count": 81,
          "metadata": {},
          "output_type": "execute_result"
        }
      ],
      "source": [
        "l6"
      ]
    },
    {
      "cell_type": "code",
      "execution_count": null,
      "id": "7907cb19",
      "metadata": {
        "id": "7907cb19",
        "outputId": "e360076d-9ce4-4667-a8e5-e4b542b81054"
      },
      "outputs": [
        {
          "ename": "TypeError",
          "evalue": "'int' object is not iterable",
          "output_type": "error",
          "traceback": [
            "\u001b[1;31m---------------------------------------------------------------------------\u001b[0m",
            "\u001b[1;31mTypeError\u001b[0m                                 Traceback (most recent call last)",
            "\u001b[1;32m~\\AppData\\Local\\Temp/ipykernel_28700/3761217359.py\u001b[0m in \u001b[0;36m<module>\u001b[1;34m\u001b[0m\n\u001b[1;32m----> 1\u001b[1;33m \u001b[0ml6\u001b[0m\u001b[1;33m.\u001b[0m\u001b[0mextend\u001b[0m\u001b[1;33m(\u001b[0m\u001b[1;36m45\u001b[0m\u001b[1;33m)\u001b[0m\u001b[1;33m\u001b[0m\u001b[1;33m\u001b[0m\u001b[0m\n\u001b[0m",
            "\u001b[1;31mTypeError\u001b[0m: 'int' object is not iterable"
          ]
        }
      ],
      "source": [
        "l6.extend(45)"
      ]
    },
    {
      "cell_type": "code",
      "execution_count": null,
      "id": "603aba04",
      "metadata": {
        "id": "603aba04"
      },
      "outputs": [],
      "source": [
        "l6.append(45)"
      ]
    },
    {
      "cell_type": "code",
      "execution_count": null,
      "id": "dc698e27",
      "metadata": {
        "id": "dc698e27",
        "outputId": "81536604-c851-4ca2-a627-e0d9bcac1c8c"
      },
      "outputs": [
        {
          "data": {
            "text/plain": [
              "[1, 2, 3, [4, 5, 6], 'sudh', 45]"
            ]
          },
          "execution_count": 84,
          "metadata": {},
          "output_type": "execute_result"
        }
      ],
      "source": [
        "l6"
      ]
    },
    {
      "cell_type": "code",
      "execution_count": null,
      "id": "a662edf7",
      "metadata": {
        "id": "a662edf7"
      },
      "outputs": [],
      "source": [
        "l6.extend([56,34,21])"
      ]
    },
    {
      "cell_type": "code",
      "execution_count": null,
      "id": "01527db6",
      "metadata": {
        "id": "01527db6",
        "outputId": "302438ce-ec96-400d-ffc2-b1a3f776d7c6"
      },
      "outputs": [
        {
          "data": {
            "text/plain": [
              "[1, 2, 3, [4, 5, 6], 'sudh', 45, 56, 34, 21]"
            ]
          },
          "execution_count": 86,
          "metadata": {},
          "output_type": "execute_result"
        }
      ],
      "source": [
        "l6"
      ]
    },
    {
      "cell_type": "code",
      "execution_count": null,
      "id": "f206218d",
      "metadata": {
        "id": "f206218d"
      },
      "outputs": [],
      "source": [
        "l6.extend(\"sudh\")"
      ]
    },
    {
      "cell_type": "code",
      "execution_count": null,
      "id": "1173ec16",
      "metadata": {
        "id": "1173ec16",
        "outputId": "1be157a3-09d3-4030-a2eb-d3bf29782500"
      },
      "outputs": [
        {
          "data": {
            "text/plain": [
              "[1, 2, 3, [4, 5, 6], 'sudh', 45, 56, 34, 21, 's', 'u', 'd', 'h']"
            ]
          },
          "execution_count": 88,
          "metadata": {},
          "output_type": "execute_result"
        }
      ],
      "source": [
        "l6"
      ]
    },
    {
      "cell_type": "code",
      "execution_count": null,
      "id": "4d38b1bd",
      "metadata": {
        "id": "4d38b1bd",
        "outputId": "07c62ac1-7deb-4e84-b06f-8616a7616111"
      },
      "outputs": [
        {
          "data": {
            "text/plain": [
              "[1, 2, 3, [4, 5, 6], 'sudh', 45, 56, 34, 21, 's', 'u', 'd', 'h']"
            ]
          },
          "execution_count": 89,
          "metadata": {},
          "output_type": "execute_result"
        }
      ],
      "source": [
        "l6"
      ]
    },
    {
      "cell_type": "code",
      "execution_count": null,
      "id": "84a62688",
      "metadata": {
        "id": "84a62688",
        "outputId": "d7b162af-e576-4d14-b8fb-df0c13334afb"
      },
      "outputs": [
        {
          "data": {
            "text/plain": [
              "0"
            ]
          },
          "execution_count": 90,
          "metadata": {},
          "output_type": "execute_result"
        }
      ],
      "source": [
        "l6.index(1)"
      ]
    },
    {
      "cell_type": "code",
      "execution_count": null,
      "id": "bcd7b6bc",
      "metadata": {
        "id": "bcd7b6bc"
      },
      "outputs": [],
      "source": [
        "l7  = [1,2,3,4,55,6,6,7]"
      ]
    },
    {
      "cell_type": "code",
      "execution_count": null,
      "id": "543912bd",
      "metadata": {
        "id": "543912bd",
        "outputId": "40e99c2f-776e-4153-bce1-eb6b5cf32fc3"
      },
      "outputs": [
        {
          "data": {
            "text/plain": [
              "5"
            ]
          },
          "execution_count": 92,
          "metadata": {},
          "output_type": "execute_result"
        }
      ],
      "source": [
        "l7.index(6)"
      ]
    },
    {
      "cell_type": "code",
      "execution_count": null,
      "id": "a0bd97b7",
      "metadata": {
        "id": "a0bd97b7"
      },
      "outputs": [],
      "source": [
        "l = [1,2,3,4,5]"
      ]
    },
    {
      "cell_type": "code",
      "execution_count": null,
      "id": "b41b0450",
      "metadata": {
        "id": "b41b0450"
      },
      "outputs": [],
      "source": [
        "l.append(45)"
      ]
    },
    {
      "cell_type": "code",
      "execution_count": null,
      "id": "f806136d",
      "metadata": {
        "id": "f806136d",
        "outputId": "a806d593-533d-4c4c-caad-d40923ca2716"
      },
      "outputs": [
        {
          "data": {
            "text/plain": [
              "[1, 2, 3, 4, 5, 45]"
            ]
          },
          "execution_count": 95,
          "metadata": {},
          "output_type": "execute_result"
        }
      ],
      "source": [
        "l"
      ]
    },
    {
      "cell_type": "code",
      "execution_count": null,
      "id": "8b4bdb4f",
      "metadata": {
        "id": "8b4bdb4f"
      },
      "outputs": [],
      "source": [
        "l.insert(1 , [1,2,34])"
      ]
    },
    {
      "cell_type": "code",
      "execution_count": null,
      "id": "08ef3881",
      "metadata": {
        "id": "08ef3881",
        "outputId": "9c9a3450-58d5-4e5f-e32a-50086a9532a1"
      },
      "outputs": [
        {
          "data": {
            "text/plain": [
              "[1, [1, 2, 34], 2, 3, 4, 5, 45]"
            ]
          },
          "execution_count": 97,
          "metadata": {},
          "output_type": "execute_result"
        }
      ],
      "source": [
        "l"
      ]
    },
    {
      "cell_type": "code",
      "execution_count": null,
      "id": "c9c73ea0",
      "metadata": {
        "id": "c9c73ea0"
      },
      "outputs": [],
      "source": [
        "l.insert(5,\"sudh\")"
      ]
    },
    {
      "cell_type": "code",
      "execution_count": null,
      "id": "4d5fcc67",
      "metadata": {
        "id": "4d5fcc67",
        "outputId": "17d0f793-6358-4dc1-cc90-b3fd4c39f8e0"
      },
      "outputs": [
        {
          "data": {
            "text/plain": [
              "[1, [1, 2, 34], 2, 3, 4, 'sudh', 5, 45]"
            ]
          },
          "execution_count": 99,
          "metadata": {},
          "output_type": "execute_result"
        }
      ],
      "source": [
        "l"
      ]
    },
    {
      "cell_type": "code",
      "execution_count": null,
      "id": "64f41b39",
      "metadata": {
        "id": "64f41b39",
        "outputId": "f56294f6-9c79-432e-d6c7-fb008a3d9093"
      },
      "outputs": [
        {
          "data": {
            "text/plain": [
              "[1, [1, 2, 34], 2, 3, 4, 'sudh', 5, 45]"
            ]
          },
          "execution_count": 100,
          "metadata": {},
          "output_type": "execute_result"
        }
      ],
      "source": [
        "l"
      ]
    },
    {
      "cell_type": "code",
      "execution_count": null,
      "id": "a46aa65d",
      "metadata": {
        "id": "a46aa65d",
        "outputId": "044975e7-e4c9-4707-d827-ab111cab255e"
      },
      "outputs": [
        {
          "data": {
            "text/plain": [
              "45"
            ]
          },
          "execution_count": 101,
          "metadata": {},
          "output_type": "execute_result"
        }
      ],
      "source": [
        "l.pop()"
      ]
    },
    {
      "cell_type": "code",
      "execution_count": null,
      "id": "f7e51b16",
      "metadata": {
        "id": "f7e51b16",
        "outputId": "cdad6d40-63a0-4810-8b13-fd703c3f439e"
      },
      "outputs": [
        {
          "data": {
            "text/plain": [
              "[1, [1, 2, 34], 2, 3, 4, 'sudh', 5]"
            ]
          },
          "execution_count": 102,
          "metadata": {},
          "output_type": "execute_result"
        }
      ],
      "source": [
        "l"
      ]
    },
    {
      "cell_type": "code",
      "execution_count": null,
      "id": "908f4119",
      "metadata": {
        "id": "908f4119",
        "outputId": "f24c3476-98a3-406c-e69d-fb70020a4ee0"
      },
      "outputs": [
        {
          "data": {
            "text/plain": [
              "2"
            ]
          },
          "execution_count": 103,
          "metadata": {},
          "output_type": "execute_result"
        }
      ],
      "source": [
        "l.pop(2)"
      ]
    },
    {
      "cell_type": "code",
      "execution_count": null,
      "id": "31839570",
      "metadata": {
        "id": "31839570",
        "outputId": "4b31f5d2-09b1-4738-9b07-2959ca36d788"
      },
      "outputs": [
        {
          "data": {
            "text/plain": [
              "[1, [1, 2, 34], 3, 4, 'sudh', 5]"
            ]
          },
          "execution_count": 104,
          "metadata": {},
          "output_type": "execute_result"
        }
      ],
      "source": [
        "l"
      ]
    },
    {
      "cell_type": "code",
      "execution_count": null,
      "id": "9b556890",
      "metadata": {
        "id": "9b556890",
        "outputId": "22b908cb-dc7b-4fde-bb51-4a55b23fb352"
      },
      "outputs": [
        {
          "ename": "ValueError",
          "evalue": "list.remove(x): x not in list",
          "output_type": "error",
          "traceback": [
            "\u001b[1;31m---------------------------------------------------------------------------\u001b[0m",
            "\u001b[1;31mValueError\u001b[0m                                Traceback (most recent call last)",
            "\u001b[1;32m~\\AppData\\Local\\Temp/ipykernel_28700/1079903665.py\u001b[0m in \u001b[0;36m<module>\u001b[1;34m\u001b[0m\n\u001b[1;32m----> 1\u001b[1;33m \u001b[0ml\u001b[0m\u001b[1;33m.\u001b[0m\u001b[0mremove\u001b[0m\u001b[1;33m(\u001b[0m\u001b[1;36m100\u001b[0m\u001b[1;33m)\u001b[0m\u001b[1;33m\u001b[0m\u001b[1;33m\u001b[0m\u001b[0m\n\u001b[0m",
            "\u001b[1;31mValueError\u001b[0m: list.remove(x): x not in list"
          ]
        }
      ],
      "source": [
        "l.remove(100)"
      ]
    },
    {
      "cell_type": "code",
      "execution_count": null,
      "id": "8c4c0b2e",
      "metadata": {
        "id": "8c4c0b2e"
      },
      "outputs": [],
      "source": [
        "l.remove(4)"
      ]
    },
    {
      "cell_type": "code",
      "execution_count": null,
      "id": "89b079a3",
      "metadata": {
        "id": "89b079a3",
        "outputId": "de3f0c86-f45a-426c-ff89-1e678aa545be"
      },
      "outputs": [
        {
          "data": {
            "text/plain": [
              "[1, [1, 2, 34], 3, 'sudh', 5]"
            ]
          },
          "execution_count": 108,
          "metadata": {},
          "output_type": "execute_result"
        }
      ],
      "source": [
        "l"
      ]
    },
    {
      "cell_type": "code",
      "execution_count": null,
      "id": "4b3fa07c",
      "metadata": {
        "id": "4b3fa07c"
      },
      "outputs": [],
      "source": [
        "l.remove(3)"
      ]
    },
    {
      "cell_type": "code",
      "execution_count": null,
      "id": "bd896442",
      "metadata": {
        "id": "bd896442",
        "outputId": "df8274d7-0531-40f9-8db7-f4bba95747c9"
      },
      "outputs": [
        {
          "data": {
            "text/plain": [
              "[1, [1, 2, 34], 'sudh', 5]"
            ]
          },
          "execution_count": 110,
          "metadata": {},
          "output_type": "execute_result"
        }
      ],
      "source": [
        "l"
      ]
    },
    {
      "cell_type": "code",
      "execution_count": null,
      "id": "a9d2dbf0",
      "metadata": {
        "id": "a9d2dbf0"
      },
      "outputs": [],
      "source": [
        "l = [1,2,3,4]"
      ]
    },
    {
      "cell_type": "code",
      "execution_count": null,
      "id": "68f3ed3d",
      "metadata": {
        "id": "68f3ed3d"
      },
      "outputs": [],
      "source": [
        "l[2] =\"sudh\""
      ]
    },
    {
      "cell_type": "code",
      "execution_count": null,
      "id": "8ae1745a",
      "metadata": {
        "id": "8ae1745a",
        "outputId": "daa69c3a-959c-4b8d-a4fa-4662e77af3d3"
      },
      "outputs": [
        {
          "data": {
            "text/plain": [
              "[1, 2, 'sudh', 4]"
            ]
          },
          "execution_count": 114,
          "metadata": {},
          "output_type": "execute_result"
        }
      ],
      "source": [
        "l"
      ]
    },
    {
      "cell_type": "code",
      "execution_count": null,
      "id": "ea4b1401",
      "metadata": {
        "id": "ea4b1401"
      },
      "outputs": [],
      "source": [
        "s = \"iNeuron\""
      ]
    },
    {
      "cell_type": "code",
      "execution_count": null,
      "id": "afa749f0",
      "metadata": {
        "id": "afa749f0",
        "outputId": "f01458c3-084c-48dc-abf7-6c9fa6d80dd4"
      },
      "outputs": [
        {
          "ename": "TypeError",
          "evalue": "'str' object does not support item assignment",
          "output_type": "error",
          "traceback": [
            "\u001b[1;31m---------------------------------------------------------------------------\u001b[0m",
            "\u001b[1;31mTypeError\u001b[0m                                 Traceback (most recent call last)",
            "\u001b[1;32m~\\AppData\\Local\\Temp/ipykernel_28700/461640476.py\u001b[0m in \u001b[0;36m<module>\u001b[1;34m\u001b[0m\n\u001b[1;32m----> 1\u001b[1;33m \u001b[0ms\u001b[0m\u001b[1;33m[\u001b[0m\u001b[1;36m2\u001b[0m\u001b[1;33m]\u001b[0m \u001b[1;33m=\u001b[0m \u001b[1;34m'z'\u001b[0m\u001b[1;33m\u001b[0m\u001b[1;33m\u001b[0m\u001b[0m\n\u001b[0m",
            "\u001b[1;31mTypeError\u001b[0m: 'str' object does not support item assignment"
          ]
        }
      ],
      "source": [
        "s[2] = 'z'"
      ]
    },
    {
      "cell_type": "code",
      "execution_count": null,
      "id": "8e53c33c",
      "metadata": {
        "id": "8e53c33c"
      },
      "outputs": [],
      "source": [
        "t = (4,5,6,7,\"sudh\" ,45.67, True)"
      ]
    },
    {
      "cell_type": "code",
      "execution_count": null,
      "id": "d5a64769",
      "metadata": {
        "id": "d5a64769",
        "outputId": "a430de71-4f8f-4ed6-cf12-6b04bb7901fc"
      },
      "outputs": [
        {
          "data": {
            "text/plain": [
              "tuple"
            ]
          },
          "execution_count": 119,
          "metadata": {},
          "output_type": "execute_result"
        }
      ],
      "source": [
        "type(t)"
      ]
    },
    {
      "cell_type": "code",
      "execution_count": null,
      "id": "31b1c5f6",
      "metadata": {
        "id": "31b1c5f6",
        "outputId": "7f121f89-2f88-498e-b3c4-334fa1733836"
      },
      "outputs": [
        {
          "data": {
            "text/plain": [
              "4"
            ]
          },
          "execution_count": 120,
          "metadata": {},
          "output_type": "execute_result"
        }
      ],
      "source": [
        "t[0]"
      ]
    },
    {
      "cell_type": "code",
      "execution_count": null,
      "id": "1dbc0672",
      "metadata": {
        "id": "1dbc0672",
        "outputId": "fdeb3682-5887-45ea-b76e-57496047d3ce"
      },
      "outputs": [
        {
          "data": {
            "text/plain": [
              "(4, 5, 6, 7)"
            ]
          },
          "execution_count": 121,
          "metadata": {},
          "output_type": "execute_result"
        }
      ],
      "source": [
        "t[0:4]"
      ]
    },
    {
      "cell_type": "code",
      "execution_count": null,
      "id": "d4dc0937",
      "metadata": {
        "id": "d4dc0937",
        "outputId": "043e8134-b24b-41e6-ab61-be7c0a45afeb"
      },
      "outputs": [
        {
          "data": {
            "text/plain": [
              "True"
            ]
          },
          "execution_count": 122,
          "metadata": {},
          "output_type": "execute_result"
        }
      ],
      "source": [
        "t[-1]"
      ]
    },
    {
      "cell_type": "code",
      "execution_count": null,
      "id": "56772e1f",
      "metadata": {
        "id": "56772e1f",
        "outputId": "79a855a4-e24f-4099-b053-d3e5ae4dea51"
      },
      "outputs": [
        {
          "data": {
            "text/plain": [
              "(4, 5, 6, 7, 'sudh', 45.67, True)"
            ]
          },
          "execution_count": 123,
          "metadata": {},
          "output_type": "execute_result"
        }
      ],
      "source": [
        "t"
      ]
    },
    {
      "cell_type": "code",
      "execution_count": null,
      "id": "a00177b9",
      "metadata": {
        "id": "a00177b9",
        "outputId": "8bf6eaee-9a53-42d7-ac7c-1f7ad24cb600"
      },
      "outputs": [
        {
          "data": {
            "text/plain": [
              "(4, 6, 'sudh')"
            ]
          },
          "execution_count": 124,
          "metadata": {},
          "output_type": "execute_result"
        }
      ],
      "source": [
        "t[0:6:2]"
      ]
    },
    {
      "cell_type": "code",
      "execution_count": null,
      "id": "f2ce9d69",
      "metadata": {
        "id": "f2ce9d69",
        "outputId": "c51b8270-e838-44d4-b598-18c17d8a26a1"
      },
      "outputs": [
        {
          "data": {
            "text/plain": [
              "()"
            ]
          },
          "execution_count": 125,
          "metadata": {},
          "output_type": "execute_result"
        }
      ],
      "source": [
        "t[0:4:-1]"
      ]
    },
    {
      "cell_type": "code",
      "execution_count": null,
      "id": "bae4cfcd",
      "metadata": {
        "id": "bae4cfcd"
      },
      "outputs": [],
      "source": [
        "l = [1,2,3,456,78]"
      ]
    },
    {
      "cell_type": "code",
      "execution_count": null,
      "id": "2e918dea",
      "metadata": {
        "id": "2e918dea"
      },
      "outputs": [],
      "source": [
        "l[2] = \"kumar\""
      ]
    },
    {
      "cell_type": "code",
      "execution_count": null,
      "id": "e3eab494",
      "metadata": {
        "id": "e3eab494",
        "outputId": "0c3a1974-7cbb-4c67-a77a-6f2e4ea28afa"
      },
      "outputs": [
        {
          "data": {
            "text/plain": [
              "[1, 2, 'kumar', 456, 78]"
            ]
          },
          "execution_count": 129,
          "metadata": {},
          "output_type": "execute_result"
        }
      ],
      "source": [
        "l"
      ]
    },
    {
      "cell_type": "code",
      "execution_count": null,
      "id": "1167cccd",
      "metadata": {
        "id": "1167cccd",
        "outputId": "846e058e-3da5-49da-fe64-1f89dea1f325"
      },
      "outputs": [
        {
          "data": {
            "text/plain": [
              "(4, 5, 6, 7, 'sudh', 45.67, True)"
            ]
          },
          "execution_count": 130,
          "metadata": {},
          "output_type": "execute_result"
        }
      ],
      "source": [
        "t"
      ]
    },
    {
      "cell_type": "code",
      "execution_count": null,
      "id": "9473ba71",
      "metadata": {
        "id": "9473ba71",
        "outputId": "efc30d95-0dbc-4479-b5ac-a4376afb0402"
      },
      "outputs": [
        {
          "ename": "TypeError",
          "evalue": "'tuple' object does not support item assignment",
          "output_type": "error",
          "traceback": [
            "\u001b[1;31m---------------------------------------------------------------------------\u001b[0m",
            "\u001b[1;31mTypeError\u001b[0m                                 Traceback (most recent call last)",
            "\u001b[1;32m~\\AppData\\Local\\Temp/ipykernel_28700/2030672768.py\u001b[0m in \u001b[0;36m<module>\u001b[1;34m\u001b[0m\n\u001b[1;32m----> 1\u001b[1;33m \u001b[0mt\u001b[0m\u001b[1;33m[\u001b[0m\u001b[1;36m2\u001b[0m\u001b[1;33m]\u001b[0m \u001b[1;33m=\u001b[0m \u001b[1;34m\"sudh\"\u001b[0m\u001b[1;33m\u001b[0m\u001b[1;33m\u001b[0m\u001b[0m\n\u001b[0m",
            "\u001b[1;31mTypeError\u001b[0m: 'tuple' object does not support item assignment"
          ]
        }
      ],
      "source": [
        "t[2] = \"sudh\""
      ]
    },
    {
      "cell_type": "code",
      "execution_count": null,
      "id": "9839bd9a",
      "metadata": {
        "id": "9839bd9a"
      },
      "outputs": [],
      "source": [
        "t1 = (3,4,5,6)"
      ]
    },
    {
      "cell_type": "code",
      "execution_count": null,
      "id": "435af40a",
      "metadata": {
        "id": "435af40a",
        "outputId": "3dfbc92d-01e2-4bb2-918c-a48e621e7189"
      },
      "outputs": [
        {
          "data": {
            "text/plain": [
              "(4, 5, 6, 7, 'sudh', 45.67, True)"
            ]
          },
          "execution_count": 134,
          "metadata": {},
          "output_type": "execute_result"
        }
      ],
      "source": [
        "t"
      ]
    },
    {
      "cell_type": "code",
      "execution_count": null,
      "id": "297d63ce",
      "metadata": {
        "id": "297d63ce",
        "outputId": "b218124a-035e-4248-88a4-c02938809973"
      },
      "outputs": [
        {
          "data": {
            "text/plain": [
              "(4, 5, 6, 7, 'sudh', 45.67, True, 3, 4, 5, 6)"
            ]
          },
          "execution_count": 135,
          "metadata": {},
          "output_type": "execute_result"
        }
      ],
      "source": [
        "t +t1"
      ]
    },
    {
      "cell_type": "code",
      "execution_count": null,
      "id": "652e2a70",
      "metadata": {
        "id": "652e2a70",
        "outputId": "020a985b-bae6-43ac-fa31-b49bdd62f709"
      },
      "outputs": [
        {
          "data": {
            "text/plain": [
              "0"
            ]
          },
          "execution_count": 136,
          "metadata": {},
          "output_type": "execute_result"
        }
      ],
      "source": [
        "t.count(3)"
      ]
    },
    {
      "cell_type": "code",
      "execution_count": null,
      "id": "79f9ddd9",
      "metadata": {
        "id": "79f9ddd9",
        "outputId": "e16669d9-a70c-4884-9427-af04953503ec"
      },
      "outputs": [
        {
          "data": {
            "text/plain": [
              "1"
            ]
          },
          "execution_count": 138,
          "metadata": {},
          "output_type": "execute_result"
        }
      ],
      "source": [
        "t.count(4)"
      ]
    },
    {
      "cell_type": "code",
      "execution_count": null,
      "id": "7fa78fcb",
      "metadata": {
        "id": "7fa78fcb",
        "outputId": "d14ef05f-4032-402a-e70b-a6b1849a86f4"
      },
      "outputs": [
        {
          "data": {
            "text/plain": [
              "1"
            ]
          },
          "execution_count": 141,
          "metadata": {},
          "output_type": "execute_result"
        }
      ],
      "source": [
        "t.index(5)"
      ]
    },
    {
      "cell_type": "code",
      "execution_count": null,
      "id": "1cb27098",
      "metadata": {
        "id": "1cb27098"
      },
      "outputs": [],
      "source": [
        "t = t+t1"
      ]
    },
    {
      "cell_type": "code",
      "execution_count": null,
      "id": "97631a5a",
      "metadata": {
        "id": "97631a5a",
        "outputId": "ba29704f-0a40-4b5e-adbf-2378cf5ebfa5"
      },
      "outputs": [
        {
          "data": {
            "text/plain": [
              "(4, 5, 6, 7, 'sudh', 45.67, True, 3, 4, 5, 6)"
            ]
          },
          "execution_count": 140,
          "metadata": {},
          "output_type": "execute_result"
        }
      ],
      "source": [
        "t"
      ]
    },
    {
      "cell_type": "code",
      "execution_count": null,
      "id": "bb941cde",
      "metadata": {
        "id": "bb941cde"
      },
      "outputs": [],
      "source": [
        "t = (3,4,56,7, \"sudh\")"
      ]
    },
    {
      "cell_type": "code",
      "execution_count": null,
      "id": "c067bd42",
      "metadata": {
        "id": "c067bd42"
      },
      "outputs": [],
      "source": [
        "t2 = list(t)"
      ]
    },
    {
      "cell_type": "code",
      "execution_count": null,
      "id": "aad7caf8",
      "metadata": {
        "id": "aad7caf8",
        "outputId": "fd0c344a-abe2-4622-aecf-f0f2f113234f"
      },
      "outputs": [
        {
          "data": {
            "text/plain": [
              "[3, 4, 56, 7, 'sudh']"
            ]
          },
          "execution_count": 145,
          "metadata": {},
          "output_type": "execute_result"
        }
      ],
      "source": [
        "t2"
      ]
    },
    {
      "cell_type": "code",
      "execution_count": null,
      "id": "b6f65bb5",
      "metadata": {
        "id": "b6f65bb5",
        "outputId": "bf5b9d73-d6eb-4795-81ed-227e4289f681"
      },
      "outputs": [
        {
          "data": {
            "text/plain": [
              "(3, 4, 56, 7, 'sudh')"
            ]
          },
          "execution_count": 146,
          "metadata": {},
          "output_type": "execute_result"
        }
      ],
      "source": [
        "tuple(t2)"
      ]
    },
    {
      "cell_type": "code",
      "execution_count": null,
      "id": "4a8ae1c8",
      "metadata": {
        "id": "4a8ae1c8",
        "outputId": "6898d00a-7be2-48da-9552-05718bed6f22"
      },
      "outputs": [
        {
          "data": {
            "text/plain": [
              "\"[3, 4, 56, 7, 'sudh']\""
            ]
          },
          "execution_count": 147,
          "metadata": {},
          "output_type": "execute_result"
        }
      ],
      "source": [
        "str(t2)"
      ]
    },
    {
      "cell_type": "code",
      "execution_count": null,
      "id": "f94734a8",
      "metadata": {
        "id": "f94734a8"
      },
      "outputs": [],
      "source": [
        "d = {}"
      ]
    },
    {
      "cell_type": "code",
      "execution_count": null,
      "id": "ab59b7e6",
      "metadata": {
        "id": "ab59b7e6",
        "outputId": "f66fb46c-4c70-4cdc-8f4f-8f5bae63f91c"
      },
      "outputs": [
        {
          "data": {
            "text/plain": [
              "dict"
            ]
          },
          "execution_count": 151,
          "metadata": {},
          "output_type": "execute_result"
        }
      ],
      "source": [
        "type(d)"
      ]
    },
    {
      "cell_type": "code",
      "execution_count": null,
      "id": "91d49265",
      "metadata": {
        "id": "91d49265"
      },
      "outputs": [],
      "source": [
        "d1 = {1}"
      ]
    },
    {
      "cell_type": "code",
      "execution_count": null,
      "id": "bcdb9c91",
      "metadata": {
        "id": "bcdb9c91",
        "outputId": "1974b944-693d-4732-879a-83af7b630d26"
      },
      "outputs": [
        {
          "data": {
            "text/plain": [
              "set"
            ]
          },
          "execution_count": 153,
          "metadata": {},
          "output_type": "execute_result"
        }
      ],
      "source": [
        "type(d1)"
      ]
    },
    {
      "cell_type": "code",
      "execution_count": null,
      "id": "64f5415c",
      "metadata": {
        "id": "64f5415c"
      },
      "outputs": [],
      "source": [
        "d2 = { 'key1' : \"value\"  , 234 : \"xyz\" , \"name\" : \"sudh\" , \"no\" : 34324345 }"
      ]
    },
    {
      "cell_type": "code",
      "execution_count": null,
      "id": "06836918",
      "metadata": {
        "id": "06836918",
        "outputId": "709e757e-ed98-4d76-e523-87763c41010f"
      },
      "outputs": [
        {
          "data": {
            "text/plain": [
              "dict"
            ]
          },
          "execution_count": 157,
          "metadata": {},
          "output_type": "execute_result"
        }
      ],
      "source": [
        "type(d2)"
      ]
    },
    {
      "cell_type": "code",
      "execution_count": null,
      "id": "c5c796b8",
      "metadata": {
        "id": "c5c796b8",
        "outputId": "ab5dda38-1d13-411a-d7c6-1ae0c36f39de"
      },
      "outputs": [
        {
          "data": {
            "text/plain": [
              "'sudh'"
            ]
          },
          "execution_count": 158,
          "metadata": {},
          "output_type": "execute_result"
        }
      ],
      "source": [
        "d2['name']"
      ]
    },
    {
      "cell_type": "code",
      "execution_count": null,
      "id": "5a5e8f3f",
      "metadata": {
        "id": "5a5e8f3f",
        "outputId": "57ac89a7-5c5e-458c-a276-97040288bf8b"
      },
      "outputs": [
        {
          "data": {
            "text/plain": [
              "34324345"
            ]
          },
          "execution_count": 159,
          "metadata": {},
          "output_type": "execute_result"
        }
      ],
      "source": [
        "d2['no']"
      ]
    },
    {
      "cell_type": "code",
      "execution_count": null,
      "id": "cacf47c4",
      "metadata": {
        "id": "cacf47c4"
      },
      "outputs": [],
      "source": [
        "d3 = {'name': \"sudh\" , 'tech' :[\"python\" , \"ML\" , \"DL\" , \"NLP\",\"CV\" , \"Big data\" , \"data analytics\"]}"
      ]
    },
    {
      "cell_type": "code",
      "execution_count": null,
      "id": "4f178d36",
      "metadata": {
        "id": "4f178d36",
        "outputId": "e38723b4-7236-47d6-f72d-a49761e4fa03"
      },
      "outputs": [
        {
          "data": {
            "text/plain": [
              "{'name': 'sudh',\n",
              " 'tech': ['python', 'ML', 'DL', 'NLP', 'CV', 'Big data', 'data analytics']}"
            ]
          },
          "execution_count": 161,
          "metadata": {},
          "output_type": "execute_result"
        }
      ],
      "source": [
        "d3"
      ]
    },
    {
      "cell_type": "code",
      "execution_count": null,
      "id": "568e6fb3",
      "metadata": {
        "id": "568e6fb3",
        "outputId": "803f364c-dccb-4b5f-e73e-17c1f01c0146"
      },
      "outputs": [
        {
          "data": {
            "text/plain": [
              "True"
            ]
          },
          "execution_count": 164,
          "metadata": {},
          "output_type": "execute_result"
        }
      ],
      "source": [
        "\"python\" in d3['tech']"
      ]
    },
    {
      "cell_type": "code",
      "execution_count": null,
      "id": "58048098",
      "metadata": {
        "id": "58048098"
      },
      "outputs": [],
      "source": [
        "d4 = {\"name\" :\"iNeuron\" , \"contact_info\" : 345345 , \"name\":\"sudh\"}"
      ]
    },
    {
      "cell_type": "code",
      "execution_count": null,
      "id": "4798b515",
      "metadata": {
        "id": "4798b515",
        "outputId": "3752a9a5-2540-46f0-f039-d56ac8c5bbd4"
      },
      "outputs": [
        {
          "data": {
            "text/plain": [
              "{'name': 'sudh', 'contact_info': 345345}"
            ]
          },
          "execution_count": 166,
          "metadata": {},
          "output_type": "execute_result"
        }
      ],
      "source": [
        "d4"
      ]
    },
    {
      "cell_type": "code",
      "execution_count": null,
      "id": "8de717f3",
      "metadata": {
        "id": "8de717f3"
      },
      "outputs": [],
      "source": [
        "d4[\"name1\"] = \"xyz\""
      ]
    },
    {
      "cell_type": "code",
      "execution_count": null,
      "id": "18345078",
      "metadata": {
        "id": "18345078",
        "outputId": "aafff770-0efc-4c28-da2e-87ee59c8bc1b"
      },
      "outputs": [
        {
          "data": {
            "text/plain": [
              "{'name': 'xyz', 'contact_info': 345345, 'k1': 'xyz', 'name1': 'xyz'}"
            ]
          },
          "execution_count": 172,
          "metadata": {},
          "output_type": "execute_result"
        }
      ],
      "source": [
        "d4"
      ]
    },
    {
      "cell_type": "code",
      "execution_count": null,
      "id": "6dafbc0e",
      "metadata": {
        "id": "6dafbc0e"
      },
      "outputs": [],
      "source": [
        "d4['k2'] = d2"
      ]
    },
    {
      "cell_type": "code",
      "execution_count": null,
      "id": "78e6782e",
      "metadata": {
        "id": "78e6782e",
        "outputId": "9e7ca8a8-650d-425e-fcfa-1c95e9d76b36"
      },
      "outputs": [
        {
          "data": {
            "text/plain": [
              "{'key1': 'value', 234: 'xyz', 'name': 'sudh', 'no': 34324345}"
            ]
          },
          "execution_count": 173,
          "metadata": {},
          "output_type": "execute_result"
        }
      ],
      "source": [
        "d2"
      ]
    },
    {
      "cell_type": "code",
      "execution_count": null,
      "id": "9d72711b",
      "metadata": {
        "id": "9d72711b",
        "outputId": "91f07642-8a02-436d-de7f-42d98ebf59be"
      },
      "outputs": [
        {
          "data": {
            "text/plain": [
              "{'name': 'xyz',\n",
              " 'contact_info': 345345,\n",
              " 'k1': 'xyz',\n",
              " 'name1': 'xyz',\n",
              " 'k2': {'key1': 'value', 234: 'xyz', 'name': 'sudh', 'no': 34324345}}"
            ]
          },
          "execution_count": 175,
          "metadata": {},
          "output_type": "execute_result"
        }
      ],
      "source": [
        "d4"
      ]
    },
    {
      "cell_type": "code",
      "execution_count": null,
      "id": "d533f35f",
      "metadata": {
        "id": "d533f35f",
        "outputId": "04f61bf0-19b0-4658-dd38-8c71b2b6854d"
      },
      "outputs": [
        {
          "data": {
            "text/plain": [
              "34324345"
            ]
          },
          "execution_count": 177,
          "metadata": {},
          "output_type": "execute_result"
        }
      ],
      "source": [
        "d4['k2']['no']"
      ]
    },
    {
      "cell_type": "code",
      "execution_count": null,
      "id": "6d5c805b",
      "metadata": {
        "id": "6d5c805b"
      },
      "outputs": [],
      "source": [
        "d5 = {_: \"sdfsd\"}"
      ]
    },
    {
      "cell_type": "code",
      "execution_count": null,
      "id": "142487c7",
      "metadata": {
        "id": "142487c7",
        "outputId": "6e71af0b-2cea-4be2-c408-1cb22f4c130a"
      },
      "outputs": [
        {
          "data": {
            "text/plain": [
              "'sdfsd'"
            ]
          },
          "execution_count": 180,
          "metadata": {},
          "output_type": "execute_result"
        }
      ],
      "source": [
        "d5[_]"
      ]
    },
    {
      "cell_type": "code",
      "execution_count": null,
      "id": "31fb366d",
      "metadata": {
        "id": "31fb366d"
      },
      "outputs": [],
      "source": [
        "d6 = {(1,2,34) : \"fsdfs\"}"
      ]
    },
    {
      "cell_type": "code",
      "execution_count": null,
      "id": "f271ffa3",
      "metadata": {
        "id": "f271ffa3",
        "outputId": "27dde17d-1837-42a7-dad8-5274dc9795b1"
      },
      "outputs": [
        {
          "data": {
            "text/plain": [
              "'fsdfs'"
            ]
          },
          "execution_count": 182,
          "metadata": {},
          "output_type": "execute_result"
        }
      ],
      "source": [
        "d6[(1,2,34)]"
      ]
    },
    {
      "cell_type": "code",
      "execution_count": null,
      "id": "12d88c93",
      "metadata": {
        "id": "12d88c93",
        "outputId": "5d226d17-3862-4a40-f676-59d823e1c37d"
      },
      "outputs": [
        {
          "ename": "TypeError",
          "evalue": "unhashable type: 'list'",
          "output_type": "error",
          "traceback": [
            "\u001b[1;31m---------------------------------------------------------------------------\u001b[0m",
            "\u001b[1;31mTypeError\u001b[0m                                 Traceback (most recent call last)",
            "\u001b[1;32m~\\AppData\\Local\\Temp/ipykernel_28700/3610375228.py\u001b[0m in \u001b[0;36m<module>\u001b[1;34m\u001b[0m\n\u001b[1;32m----> 1\u001b[1;33m \u001b[0md7\u001b[0m \u001b[1;33m=\u001b[0m \u001b[1;33m{\u001b[0m\u001b[1;33m[\u001b[0m\u001b[1;36m1\u001b[0m\u001b[1;33m,\u001b[0m\u001b[1;36m2\u001b[0m\u001b[1;33m,\u001b[0m\u001b[1;36m3\u001b[0m\u001b[1;33m,\u001b[0m\u001b[1;36m4\u001b[0m\u001b[1;33m]\u001b[0m \u001b[1;33m:\u001b[0m \u001b[1;34m\"fasdfasfas\"\u001b[0m\u001b[1;33m}\u001b[0m\u001b[1;33m\u001b[0m\u001b[1;33m\u001b[0m\u001b[0m\n\u001b[0m",
            "\u001b[1;31mTypeError\u001b[0m: unhashable type: 'list'"
          ]
        }
      ],
      "source": [
        "d7 = {[1,2,3,4] : \"fasdfasfas\"}"
      ]
    },
    {
      "cell_type": "code",
      "execution_count": null,
      "id": "104ede11",
      "metadata": {
        "id": "104ede11",
        "outputId": "ca9eef65-474e-40e2-d7bd-d364e1cfc8e3"
      },
      "outputs": [
        {
          "ename": "TypeError",
          "evalue": "unhashable type: 'dict'",
          "output_type": "error",
          "traceback": [
            "\u001b[1;31m---------------------------------------------------------------------------\u001b[0m",
            "\u001b[1;31mTypeError\u001b[0m                                 Traceback (most recent call last)",
            "\u001b[1;32m~\\AppData\\Local\\Temp/ipykernel_28700/2992907961.py\u001b[0m in \u001b[0;36m<module>\u001b[1;34m\u001b[0m\n\u001b[1;32m----> 1\u001b[1;33m \u001b[0md8\u001b[0m \u001b[1;33m=\u001b[0m \u001b[1;33m{\u001b[0m\u001b[1;33m{\u001b[0m\u001b[1;36m3\u001b[0m\u001b[1;33m:\u001b[0m\u001b[1;36m4\u001b[0m\u001b[1;33m}\u001b[0m \u001b[1;33m:\u001b[0m \u001b[1;34m\"fsdfs\"\u001b[0m\u001b[1;33m}\u001b[0m\u001b[1;33m\u001b[0m\u001b[1;33m\u001b[0m\u001b[0m\n\u001b[0m",
            "\u001b[1;31mTypeError\u001b[0m: unhashable type: 'dict'"
          ]
        }
      ],
      "source": [
        "d8 = {{3:4} : \"fsdfs\"}"
      ]
    },
    {
      "cell_type": "code",
      "execution_count": null,
      "id": "8c830654",
      "metadata": {
        "id": "8c830654",
        "outputId": "aed81023-180f-4149-8952-27d2146e50c3"
      },
      "outputs": [
        {
          "data": {
            "text/plain": [
              "{'key1': 'value', 234: 'xyz', 'name': 'sudh', 'no': 34324345}"
            ]
          },
          "execution_count": 186,
          "metadata": {},
          "output_type": "execute_result"
        }
      ],
      "source": [
        "d2"
      ]
    },
    {
      "cell_type": "code",
      "execution_count": null,
      "id": "8e4d10b2",
      "metadata": {
        "id": "8e4d10b2",
        "outputId": "d23e887b-0cba-4f17-ee15-4ee85746db1d"
      },
      "outputs": [
        {
          "data": {
            "text/plain": [
              "{'key1': 'value', 234: 'xyz', 'name': 'sudh', 'no': 34324345}"
            ]
          },
          "execution_count": 187,
          "metadata": {},
          "output_type": "execute_result"
        }
      ],
      "source": [
        "d2"
      ]
    },
    {
      "cell_type": "code",
      "execution_count": null,
      "id": "ffe45689",
      "metadata": {
        "id": "ffe45689",
        "outputId": "b214e8c4-777b-4c9e-b5b0-f4dbcbccda79"
      },
      "outputs": [
        {
          "data": {
            "text/plain": [
              "{'name': 'sudh',\n",
              " 'tech': ['python', 'ML', 'DL', 'NLP', 'CV', 'Big data', 'data analytics']}"
            ]
          },
          "execution_count": 188,
          "metadata": {},
          "output_type": "execute_result"
        }
      ],
      "source": [
        "d3"
      ]
    },
    {
      "cell_type": "code",
      "execution_count": null,
      "id": "91d8669f",
      "metadata": {
        "id": "91d8669f",
        "outputId": "0c3821cf-00e2-4c9d-b801-d49d268fe938"
      },
      "outputs": [
        {
          "ename": "TypeError",
          "evalue": "unsupported operand type(s) for +: 'dict' and 'dict'",
          "output_type": "error",
          "traceback": [
            "\u001b[1;31m---------------------------------------------------------------------------\u001b[0m",
            "\u001b[1;31mTypeError\u001b[0m                                 Traceback (most recent call last)",
            "\u001b[1;32m~\\AppData\\Local\\Temp/ipykernel_28700/1153330958.py\u001b[0m in \u001b[0;36m<module>\u001b[1;34m\u001b[0m\n\u001b[1;32m----> 1\u001b[1;33m \u001b[0md2\u001b[0m \u001b[1;33m+\u001b[0m\u001b[0md3\u001b[0m\u001b[1;33m\u001b[0m\u001b[1;33m\u001b[0m\u001b[0m\n\u001b[0m",
            "\u001b[1;31mTypeError\u001b[0m: unsupported operand type(s) for +: 'dict' and 'dict'"
          ]
        }
      ],
      "source": [
        "d2 +d3"
      ]
    },
    {
      "cell_type": "code",
      "execution_count": null,
      "id": "578323f7",
      "metadata": {
        "id": "578323f7",
        "outputId": "aa0de1d4-4c79-47fe-d523-ce08759f3f8e"
      },
      "outputs": [
        {
          "data": {
            "text/plain": [
              "{'key1': 'value', 234: 'xyz', 'name': 'sudh', 'no': 34324345}"
            ]
          },
          "execution_count": 190,
          "metadata": {},
          "output_type": "execute_result"
        }
      ],
      "source": [
        "d2"
      ]
    },
    {
      "cell_type": "code",
      "execution_count": null,
      "id": "106267a3",
      "metadata": {
        "id": "106267a3",
        "outputId": "fe5726fb-722a-4ebb-e30a-2cfb8e6e6e69"
      },
      "outputs": [
        {
          "data": {
            "text/plain": [
              "dict_keys(['key1', 234, 'name', 'no'])"
            ]
          },
          "execution_count": 192,
          "metadata": {},
          "output_type": "execute_result"
        }
      ],
      "source": [
        "d2.keys()"
      ]
    },
    {
      "cell_type": "code",
      "execution_count": null,
      "id": "27a9df33",
      "metadata": {
        "id": "27a9df33",
        "outputId": "e5bf80d5-2ba7-46eb-e7e0-f112050989c4"
      },
      "outputs": [
        {
          "data": {
            "text/plain": [
              "dict_values(['value', 'xyz', 'sudh', 34324345])"
            ]
          },
          "execution_count": 193,
          "metadata": {},
          "output_type": "execute_result"
        }
      ],
      "source": [
        "d2.values()"
      ]
    },
    {
      "cell_type": "code",
      "execution_count": null,
      "id": "7e55f5cc",
      "metadata": {
        "id": "7e55f5cc",
        "outputId": "d7d30267-b923-40db-e84b-116c99e2ce21"
      },
      "outputs": [
        {
          "data": {
            "text/plain": [
              "dict_items([('key1', 'value'), (234, 'xyz'), ('name', 'sudh'), ('no', 34324345)])"
            ]
          },
          "execution_count": 194,
          "metadata": {},
          "output_type": "execute_result"
        }
      ],
      "source": [
        "d2.items()"
      ]
    },
    {
      "cell_type": "code",
      "execution_count": null,
      "id": "5e99acaf",
      "metadata": {
        "id": "5e99acaf"
      },
      "outputs": [],
      "source": [
        "s = {3,4,5,6,7,8}"
      ]
    },
    {
      "cell_type": "code",
      "execution_count": null,
      "id": "e4a109b4",
      "metadata": {
        "id": "e4a109b4",
        "outputId": "9ec14860-ae24-4137-b515-11a4ee0581b5"
      },
      "outputs": [
        {
          "data": {
            "text/plain": [
              "set"
            ]
          },
          "execution_count": 196,
          "metadata": {},
          "output_type": "execute_result"
        }
      ],
      "source": [
        "type(s)"
      ]
    },
    {
      "cell_type": "code",
      "execution_count": null,
      "id": "f458842a",
      "metadata": {
        "id": "f458842a"
      },
      "outputs": [],
      "source": [
        "s1 = {3,4,4,5,6,6,7,7,8,8,9,9,0,0,0}"
      ]
    },
    {
      "cell_type": "code",
      "execution_count": null,
      "id": "bade3af3",
      "metadata": {
        "id": "bade3af3",
        "outputId": "bb02827e-bc7c-43df-d770-38beceb8389a"
      },
      "outputs": [
        {
          "data": {
            "text/plain": [
              "{0, 3, 4, 5, 6, 7, 8, 9}"
            ]
          },
          "execution_count": 198,
          "metadata": {},
          "output_type": "execute_result"
        }
      ],
      "source": [
        "s1"
      ]
    },
    {
      "cell_type": "code",
      "execution_count": null,
      "id": "6b5d0bcb",
      "metadata": {
        "id": "6b5d0bcb"
      },
      "outputs": [],
      "source": [
        "s2 = { 3245,4545,6456,5645,675,6234,345}"
      ]
    },
    {
      "cell_type": "code",
      "execution_count": null,
      "id": "1e28b01a",
      "metadata": {
        "id": "1e28b01a",
        "outputId": "f7a59017-0c51-4daa-c5d7-f42793f27ce9"
      },
      "outputs": [
        {
          "data": {
            "text/plain": [
              "{345, 675, 3245, 4545, 5645, 6234, 6456}"
            ]
          },
          "execution_count": 201,
          "metadata": {},
          "output_type": "execute_result"
        }
      ],
      "source": [
        "s2"
      ]
    },
    {
      "cell_type": "code",
      "execution_count": null,
      "id": "29073bac",
      "metadata": {
        "id": "29073bac"
      },
      "outputs": [],
      "source": [
        "s3 = {\"sudh\" , 324,34,12,645,12,5,'b' , '6'}"
      ]
    },
    {
      "cell_type": "code",
      "execution_count": null,
      "id": "82b7b14f",
      "metadata": {
        "id": "82b7b14f",
        "outputId": "75efd3fe-5a8f-4fd7-b392-8da7257ae9a3"
      },
      "outputs": [
        {
          "data": {
            "text/plain": [
              "{12, 324, 34, 5, '6', 645, 'b', 'sudh'}"
            ]
          },
          "execution_count": 203,
          "metadata": {},
          "output_type": "execute_result"
        }
      ],
      "source": [
        "s3"
      ]
    },
    {
      "cell_type": "code",
      "execution_count": null,
      "id": "cb028d0d",
      "metadata": {
        "id": "cb028d0d",
        "outputId": "cbfe5a74-d82c-4297-c369-a76787255d14"
      },
      "outputs": [
        {
          "ename": "TypeError",
          "evalue": "'set' object is not subscriptable",
          "output_type": "error",
          "traceback": [
            "\u001b[1;31m---------------------------------------------------------------------------\u001b[0m",
            "\u001b[1;31mTypeError\u001b[0m                                 Traceback (most recent call last)",
            "\u001b[1;32m~\\AppData\\Local\\Temp/ipykernel_28700/397937684.py\u001b[0m in \u001b[0;36m<module>\u001b[1;34m\u001b[0m\n\u001b[1;32m----> 1\u001b[1;33m \u001b[0ms3\u001b[0m\u001b[1;33m[\u001b[0m\u001b[1;36m0\u001b[0m\u001b[1;33m]\u001b[0m\u001b[1;33m\u001b[0m\u001b[1;33m\u001b[0m\u001b[0m\n\u001b[0m",
            "\u001b[1;31mTypeError\u001b[0m: 'set' object is not subscriptable"
          ]
        }
      ],
      "source": [
        "s3[0]"
      ]
    },
    {
      "cell_type": "code",
      "execution_count": null,
      "id": "77f5a2db",
      "metadata": {
        "id": "77f5a2db",
        "outputId": "9aab3568-dc86-45cb-abc7-458867f6125c"
      },
      "outputs": [
        {
          "data": {
            "text/plain": [
              "['b', 34, 324, 5, 645, '6', 'sudh', 12]"
            ]
          },
          "execution_count": 205,
          "metadata": {},
          "output_type": "execute_result"
        }
      ],
      "source": [
        "list(s3)"
      ]
    },
    {
      "cell_type": "code",
      "execution_count": null,
      "id": "763168c1",
      "metadata": {
        "id": "763168c1",
        "outputId": "0cf9c3b8-6bba-4814-e8fe-6fa147e0fc3e"
      },
      "outputs": [
        {
          "data": {
            "text/plain": [
              "('b', 34, 324, 5, 645, '6', 'sudh', 12)"
            ]
          },
          "execution_count": 206,
          "metadata": {},
          "output_type": "execute_result"
        }
      ],
      "source": [
        "tuple(s3)"
      ]
    },
    {
      "cell_type": "code",
      "execution_count": null,
      "id": "397aad48",
      "metadata": {
        "id": "397aad48"
      },
      "outputs": [],
      "source": [
        " l = [2,3,4,5656,7,6,7,7,7,77,7,7,7,7,7,7,7,7,7,7,7,7,7,7,7,7]"
      ]
    },
    {
      "cell_type": "code",
      "execution_count": null,
      "id": "765debb1",
      "metadata": {
        "id": "765debb1"
      },
      "outputs": [],
      "source": [
        "l = list(set(l))"
      ]
    },
    {
      "cell_type": "code",
      "execution_count": null,
      "id": "e7fe1064",
      "metadata": {
        "id": "e7fe1064",
        "outputId": "1fbad7e5-d72a-429e-8c7d-b272102948bf"
      },
      "outputs": [
        {
          "data": {
            "text/plain": [
              "[2, 3, 4, 6, 7, 77, 5656]"
            ]
          },
          "execution_count": 210,
          "metadata": {},
          "output_type": "execute_result"
        }
      ],
      "source": [
        "l"
      ]
    },
    {
      "cell_type": "code",
      "execution_count": null,
      "id": "d9ed309c",
      "metadata": {
        "id": "d9ed309c",
        "outputId": "2c8b1099-23ab-4c58-bbce-a35055d40e25"
      },
      "outputs": [
        {
          "data": {
            "text/plain": [
              "{345, 675, 3245, 4545, 5645, 6234, 6456}"
            ]
          },
          "execution_count": 211,
          "metadata": {},
          "output_type": "execute_result"
        }
      ],
      "source": [
        "s2"
      ]
    },
    {
      "cell_type": "code",
      "execution_count": null,
      "id": "08082aff",
      "metadata": {
        "id": "08082aff"
      },
      "outputs": [],
      "source": [
        "s2.add(34)"
      ]
    },
    {
      "cell_type": "code",
      "execution_count": null,
      "id": "01783c98",
      "metadata": {
        "id": "01783c98",
        "outputId": "c7a2286c-ee9b-45b5-aaad-27474003a007"
      },
      "outputs": [
        {
          "data": {
            "text/plain": [
              "{34, 345, 675, 3245, 4545, 5645, 6234, 6456}"
            ]
          },
          "execution_count": 213,
          "metadata": {},
          "output_type": "execute_result"
        }
      ],
      "source": [
        "s2"
      ]
    },
    {
      "cell_type": "code",
      "execution_count": null,
      "id": "67f99607",
      "metadata": {
        "id": "67f99607",
        "outputId": "a96cb113-5c35-4196-fe46-badeb54230d3"
      },
      "outputs": [
        {
          "ename": "TypeError",
          "evalue": "unhashable type: 'list'",
          "output_type": "error",
          "traceback": [
            "\u001b[1;31m---------------------------------------------------------------------------\u001b[0m",
            "\u001b[1;31mTypeError\u001b[0m                                 Traceback (most recent call last)",
            "\u001b[1;32m~\\AppData\\Local\\Temp/ipykernel_28700/1499940319.py\u001b[0m in \u001b[0;36m<module>\u001b[1;34m\u001b[0m\n\u001b[1;32m----> 1\u001b[1;33m \u001b[0ms2\u001b[0m\u001b[1;33m.\u001b[0m\u001b[0madd\u001b[0m\u001b[1;33m(\u001b[0m\u001b[1;33m[\u001b[0m\u001b[1;36m1\u001b[0m\u001b[1;33m,\u001b[0m\u001b[1;36m2\u001b[0m\u001b[1;33m,\u001b[0m\u001b[1;36m3\u001b[0m\u001b[1;33m,\u001b[0m\u001b[1;36m4\u001b[0m\u001b[1;33m,\u001b[0m\u001b[1;36m5\u001b[0m\u001b[1;33m]\u001b[0m\u001b[1;33m)\u001b[0m\u001b[1;33m\u001b[0m\u001b[1;33m\u001b[0m\u001b[0m\n\u001b[0m",
            "\u001b[1;31mTypeError\u001b[0m: unhashable type: 'list'"
          ]
        }
      ],
      "source": [
        "s2.add([1,2,3,4,5])"
      ]
    },
    {
      "cell_type": "code",
      "execution_count": null,
      "id": "5cb18521",
      "metadata": {
        "id": "5cb18521"
      },
      "outputs": [],
      "source": [
        "s = {(1,2,3,4,5) , 3,4,45,65,6}"
      ]
    },
    {
      "cell_type": "code",
      "execution_count": null,
      "id": "6f89af80",
      "metadata": {
        "id": "6f89af80",
        "outputId": "3bc10c0f-90c4-4b35-a309-3b65dad3dc48"
      },
      "outputs": [
        {
          "data": {
            "text/plain": [
              "{(1, 2, 3, 4, 5), 3, 4, 45, 6, 65}"
            ]
          },
          "execution_count": 216,
          "metadata": {},
          "output_type": "execute_result"
        }
      ],
      "source": [
        "s"
      ]
    },
    {
      "cell_type": "code",
      "execution_count": null,
      "id": "6605f9c0",
      "metadata": {
        "id": "6605f9c0",
        "outputId": "87d861a9-737e-4cc4-fc32-68e0c05b9f84"
      },
      "outputs": [
        {
          "ename": "TypeError",
          "evalue": "unhashable type: 'list'",
          "output_type": "error",
          "traceback": [
            "\u001b[1;31m---------------------------------------------------------------------------\u001b[0m",
            "\u001b[1;31mTypeError\u001b[0m                                 Traceback (most recent call last)",
            "\u001b[1;32m~\\AppData\\Local\\Temp/ipykernel_28700/1121764547.py\u001b[0m in \u001b[0;36m<module>\u001b[1;34m\u001b[0m\n\u001b[1;32m----> 1\u001b[1;33m \u001b[0ms1\u001b[0m \u001b[1;33m=\u001b[0m \u001b[1;33m{\u001b[0m\u001b[1;33m[\u001b[0m\u001b[1;36m1\u001b[0m\u001b[1;33m,\u001b[0m\u001b[1;36m2\u001b[0m\u001b[1;33m,\u001b[0m\u001b[1;36m3\u001b[0m\u001b[1;33m,\u001b[0m\u001b[1;36m4\u001b[0m\u001b[1;33m]\u001b[0m \u001b[1;33m,\u001b[0m \u001b[1;36m345\u001b[0m \u001b[1;33m,\u001b[0m\u001b[1;36m345\u001b[0m\u001b[1;33m}\u001b[0m\u001b[1;33m\u001b[0m\u001b[1;33m\u001b[0m\u001b[0m\n\u001b[0m",
            "\u001b[1;31mTypeError\u001b[0m: unhashable type: 'list'"
          ]
        }
      ],
      "source": [
        "s1 = {[1,2,3,4] , 345 ,345}"
      ]
    },
    {
      "cell_type": "code",
      "execution_count": null,
      "id": "a7486de5",
      "metadata": {
        "id": "a7486de5",
        "outputId": "daa63d43-2ac5-48a6-c498-94089deb6d0a"
      },
      "outputs": [
        {
          "data": {
            "text/plain": [
              "{(1, 2, 3, 4, 5), 3, 4, 45, 6, 65}"
            ]
          },
          "execution_count": 218,
          "metadata": {},
          "output_type": "execute_result"
        }
      ],
      "source": [
        "s"
      ]
    },
    {
      "cell_type": "code",
      "execution_count": null,
      "id": "6b80fb6c",
      "metadata": {
        "id": "6b80fb6c",
        "outputId": "cd01c9ed-8649-40b4-8ff0-ec81c1055885"
      },
      "outputs": [
        {
          "ename": "KeyError",
          "evalue": "35345",
          "output_type": "error",
          "traceback": [
            "\u001b[1;31m---------------------------------------------------------------------------\u001b[0m",
            "\u001b[1;31mKeyError\u001b[0m                                  Traceback (most recent call last)",
            "\u001b[1;32m~\\AppData\\Local\\Temp/ipykernel_28700/3668842940.py\u001b[0m in \u001b[0;36m<module>\u001b[1;34m\u001b[0m\n\u001b[1;32m----> 1\u001b[1;33m \u001b[0ms\u001b[0m\u001b[1;33m.\u001b[0m\u001b[0mremove\u001b[0m\u001b[1;33m(\u001b[0m\u001b[1;36m35345\u001b[0m\u001b[1;33m)\u001b[0m\u001b[1;33m\u001b[0m\u001b[1;33m\u001b[0m\u001b[0m\n\u001b[0m",
            "\u001b[1;31mKeyError\u001b[0m: 35345"
          ]
        }
      ],
      "source": [
        "s.remove(35345)"
      ]
    },
    {
      "cell_type": "code",
      "execution_count": null,
      "id": "1cfdf0d1",
      "metadata": {
        "id": "1cfdf0d1",
        "outputId": "4eaa4cb6-7352-4d03-fa8e-41e811364576"
      },
      "outputs": [
        {
          "data": {
            "text/plain": [
              "{(1, 2, 3, 4, 5), 4, 45, 6, 65}"
            ]
          },
          "execution_count": 220,
          "metadata": {},
          "output_type": "execute_result"
        }
      ],
      "source": [
        "s"
      ]
    },
    {
      "cell_type": "code",
      "execution_count": null,
      "id": "5f422bcf",
      "metadata": {
        "id": "5f422bcf"
      },
      "outputs": [],
      "source": [
        "s.discard(3452646)"
      ]
    },
    {
      "cell_type": "code",
      "execution_count": null,
      "id": "58d36049",
      "metadata": {
        "id": "58d36049",
        "outputId": "4ebe4684-f86c-483f-902b-9b728e1a6369"
      },
      "outputs": [
        {
          "data": {
            "text/plain": [
              "65"
            ]
          },
          "execution_count": 226,
          "metadata": {},
          "output_type": "execute_result"
        }
      ],
      "source": [
        "s.pop()"
      ]
    },
    {
      "cell_type": "code",
      "execution_count": null,
      "id": "97be1482",
      "metadata": {
        "id": "97be1482",
        "outputId": "6a9d73c3-53ad-4948-ce0e-018c6cdd3caf"
      },
      "outputs": [
        {
          "data": {
            "text/plain": [
              "{(1, 2, 3, 4, 5), 45, 6}"
            ]
          },
          "execution_count": 227,
          "metadata": {},
          "output_type": "execute_result"
        }
      ],
      "source": [
        "s"
      ]
    },
    {
      "cell_type": "code",
      "execution_count": null,
      "id": "b313243a",
      "metadata": {
        "id": "b313243a",
        "outputId": "7dfa937c-c602-4df8-8ae7-ba9d9a9e23be"
      },
      "outputs": [
        {
          "data": {
            "text/plain": [
              "set"
            ]
          },
          "execution_count": 228,
          "metadata": {},
          "output_type": "execute_result"
        }
      ],
      "source": [
        "type(s)"
      ]
    },
    {
      "cell_type": "code",
      "execution_count": null,
      "id": "58558c61",
      "metadata": {
        "id": "58558c61"
      },
      "outputs": [],
      "source": [
        "l = list(s)"
      ]
    },
    {
      "cell_type": "code",
      "execution_count": null,
      "id": "4ebbf5eb",
      "metadata": {
        "id": "4ebbf5eb",
        "outputId": "b6f83850-8b55-4bc4-fdd0-4a611911644e"
      },
      "outputs": [
        {
          "data": {
            "text/plain": [
              "[6, (1, 2, 3, 4, 5), 45]"
            ]
          },
          "execution_count": 231,
          "metadata": {},
          "output_type": "execute_result"
        }
      ],
      "source": [
        "l"
      ]
    },
    {
      "cell_type": "code",
      "execution_count": null,
      "id": "7d81401f",
      "metadata": {
        "id": "7d81401f",
        "outputId": "0159fec6-a88e-4a39-c97e-16d4fe3e5cee"
      },
      "outputs": [
        {
          "data": {
            "text/plain": [
              "{(1, 2, 3, 4, 5), 45, 6}"
            ]
          },
          "execution_count": 232,
          "metadata": {},
          "output_type": "execute_result"
        }
      ],
      "source": [
        "set(l)"
      ]
    },
    {
      "cell_type": "code",
      "execution_count": null,
      "id": "93463c95",
      "metadata": {
        "id": "93463c95"
      },
      "outputs": [],
      "source": [
        ""
      ]
    },
    {
      "cell_type": "code",
      "execution_count": null,
      "id": "97f2fe7e",
      "metadata": {
        "id": "97f2fe7e"
      },
      "outputs": [],
      "source": [
        "str\n",
        "list \n",
        "tuple\n",
        "dict\n",
        "set"
      ]
    },
    {
      "cell_type": "code",
      "execution_count": null,
      "id": "a4c3b614",
      "metadata": {
        "id": "a4c3b614",
        "outputId": "02594a13-7971-4300-980d-82b8e82e6afc"
      },
      "outputs": [
        {
          "data": {
            "text/plain": [
              "{'key1': 'value', 234: 'xyz', 'name': 'sudh', 'no': 34324345}"
            ]
          },
          "execution_count": 234,
          "metadata": {},
          "output_type": "execute_result"
        }
      ],
      "source": [
        "d2"
      ]
    },
    {
      "cell_type": "code",
      "execution_count": null,
      "id": "64e6705d",
      "metadata": {
        "id": "64e6705d"
      },
      "outputs": [],
      "source": [
        "d2[\"key4\"] = \"sdfsf\""
      ]
    },
    {
      "cell_type": "code",
      "execution_count": null,
      "id": "68cd3b00",
      "metadata": {
        "id": "68cd3b00",
        "outputId": "2ba0fed4-7692-4f73-8150-8d87dbf08e1f"
      },
      "outputs": [
        {
          "data": {
            "text/plain": [
              "{'key1': 'value', 234: 'xyz', 'name': 'sudh', 'no': 34324345, 'key4': 'sdfsf'}"
            ]
          },
          "execution_count": 236,
          "metadata": {},
          "output_type": "execute_result"
        }
      ],
      "source": [
        "d2"
      ]
    },
    {
      "cell_type": "code",
      "execution_count": null,
      "id": "560d9678",
      "metadata": {
        "id": "560d9678"
      },
      "outputs": [],
      "source": [
        "d2[\"key1\"]  = \"ineuron\""
      ]
    },
    {
      "cell_type": "code",
      "execution_count": null,
      "id": "9fbd13e1",
      "metadata": {
        "id": "9fbd13e1",
        "outputId": "9a04c958-9d08-4a72-f6b1-7d0d4d0947fa"
      },
      "outputs": [
        {
          "data": {
            "text/plain": [
              "{'key1': 'ineuron',\n",
              " 234: 'xyz',\n",
              " 'name': 'sudh',\n",
              " 'no': 34324345,\n",
              " 'key4': 'sdfsf'}"
            ]
          },
          "execution_count": 238,
          "metadata": {},
          "output_type": "execute_result"
        }
      ],
      "source": [
        "d2"
      ]
    },
    {
      "cell_type": "code",
      "execution_count": null,
      "id": "2f69f179",
      "metadata": {
        "id": "2f69f179"
      },
      "outputs": [],
      "source": [
        "l3.sort(reverse=True) \n"
      ]
    },
    {
      "cell_type": "code",
      "execution_count": null,
      "id": "d6a0cee8",
      "metadata": {
        "id": "d6a0cee8",
        "outputId": "c422f83c-f085-490e-eacc-72f605ad207c"
      },
      "outputs": [
        {
          "data": {
            "text/plain": [
              "[9, 8, 7]"
            ]
          },
          "execution_count": 240,
          "metadata": {},
          "output_type": "execute_result"
        }
      ],
      "source": [
        "l3"
      ]
    },
    {
      "cell_type": "code",
      "execution_count": null,
      "id": "7f943f23",
      "metadata": {
        "id": "7f943f23"
      },
      "outputs": [],
      "source": [
        "#Questions \n",
        "\n",
        "l = [3,4,5,6,7 , [23,456,67,8,78,78] , [345,56,87,8,98,9] , (234,6657,6) , {\"key1\" :\"sudh\" , 234:[23,45,656]}]\n",
        "1 . Try to reverse a list \n",
        "2. try to access 234 out of this list \n",
        "3 . try to access 456 \n",
        "4 . Try to extract only a list collection form list l \n",
        "5 . Try to extract \"sudh\"\n",
        "6 . Try to list all the key in dict element avaible in list \n",
        "7 . Try to extract all the value element form dict available in list "
      ]
    },
    {
      "cell_type": "code",
      "execution_count": null,
      "id": "9200213c",
      "metadata": {
        "id": "9200213c"
      },
      "outputs": [],
      "source": [
        "s = \"surya\"\n",
        "s1 = \"su\""
      ]
    },
    {
      "cell_type": "code",
      "execution_count": null,
      "id": "49a6fc4b",
      "metadata": {
        "id": "49a6fc4b",
        "outputId": "506f3fcc-ed72-45bd-f1c3-e14f4014c467"
      },
      "outputs": [
        {
          "data": {
            "text/plain": [
              "'suryasu'"
            ]
          },
          "execution_count": 242,
          "metadata": {},
          "output_type": "execute_result"
        }
      ],
      "source": [
        "s+s1"
      ]
    },
    {
      "cell_type": "code",
      "execution_count": null,
      "id": "56b07f96",
      "metadata": {
        "id": "56b07f96",
        "outputId": "d10b0468-9795-40b2-dde6-e95bb3831560"
      },
      "outputs": [
        {
          "data": {
            "text/plain": [
              "{'key1': 'ineuron',\n",
              " 234: 'xyz',\n",
              " 'name': 'sudh',\n",
              " 'no': 34324345,\n",
              " 'key4': 'sdfsf'}"
            ]
          },
          "execution_count": 243,
          "metadata": {},
          "output_type": "execute_result"
        }
      ],
      "source": [
        "d2\n"
      ]
    },
    {
      "cell_type": "code",
      "execution_count": null,
      "id": "16a048a3",
      "metadata": {
        "id": "16a048a3",
        "outputId": "89883e08-9cce-4112-b8ff-d585d0d9e27d"
      },
      "outputs": [
        {
          "data": {
            "text/plain": [
              "{'k': None, '1': None}"
            ]
          },
          "execution_count": 245,
          "metadata": {},
          "output_type": "execute_result"
        }
      ],
      "source": [
        "d2.fromkeys(\"k1\")"
      ]
    },
    {
      "cell_type": "code",
      "execution_count": null,
      "id": "e86c7f90",
      "metadata": {
        "id": "e86c7f90"
      },
      "outputs": [],
      "source": [
        "d2['k'] = \"sudh\""
      ]
    },
    {
      "cell_type": "code",
      "execution_count": null,
      "id": "ec5e82db",
      "metadata": {
        "id": "ec5e82db",
        "outputId": "1eb4a119-6ec8-4354-a277-14e069ab2179"
      },
      "outputs": [
        {
          "data": {
            "text/plain": [
              "{'key1': 'ineuron',\n",
              " 234: 'xyz',\n",
              " 'name': 'sudh',\n",
              " 'no': 34324345,\n",
              " 'key4': 'sdfsf',\n",
              " 'k': 'sudh'}"
            ]
          },
          "execution_count": 247,
          "metadata": {},
          "output_type": "execute_result"
        }
      ],
      "source": [
        "d2"
      ]
    },
    {
      "cell_type": "code",
      "execution_count": null,
      "id": "6ad8c275",
      "metadata": {
        "id": "6ad8c275",
        "outputId": "daacea1a-7fb7-431b-e674-ce51ce3ce06d"
      },
      "outputs": [
        {
          "name": "stdout",
          "output_type": "stream",
          "text": [
            "Enter first side of triangle34\n",
            "Enter second side of triangle56\n",
            "Enter third side of triangle34\n",
            "Area of the triangle is,  540.0444426156055\n"
          ]
        }
      ],
      "source": [
        "side1 = float(input(\"Enter first side of triangle\"))\n",
        "side2 = float(input(\"Enter second side of triangle\"))\n",
        "side3 = float(input(\"Enter third side of triangle\"))\n",
        "s = (side1+side2+side3)/2\n",
        "ar = (s*(s-side1)*(s-side2)*(s-side3)) ** 0.5\n",
        "print(\"Area of the triangle is, \", ar)"
      ]
    },
    {
      "cell_type": "code",
      "execution_count": null,
      "id": "332f7e8d",
      "metadata": {
        "id": "332f7e8d"
      },
      "outputs": [],
      "source": [
        "l = [1,2,3,4,5]"
      ]
    },
    {
      "cell_type": "code",
      "execution_count": null,
      "id": "4a8936d5",
      "metadata": {
        "id": "4a8936d5"
      },
      "outputs": [],
      "source": [
        "l.insert(-1 , \"sudh\")"
      ]
    },
    {
      "cell_type": "code",
      "execution_count": null,
      "id": "d5c73400",
      "metadata": {
        "id": "d5c73400",
        "outputId": "c821aee0-4824-43b3-9926-bed5cbd7aaed"
      },
      "outputs": [
        {
          "data": {
            "text/plain": [
              "[1, 2, 3, 4, 'sudh', 5]"
            ]
          },
          "execution_count": 252,
          "metadata": {},
          "output_type": "execute_result"
        }
      ],
      "source": [
        "l"
      ]
    },
    {
      "cell_type": "code",
      "execution_count": null,
      "id": "507c5394",
      "metadata": {
        "id": "507c5394"
      },
      "outputs": [],
      "source": [
        "for i in l:\n",
        "    if type(i)==list:\n",
        "        print(i)\n",
        "    else:\n",
        "        if type(i)==dict:\n",
        "            if type(i.values()==list):\n",
        "                for j in i.values():\n",
        "                    if type(j)==list:\n",
        "                        print(list(j))"
      ]
    },
    {
      "cell_type": "code",
      "execution_count": null,
      "id": "a92567e4",
      "metadata": {
        "id": "a92567e4"
      },
      "outputs": [],
      "source": [
        "d6 = {_ : \"fdsdf\"}"
      ]
    },
    {
      "cell_type": "code",
      "execution_count": null,
      "id": "dd0fe47b",
      "metadata": {
        "id": "dd0fe47b",
        "outputId": "458f471b-5934-4e8f-a709-1a00092da044"
      },
      "outputs": [
        {
          "data": {
            "text/plain": [
              "{'': 'fdsdf'}"
            ]
          },
          "execution_count": 2,
          "metadata": {},
          "output_type": "execute_result"
        }
      ],
      "source": [
        "d6"
      ]
    },
    {
      "cell_type": "code",
      "execution_count": null,
      "id": "5f315ca0",
      "metadata": {
        "id": "5f315ca0"
      },
      "outputs": [],
      "source": [
        "t = ( 4,5,6)"
      ]
    },
    {
      "cell_type": "code",
      "execution_count": null,
      "id": "209d4327",
      "metadata": {
        "id": "209d4327"
      },
      "outputs": [],
      "source": [
        "t1 =( 6 )"
      ]
    },
    {
      "cell_type": "code",
      "execution_count": null,
      "id": "8269c970",
      "metadata": {
        "id": "8269c970",
        "outputId": "795f883e-e964-4390-8239-fc8537e28479"
      },
      "outputs": [
        {
          "data": {
            "text/plain": [
              "int"
            ]
          },
          "execution_count": 6,
          "metadata": {},
          "output_type": "execute_result"
        }
      ],
      "source": [
        "type(t1)"
      ]
    },
    {
      "cell_type": "code",
      "execution_count": null,
      "id": "5e8fca84",
      "metadata": {
        "id": "5e8fca84",
        "outputId": "21a7b27d-b1ab-4908-9e40-74d4dd7cbc73"
      },
      "outputs": [
        {
          "name": "stdout",
          "output_type": "stream",
          "text": [
            "Vishnu\n",
            "{'name': 'Vishnu', 'title': 'Data Analyst', 'course': 'FSDS', 'key1': {...}}\n"
          ]
        }
      ],
      "source": [
        "#Question\n",
        "D_NEW = {'name':'Vishnu','title':'Data Analyst','course':'FSDS'}\n",
        "D_NEW['key1'] = D_NEW\n",
        "print(D_NEW['name'])\n",
        "print(D_NEW['key1'])"
      ]
    },
    {
      "cell_type": "code",
      "execution_count": null,
      "id": "3d3e8a32",
      "metadata": {
        "id": "3d3e8a32",
        "outputId": "3270be41-b34c-414e-bb7d-d5d2d1f7f71d"
      },
      "outputs": [
        {
          "name": "stdout",
          "output_type": "stream",
          "text": [
            "Vishnu\n",
            "{'name': 'Vishnu', 'title': 'Data Analyst', 'course': 'FSDS', 'key1': {...}}\n"
          ]
        }
      ],
      "source": [
        "print(D_NEW['name'])\n",
        "print(D_NEW['key1'])"
      ]
    },
    {
      "cell_type": "code",
      "execution_count": null,
      "id": "c9908776",
      "metadata": {
        "id": "c9908776",
        "outputId": "b9bfbe2d-b208-41f0-e022-eb32dc5fb92f"
      },
      "outputs": [
        {
          "data": {
            "text/plain": [
              "{'name': 'Vishnu', 'title': 'Data Analyst', 'course': 'FSDS', 'key1': {...}}"
            ]
          },
          "execution_count": 10,
          "metadata": {},
          "output_type": "execute_result"
        }
      ],
      "source": [
        "D_NEW"
      ]
    },
    {
      "cell_type": "code",
      "execution_count": null,
      "id": "d267e698",
      "metadata": {
        "id": "d267e698",
        "outputId": "d0436aab-6ed1-46fe-bf30-5fd576e91307"
      },
      "outputs": [
        {
          "data": {
            "text/plain": [
              "list"
            ]
          },
          "execution_count": 11,
          "metadata": {},
          "output_type": "execute_result"
        }
      ],
      "source": [
        "t1=(3,5,67.8,789,'876dfghj')\n",
        "t=t+t1\n",
        "type(t)\n",
        "t.count(3)\n",
        "t2=list(t)\n",
        "t2\n",
        "tuple(t2)\n",
        "str(t2)\n",
        "tuple(t2)\n",
        "type(t2)"
      ]
    },
    {
      "cell_type": "code",
      "execution_count": null,
      "id": "efe61ca0",
      "metadata": {
        "id": "efe61ca0"
      },
      "outputs": [],
      "source": [
        "s = {3,4,5,6,7,7}"
      ]
    },
    {
      "cell_type": "code",
      "execution_count": null,
      "id": "80bedec8",
      "metadata": {
        "id": "80bedec8",
        "outputId": "01363b54-f5c0-4275-fd71-27e1ec76dff6"
      },
      "outputs": [
        {
          "data": {
            "text/plain": [
              "{3, 4, 5, 6, 7}"
            ]
          },
          "execution_count": 14,
          "metadata": {},
          "output_type": "execute_result"
        }
      ],
      "source": [
        "s"
      ]
    },
    {
      "cell_type": "code",
      "execution_count": null,
      "id": "a1e96e0d",
      "metadata": {
        "id": "a1e96e0d",
        "outputId": "fb034f98-5d38-41cf-d876-63cb9cd551c1"
      },
      "outputs": [
        {
          "data": {
            "text/plain": [
              "3"
            ]
          },
          "execution_count": 18,
          "metadata": {},
          "output_type": "execute_result"
        }
      ],
      "source": [
        "list(s)[0]"
      ]
    },
    {
      "cell_type": "code",
      "execution_count": null,
      "id": "43d5ede3",
      "metadata": {
        "id": "43d5ede3",
        "outputId": "0bcd84c8-6344-42d5-a5e9-bbe54a520be2"
      },
      "outputs": [
        {
          "data": {
            "text/plain": [
              "34.57"
            ]
          },
          "execution_count": 19,
          "metadata": {},
          "output_type": "execute_result"
        }
      ],
      "source": [
        "round(34.5656567 , 2)"
      ]
    },
    {
      "cell_type": "code",
      "execution_count": null,
      "id": "c8c4163c",
      "metadata": {
        "id": "c8c4163c"
      },
      "outputs": [],
      "source": [
        "###### MY QUESTIONS #####\n",
        "d4={\"name\":\"iNeuron\", \"contact_info\":34345,\"name\":\"rupe\"}\n",
        "d4['loc']='Calgary'\n",
        "d4['check'] = d4\n",
        "#### LOOP ####\n",
        "print(d4['check'])\n",
        "#### TYPE ####\n",
        "print(d4.keys())\n",
        "print(d4.items())\n",
        "print(type(d2.keys()))\n",
        "print(type(d2.items()))\n",
        "#### SIGNATURE #########\n",
        "n=[4, 5, 7, 9, 2, 3, 4, 5, 2, 1, 9, 6, 7, 0]\n",
        "n.pop()\n",
        "n.sort()\n"
      ]
    },
    {
      "cell_type": "code",
      "execution_count": null,
      "id": "a64cb675",
      "metadata": {
        "id": "a64cb675"
      },
      "outputs": [],
      "source": [
        "d2 = { \"k1\" :\"fsdfs\" , \"k2 \" : [4,5,56]}"
      ]
    },
    {
      "cell_type": "code",
      "execution_count": null,
      "id": "98a20a59",
      "metadata": {
        "id": "98a20a59"
      },
      "outputs": [],
      "source": [
        "l = d2.keys()"
      ]
    },
    {
      "cell_type": "code",
      "execution_count": null,
      "id": "185a92a9",
      "metadata": {
        "id": "185a92a9",
        "outputId": "49f5381d-2451-4079-d7ec-631d91250b52"
      },
      "outputs": [
        {
          "data": {
            "text/plain": [
              "'k1'"
            ]
          },
          "execution_count": 29,
          "metadata": {},
          "output_type": "execute_result"
        }
      ],
      "source": [
        "list(l)[0]"
      ]
    },
    {
      "cell_type": "code",
      "execution_count": null,
      "id": "7d41c824",
      "metadata": {
        "id": "7d41c824"
      },
      "outputs": [],
      "source": [
        "n=[4, 5, 7, 9, 2, 3, 4, 5, 2, 1, 9, 6, 7, 0]\n",
        "n.pop()\n",
        "n.sort()"
      ]
    },
    {
      "cell_type": "code",
      "execution_count": null,
      "id": "93683d30",
      "metadata": {
        "id": "93683d30"
      },
      "outputs": [],
      "source": [
        "s = { 1,2,None, 3,4}"
      ]
    },
    {
      "cell_type": "code",
      "execution_count": null,
      "id": "a2142043",
      "metadata": {
        "id": "a2142043"
      },
      "outputs": [],
      "source": [
        "l = [3,4,5,6,7, [23,456,67,8,78,78], [345,56,87,8,98,9],(234,6657,6),{'key1':'sudh', 234:[]}]\n",
        "umesh\n",
        "1\n",
        "l = [1,2,3,4,5,6,7,[11,22,33,44,55,66],111,222,333,'umesh']\n",
        "l\n",
        "1\n",
        "l\n",
        "[1, 2, 3, 4, 5, 6, 7, [11, 22, 33, 44, 55, 66], 111, 222, 333, 'umesh']\n",
        "3\n",
        "1\n",
        "l.remove(3)\n",
        "l\n",
        "1\n",
        "l\n",
        "[1, 2, 4, 5, 6, 7, [11, 22, 33, 44, 55, 66], 111, 222, 333, 'umesh']\n",
        "2\n",
        "1\n",
        "l.remove(2)\n",
        "l\n",
        "1\n",
        "l\n",
        "[1, 4, 5, 6, 7, [11, 22, 33, 44, 55, 66], 111, 222, 333, 'umesh']\n"
      ]
    },
    {
      "cell_type": "code",
      "execution_count": null,
      "id": "148512dd",
      "metadata": {
        "id": "148512dd"
      },
      "outputs": [],
      "source": [
        "l = [10,2,3,4,5,6,7,[11,22,33,44,55,66],111,222,333,'umesh']"
      ]
    },
    {
      "cell_type": "code",
      "execution_count": null,
      "id": "9f725819",
      "metadata": {
        "id": "9f725819"
      },
      "outputs": [],
      "source": [
        "l.remove(10)"
      ]
    },
    {
      "cell_type": "code",
      "execution_count": null,
      "id": "95328172",
      "metadata": {
        "id": "95328172",
        "outputId": "c40ada6e-646d-4f16-9780-008806a7983d"
      },
      "outputs": [
        {
          "data": {
            "text/plain": [
              "[2, 3, 4, 5, 6, 7, [11, 22, 33, 44, 55, 66], 111, 222, 333, 'umesh']"
            ]
          },
          "execution_count": 39,
          "metadata": {},
          "output_type": "execute_result"
        }
      ],
      "source": [
        "l"
      ]
    },
    {
      "cell_type": "code",
      "execution_count": null,
      "id": "c1b6beae",
      "metadata": {
        "id": "c1b6beae",
        "outputId": "71f6d1d5-a55d-4fa7-a398-8ab9aa6d10c3"
      },
      "outputs": [
        {
          "name": "stdout",
          "output_type": "stream",
          "text": [
            "1\n",
            "5\n",
            "asdf\n"
          ]
        },
        {
          "ename": "IndexError",
          "evalue": "list index out of range",
          "output_type": "error",
          "traceback": [
            "\u001b[1;31m---------------------------------------------------------------------------\u001b[0m",
            "\u001b[1;31mIndexError\u001b[0m                                Traceback (most recent call last)",
            "\u001b[1;32m~\\AppData\\Local\\Temp/ipykernel_17348/1981221033.py\u001b[0m in \u001b[0;36m<module>\u001b[1;34m\u001b[0m\n\u001b[0;32m      3\u001b[0m     \u001b[1;32mif\u001b[0m \u001b[0mtype\u001b[0m\u001b[1;33m(\u001b[0m\u001b[0mi\u001b[0m\u001b[1;33m)\u001b[0m \u001b[1;33m==\u001b[0m \u001b[0mlist\u001b[0m\u001b[1;33m:\u001b[0m\u001b[1;33m\u001b[0m\u001b[1;33m\u001b[0m\u001b[0m\n\u001b[0;32m      4\u001b[0m         \u001b[1;32mfor\u001b[0m \u001b[0mj\u001b[0m \u001b[1;32min\u001b[0m \u001b[0mrange\u001b[0m\u001b[1;33m(\u001b[0m\u001b[0mlen\u001b[0m\u001b[1;33m(\u001b[0m\u001b[0mi\u001b[0m\u001b[1;33m)\u001b[0m\u001b[1;33m-\u001b[0m\u001b[1;36m1\u001b[0m\u001b[1;33m)\u001b[0m\u001b[1;33m:\u001b[0m\u001b[1;33m\u001b[0m\u001b[1;33m\u001b[0m\u001b[0m\n\u001b[1;32m----> 5\u001b[1;33m             \u001b[0mprint\u001b[0m\u001b[1;33m(\u001b[0m\u001b[0mi\u001b[0m\u001b[1;33m[\u001b[0m\u001b[0mj\u001b[0m\u001b[1;33m]\u001b[0m\u001b[1;33m)\u001b[0m\u001b[1;33m\u001b[0m\u001b[1;33m\u001b[0m\u001b[0m\n\u001b[0m\u001b[0;32m      6\u001b[0m             \u001b[1;32mwhile\u001b[0m \u001b[0mtype\u001b[0m\u001b[1;33m(\u001b[0m\u001b[0mi\u001b[0m\u001b[1;33m[\u001b[0m\u001b[0mj\u001b[0m\u001b[1;33m]\u001b[0m\u001b[1;33m)\u001b[0m \u001b[1;33m==\u001b[0m \u001b[0mstr\u001b[0m\u001b[1;33m:\u001b[0m\u001b[1;33m\u001b[0m\u001b[1;33m\u001b[0m\u001b[0m\n\u001b[0;32m      7\u001b[0m                 \u001b[0mi\u001b[0m\u001b[1;33m.\u001b[0m\u001b[0mremove\u001b[0m\u001b[1;33m(\u001b[0m\u001b[0mi\u001b[0m\u001b[1;33m[\u001b[0m\u001b[0mj\u001b[0m\u001b[1;33m]\u001b[0m\u001b[1;33m)\u001b[0m\u001b[1;33m\u001b[0m\u001b[1;33m\u001b[0m\u001b[0m\n",
            "\u001b[1;31mIndexError\u001b[0m: list index out of range"
          ]
        }
      ],
      "source": [
        "l=[1,'a','d',[1,5,'asdf','zswe','aa',345],45,\"dfg\",['s','d',1,2,3],'k']\n",
        "for i in l:\n",
        "    if type(i) == list:\n",
        "        for j in range(len(i)-1):\n",
        "            print(i[j])\n",
        "            while type(i[j]) == str:\n",
        "                i.remove(i[j])\n",
        "print(l)"
      ]
    },
    {
      "cell_type": "code",
      "execution_count": null,
      "id": "96e1aa6e",
      "metadata": {
        "id": "96e1aa6e"
      },
      "outputs": [],
      "source": [
        ""
      ]
    }
  ],
  "metadata": {
    "kernelspec": {
      "display_name": "Python 3 (ipykernel)",
      "language": "python",
      "name": "python3"
    },
    "language_info": {
      "codemirror_mode": {
        "name": "ipython",
        "version": 3
      },
      "file_extension": ".py",
      "mimetype": "text/x-python",
      "name": "python",
      "nbconvert_exporter": "python",
      "pygments_lexer": "ipython3",
      "version": "3.9.7"
    },
    "colab": {
      "name": "L # 6-- List , tuples , dict , set .ipynb",
      "provenance": [],
      "include_colab_link": true
    }
  },
  "nbformat": 4,
  "nbformat_minor": 5
}